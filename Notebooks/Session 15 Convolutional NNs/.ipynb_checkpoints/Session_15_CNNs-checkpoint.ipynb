{
 "cells": [
  {
   "cell_type": "markdown",
   "metadata": {},
   "source": [
    "# Session 15: Image classification with Convolutional NNs\n",
    "\n",
    "------------------------------------------------------\n",
    "*Introduction to Data Science & Machine Learning*\n",
    "\n",
    "*Pablo M. Olmos olmos@tsc.uc3m.es*\n",
    "\n",
    "------------------------------------------------------\n",
    "\n",
    "Goals for today:\n",
    "    - Train an MNIST image classifier based on CNNs\n",
    "   \n",
    "\n",
    "\n",
    "This is a personal wrap-up of all the material provided by [Google's Deep Learning course on Udacity](https://www.udacity.com/course/deep-learning--ud730), so all credit goes to them. "
   ]
  },
  {
   "cell_type": "markdown",
   "metadata": {},
   "source": [
    "# On convolutional NNs\n",
    "\n",
    "- Check out the [following slides](http://www.ucsp.edu.pe/ciet/mlss16/file/shlens.pdf)\n",
    "\n",
    "- The following [paper](https://arxiv.org/pdf/1603.07285v1.pdf) is very nice to understand the arithmetic of convolution operations in 2D\n",
    "\n",
    "- Check out the following video for a quick introduction to CNNs"
   ]
  },
  {
   "cell_type": "code",
   "execution_count": 1,
   "metadata": {},
   "outputs": [
    {
     "data": {
      "image/jpeg": "[encoded data removed]",
      "text/html": [
       "\n",
       "        <iframe\n",
       "            width=\"400\"\n",
       "            height=\"300\"\n",
       "            src=\"https://www.youtube.com/embed/jajksuQW4mc\"\n",
       "            frameborder=\"0\"\n",
       "            allowfullscreen\n",
       "        ></iframe>\n",
       "        "
      ],
      "text/plain": [
       "<IPython.lib.display.YouTubeVideo at 0x108c0aa20>"
      ]
     },
     "execution_count": 1,
     "metadata": {},
     "output_type": "execute_result"
    }
   ],
   "source": [
    "from IPython.display import YouTubeVideo\n",
    "\n",
    "YouTubeVideo('jajksuQW4mc') "
   ]
  },
  {
   "cell_type": "code",
   "execution_count": 1,
   "metadata": {
    "collapsed": true
   },
   "outputs": [],
   "source": [
    "# These are all the modules we'll be using later. Make sure you can import them\n",
    "# before proceeding further.\n",
    "import numpy as np\n",
    "import tensorflow as tf\n",
    "from six.moves import cPickle as pickle\n",
    "from six.moves import range\n",
    "from IPython.display import display, Image\n",
    "import matplotlib.pyplot as plt\n",
    "# Config the matlotlib backend as plotting inline in IPython\n",
    "%matplotlib inline\n"
   ]
  },
  {
   "cell_type": "code",
   "execution_count": 2,
   "metadata": {},
   "outputs": [
    {
     "name": "stdout",
     "output_type": "stream",
     "text": [
      "1.3.0\n"
     ]
    }
   ],
   "source": [
    "# Lets check what version of tensorflow we have installed. The provided scripts should run with tf 1.0 and above\n",
    "\n",
    "print(tf.__version__)"
   ]
  },
  {
   "cell_type": "markdown",
   "metadata": {},
   "source": [
    "## Loading MNIST database"
   ]
  },
  {
   "cell_type": "code",
   "execution_count": 3,
   "metadata": {},
   "outputs": [
    {
     "name": "stderr",
     "output_type": "stream",
     "text": [
      "/Users/olmos/anaconda3/lib/python3.6/site-packages/sklearn/cross_validation.py:41: DeprecationWarning: This module was deprecated in version 0.18 in favor of the model_selection module into which all the refactored classes and functions are moved. Also note that the interface of the new CV iterators are different from that of this module. This module will be removed in 0.20.\n",
      "  \"This module will be removed in 0.20.\", DeprecationWarning)\n"
     ]
    }
   ],
   "source": [
    "from sklearn.datasets import fetch_mldata\n",
    "from sklearn.cross_validation import train_test_split\n",
    "mnist = fetch_mldata('MNIST original')"
   ]
  },
  {
   "cell_type": "code",
   "execution_count": 5,
   "metadata": {
    "collapsed": true
   },
   "outputs": [],
   "source": [
    "images = mnist.data.astype(np.float32)\n",
    "labels = mnist.target\n",
    "\n",
    "train_dataset,test_dataset,train_labels,test_labels = train_test_split(images, labels, test_size=0.33, random_state=42)\n",
    "\n",
    "train_dataset,valid_dataset,train_labels,valid_labels = train_test_split(train_dataset, train_labels, test_size=0.33, random_state=42)\n",
    "\n",
    "# Separate a smaller data set for training (20000 images) \n",
    "N = 20000\n",
    "\n",
    "train_dataset = train_dataset[:N,:]\n",
    "train_labels = train_labels[:N]"
   ]
  },
  {
   "cell_type": "markdown",
   "metadata": {},
   "source": [
    "### Reformat labels as 1-hot encodings and images into tensors\n",
    "\n",
    "**Take care! Input image set is now a 4-dimensional tensor! num_images $\\times$ image_width $\\times$ image_height $\\times$ num_channels**\n",
    "\n",
    "For gray-scale MNIST images, the number of imput channels is one"
   ]
  },
  {
   "cell_type": "code",
   "execution_count": 6,
   "metadata": {},
   "outputs": [
    {
     "name": "stdout",
     "output_type": "stream",
     "text": [
      "Training set (20000, 28, 28, 1) (20000, 10)\n",
      "Validation set (15477, 28, 28, 1) (15477, 10)\n",
      "Test set (23100, 28, 28, 1) (23100, 10)\n"
     ]
    }
   ],
   "source": [
    "image_size = 28\n",
    "num_labels = 10\n",
    "num_channels = 1 # grayscale\n",
    "\n",
    "import numpy as np\n",
    "\n",
    "def reformat(dataset, labels):\n",
    "    dataset = dataset.reshape((-1, image_size, image_size, num_channels)).astype(np.float32)\n",
    "    labels = (np.arange(num_labels) == labels[:,None]).astype(np.float32)\n",
    "    return dataset, labels\n",
    "\n",
    "train_dataset, train_labels = reformat(train_dataset, train_labels)\n",
    "valid_dataset, valid_labels = reformat(valid_dataset, valid_labels)\n",
    "test_dataset, test_labels = reformat(test_dataset, test_labels)\n",
    "print('Training set', train_dataset.shape, train_labels.shape)\n",
    "print('Validation set', valid_dataset.shape, valid_labels.shape)\n",
    "print('Test set', test_dataset.shape, test_labels.shape)"
   ]
  },
  {
   "cell_type": "code",
   "execution_count": 7,
   "metadata": {
    "collapsed": true
   },
   "outputs": [],
   "source": [
    "def accuracy(predictions, labels):\n",
    "    return (100.0 * np.sum(np.argmax(predictions, 1) == np.argmax(labels, 1))\n",
    "          / predictions.shape[0])"
   ]
  },
  {
   "cell_type": "markdown",
   "metadata": {},
   "source": [
    "\n",
    "\n",
    "Let's build a small network with two convolutional layers, followed by one fully connected layer. Convolutional networks are more expensive to train computationally, so we'll limit its depth and number of fully connected nodes.\n"
   ]
  },
  {
   "cell_type": "markdown",
   "metadata": {},
   "source": [
    "## Lets train our first CNN\n",
    "\n",
    "Two 5x5 convolutional layers with stride 2 and Relu non-linear layers, followed by a fully connected year with soft-max.\n",
    "\n",
    "<img src=\"CNN1.png\">\n",
    "\n",
    "The number of parameters of the network is:\n",
    "\n",
    "- First convolutional Layer: 1 x 16 x 5 x 5 = 400 parameters (+16 of bias)\n",
    "- Second convolutional Layer: 16 x 16 x 5 x 5 = 6400 parameters (+16 of bias)\n",
    "- Fully Connected Layer: 224 x 64 = 14336 parameters (+64 of bias)\n",
    "- Last fully connected layer: 640 parameters (+10 of bias)\n",
    "\n",
    "** Total: 21882 parameters **\n",
    "\n",
    "The following code implements the above structure step by step. "
   ]
  },
  {
   "cell_type": "code",
   "execution_count": 10,
   "metadata": {
    "collapsed": true
   },
   "outputs": [],
   "source": [
    "batch_size = 128\n",
    "patch_size = 5\n",
    "depth = 16\n",
    "num_hidden = 64\n",
    "\n",
    "graphCC = tf.Graph()\n",
    "\n",
    "with graphCC.as_default():\n",
    "\n",
    "    # Input data.\n",
    "    tf_train_dataset = tf.placeholder(\n",
    "        tf.float32, shape=(batch_size, image_size, image_size, num_channels))\n",
    "    tf_train_labels = tf.placeholder(tf.float32, shape=(batch_size, num_labels))\n",
    "    tf_valid_dataset = tf.constant(valid_dataset)\n",
    "    tf_test_dataset = tf.constant(test_dataset)\n",
    "  \n",
    "    # Variables.\n",
    "    layer1_weights = tf.Variable(tf.truncated_normal(\n",
    "          [patch_size, patch_size, num_channels, depth], stddev=0.1))\n",
    "    layer1_biases = tf.Variable(tf.zeros([depth]))\n",
    "    \n",
    "    layer2_weights = tf.Variable(tf.truncated_normal(\n",
    "      [patch_size, patch_size, depth, depth], stddev=0.1))\n",
    "    \n",
    "    layer2_biases = tf.Variable(tf.constant(1.0, shape=[depth]))\n",
    "    \n",
    "    layer3_weights = tf.Variable(tf.truncated_normal(\n",
    "      [image_size // 4 * image_size // 4 * depth, num_hidden], stddev=0.1)) ##Stride =2 !!\n",
    "    \n",
    "    layer3_biases = tf.Variable(tf.constant(1.0, shape=[num_hidden]))\n",
    "    \n",
    "    layer4_weights = tf.Variable(tf.truncated_normal(\n",
    "          [num_hidden, num_labels], stddev=0.1))\n",
    "    layer4_biases = tf.Variable(tf.constant(1.0, shape=[num_labels]))\n",
    "    \n",
    "    # Model.\n",
    "    def model(data):\n",
    "        conv = tf.nn.conv2d(data, layer1_weights, [1, 2, 2, 1], padding='SAME')\n",
    "        hidden = tf.nn.relu(conv + layer1_biases)\n",
    "        conv = tf.nn.conv2d(hidden, layer2_weights, [1, 2, 2, 1], padding='SAME')\n",
    "        hidden = tf.nn.relu(conv + layer2_biases)\n",
    "        shape = hidden.get_shape().as_list()\n",
    "        reshape = tf.reshape(hidden, [shape[0], shape[1] * shape[2] * shape[3]])\n",
    "        hidden = tf.nn.relu(tf.matmul(reshape, layer3_weights) + layer3_biases)\n",
    "        return tf.matmul(hidden, layer4_weights) + layer4_biases   \n",
    "    \n",
    "    # Training computation.\n",
    "    logits = model(tf_train_dataset)\n",
    "    loss = tf.reduce_mean(\n",
    "        tf.nn.softmax_cross_entropy_with_logits(labels=tf_train_labels,logits=logits))\n",
    "    \n",
    "    # Optimizer.\n",
    "    optimizer = tf.train.AdamOptimizer(learning_rate=5e-03).minimize(loss) \n",
    "    \n",
    "    # Predictions for the training, validation, and test data.\n",
    "    train_prediction = tf.nn.softmax(logits)\n",
    "    valid_prediction = tf.nn.softmax(model(tf_valid_dataset))\n",
    "    test_prediction = tf.nn.softmax(model(tf_test_dataset))    "
   ]
  },
  {
   "cell_type": "code",
   "execution_count": 12,
   "metadata": {},
   "outputs": [
    {
     "name": "stdout",
     "output_type": "stream",
     "text": [
      "Initialized\n",
      "Minibatch loss at step 0: 33.329277\n",
      "Minibatch accuracy: 7.0%\n",
      "Validation accuracy: 22.8%\n",
      "Minibatch loss at step 100: 0.458786\n",
      "Minibatch accuracy: 85.9%\n",
      "Validation accuracy: 90.0%\n",
      "Minibatch loss at step 200: 0.136763\n",
      "Minibatch accuracy: 96.1%\n",
      "Validation accuracy: 93.7%\n",
      "Minibatch loss at step 300: 0.104762\n",
      "Minibatch accuracy: 95.3%\n",
      "Validation accuracy: 94.7%\n",
      "Minibatch loss at step 400: 0.064228\n",
      "Minibatch accuracy: 97.7%\n",
      "Validation accuracy: 95.0%\n",
      "Minibatch loss at step 500: 0.032896\n",
      "Minibatch accuracy: 98.4%\n",
      "Validation accuracy: 94.9%\n",
      "Minibatch loss at step 600: 0.032589\n",
      "Minibatch accuracy: 98.4%\n",
      "Validation accuracy: 95.0%\n",
      "Minibatch loss at step 700: 0.031264\n",
      "Minibatch accuracy: 98.4%\n",
      "Validation accuracy: 95.9%\n",
      "Minibatch loss at step 800: 0.050192\n",
      "Minibatch accuracy: 99.2%\n",
      "Validation accuracy: 95.7%\n",
      "Minibatch loss at step 900: 0.112647\n",
      "Minibatch accuracy: 97.7%\n",
      "Validation accuracy: 95.5%\n",
      "Minibatch loss at step 1000: 0.053108\n",
      "Minibatch accuracy: 99.2%\n",
      "Validation accuracy: 96.2%\n",
      "Test accuracy: 96.2%\n"
     ]
    }
   ],
   "source": [
    "num_steps = 1001\n",
    "\n",
    "with tf.Session(graph=graphCC) as session:\n",
    "    tf.global_variables_initializer().run()\n",
    "    print('Initialized')\n",
    "    for step in range(num_steps):\n",
    "        offset = (step * batch_size) % (train_labels.shape[0] - batch_size)\n",
    "        batch_data = train_dataset[offset:(offset + batch_size), :, :, :]\n",
    "        batch_labels = train_labels[offset:(offset + batch_size), :]\n",
    "        feed_dict = {tf_train_dataset : batch_data, tf_train_labels : batch_labels}\n",
    "        _, l, predictions = session.run(\n",
    "              [optimizer, loss, train_prediction], feed_dict=feed_dict)\n",
    "        if (step % 100 == 0):\n",
    "            print('Minibatch loss at step %d: %f' % (step, l))\n",
    "            print('Minibatch accuracy: %.1f%%' % accuracy(predictions, batch_labels))\n",
    "            print('Validation accuracy: %.1f%%' % accuracy(\n",
    "                valid_prediction.eval(), valid_labels))\n",
    "        \n",
    "    print('Test accuracy: %.1f%%' % accuracy(test_prediction.eval(), test_labels))"
   ]
  },
  {
   "cell_type": "markdown",
   "metadata": {},
   "source": [
    "## A more complicated CNN: Le-Net 5\n",
    "\n",
    "The goal is to implement the following network\n",
    "\n",
    "<img src=\"CNN2.png\">\n",
    "\n",
    "The number of parameters of the network is:\n",
    "\n",
    "- First convolutional Layer: 1 x 16 x 5 x 5 = 400 parameters (+16 of bias)\n",
    "- Second convolutional Layer: 16 x 64 x 5 x 5 = 25600 parameters (+64 of bias)\n",
    "- **Fully Connected Layer:  3136 x 128 = 401408 parameters (+128 of bias)**\n",
    "- Fully Connected Layer: 128 x 128 = 16384 parameters (+128 of bias)\n",
    "- Last fully connected layer: 1280 parameters (+10 of bias)\n",
    "\n",
    "** Total: 445418 parameters **\n"
   ]
  },
  {
   "cell_type": "markdown",
   "metadata": {},
   "source": [
    "We will introduce dropout and [max pooling](http://cs231n.github.io/convolutional-networks/#pool) (instead of stride 2 convolution)"
   ]
  },
  {
   "cell_type": "code",
   "execution_count": 22,
   "metadata": {},
   "outputs": [],
   "source": [
    "batch_size = 128\n",
    "patch_size = 5\n",
    "depth = 16\n",
    "depth_2 = 64\n",
    "num_hidden = 128\n",
    "drop_out = 0.5\n",
    "\n",
    "graph_CC_LeNet5_v2 = tf.Graph()\n",
    "\n",
    "with graph_CC_LeNet5_v2.as_default():\n",
    "\n",
    "    global_step = tf.Variable(0)\n",
    "    \n",
    "    # Input data.\n",
    "    tf_train_dataset = tf.placeholder(\n",
    "        tf.float32, shape=(batch_size, image_size, image_size, num_channels))\n",
    "    tf_train_labels = tf.placeholder(tf.float32, shape=(batch_size, num_labels))\n",
    "    tf_valid_dataset = tf.constant(valid_dataset)\n",
    "    tf_test_dataset = tf.constant(test_dataset)\n",
    "  \n",
    "    # Variables.\n",
    "    layer1_weights = tf.Variable(tf.truncated_normal(\n",
    "          [patch_size, patch_size, num_channels, depth], stddev=0.1))\n",
    "    layer1_biases = tf.Variable(tf.zeros([depth]))\n",
    "    \n",
    "    layer2_weights = tf.Variable(tf.truncated_normal(\n",
    "          [patch_size, patch_size, depth, depth_2], stddev=0.1))\n",
    "    layer2_biases = tf.Variable(tf.constant(1.0, shape=[depth_2]))\n",
    "\n",
    "    #size3 = ((image_size - patch_size + 1) // 2 - patch_size + 1) // 2      #VALID PADDING, AVG_POOL=2\n",
    "    \n",
    "    size3 = image_size// 4   #SAME PADDING, AVG_POOL=2\n",
    "    \n",
    "    layer3_weights = tf.Variable(tf.truncated_normal([size3 * size3 * depth_2, num_hidden], stddev=0.1))\n",
    "    layer3_biases = tf.Variable(tf.constant(1.0, shape=[num_hidden]))\n",
    "    layer4_weights = tf.Variable(tf.truncated_normal(\n",
    "          [num_hidden, num_hidden], stddev=0.1))\n",
    "    layer4_biases = tf.Variable(tf.constant(1.0, shape=[num_hidden]))\n",
    "    layer5_weights = tf.Variable(tf.truncated_normal(\n",
    "          [num_hidden, num_labels], stddev=0.1))\n",
    "    layer5_biases = tf.Variable(tf.constant(1.0, shape=[num_labels]))    \n",
    "  \n",
    "    # Model.\n",
    "    \n",
    "    pad='SAME'\n",
    "    \n",
    "    def model_pol_2(data,prob):\n",
    "        # C1 input 28 x 28\n",
    "        conv1 = tf.nn.conv2d(data, layer1_weights, [1, 1, 1, 1], padding=pad)\n",
    "        bias1 = tf.nn.relu(conv1 + layer1_biases)\n",
    "        # S2 input 24 x 24\n",
    "        pool2 = tf.nn.max_pool(bias1, [1, 2, 2, 1], [1, 2, 2, 1], padding=pad)\n",
    "        # C3 input 12 x 12\n",
    "        conv3 = tf.nn.conv2d(pool2, layer2_weights, [1, 1, 1, 1], padding=pad)\n",
    "        bias3 = tf.nn.relu(conv3 + layer2_biases)\n",
    "        # S4 input 8 x 8\n",
    "        pool4 = tf.nn.max_pool(bias3, [1, 2, 2, 1], [1, 2, 2, 1], padding=pad)\n",
    "        # F5 input 4 x 4\n",
    "        shape = pool4.get_shape().as_list()\n",
    "        reshape = tf.reshape(pool4, [shape[0], shape[1] * shape[2] * shape[3]])\n",
    "        hidden5 = tf.nn.relu(tf.matmul(reshape, layer3_weights) + layer3_biases)\n",
    "        #F6\n",
    "        drop5=tf.nn.dropout(hidden5,prob)\n",
    "        hidden6=tf.nn.relu(tf.matmul(hidden5,layer4_weights)+layer4_biases)\n",
    "        #drop6=tf.nn.dropout(hidden6,prob)\n",
    "        return tf.matmul(hidden6, layer5_weights) + layer5_biases\n",
    "  \n",
    "    # Training computation.\n",
    "    logits = model_pol_2(tf_train_dataset,drop_out)\n",
    "    loss = tf.reduce_mean(\n",
    "        tf.nn.softmax_cross_entropy_with_logits(labels=tf_train_labels,logits=logits))\n",
    "    \n",
    "    # Optimizer.\n",
    "    optimizer = tf.train.AdamOptimizer(learning_rate=5e-03).minimize(loss) \n",
    "    \n",
    "    # Predictions for the training, validation, and test data.\n",
    "    train_prediction = tf.nn.softmax(logits)\n",
    "    # DROP_OUT is only used in TRAINING!!!\n",
    "    valid_prediction = tf.nn.softmax(model_pol_2(tf_valid_dataset,1.))\n",
    "    test_prediction = tf.nn.softmax(model_pol_2(tf_test_dataset,1.))\n",
    "\n"
   ]
  },
  {
   "cell_type": "code",
   "execution_count": 23,
   "metadata": {
    "scrolled": false
   },
   "outputs": [
    {
     "name": "stdout",
     "output_type": "stream",
     "text": [
      "Initialized\n",
      "Minibatch loss at step 0: 208.704529\n",
      "Minibatch accuracy: 11.7%\n",
      "Validation accuracy: 14.5%\n",
      "Minibatch loss at step 100: 0.272914\n",
      "Minibatch accuracy: 91.4%\n",
      "Validation accuracy: 91.2%\n",
      "Minibatch loss at step 200: 0.165754\n",
      "Minibatch accuracy: 95.3%\n",
      "Validation accuracy: 94.5%\n",
      "Test accuracy: 94.5%\n"
     ]
    }
   ],
   "source": [
    "num_steps = 201\n",
    "\n",
    "with tf.Session(graph=graph_CC_LeNet5_v2) as session:\n",
    "    tf.global_variables_initializer().run()\n",
    "    print('Initialized')\n",
    "    for step in range(num_steps):\n",
    "        offset = (step * batch_size) % (train_labels.shape[0] - batch_size)\n",
    "        batch_data = train_dataset[offset:(offset + batch_size), :, :, :]\n",
    "        batch_labels = train_labels[offset:(offset + batch_size), :]\n",
    "        feed_dict = {tf_train_dataset : batch_data, tf_train_labels : batch_labels}\n",
    "        _, l, predictions = session.run(\n",
    "              [optimizer, loss, train_prediction], feed_dict=feed_dict)\n",
    "        if (step % 100 == 0):\n",
    "            print('Minibatch loss at step %d: %f' % (step, l))\n",
    "            print('Minibatch accuracy: %.1f%%' % accuracy(predictions, batch_labels))\n",
    "            print('Validation accuracy: %.1f%%' % accuracy(\n",
    "                valid_prediction.eval(), valid_labels))\n",
    "        \n",
    "    print('Test accuracy: %.1f%%' % accuracy(test_prediction.eval(), test_labels))"
   ]
  },
  {
   "cell_type": "code",
   "execution_count": null,
   "metadata": {
    "collapsed": true
   },
   "outputs": [],
   "source": []
  }
 ],
 "metadata": {
  "anaconda-cloud": {},
  "kernelspec": {
   "display_name": "Python 3",
   "language": "python",
   "name": "python3"
  },
  "language_info": {
   "codemirror_mode": {
    "name": "ipython",
    "version": 3
   },
   "file_extension": ".py",
   "mimetype": "text/x-python",
   "name": "python",
   "nbconvert_exporter": "python",
   "pygments_lexer": "ipython3",
   "version": "3.6.5"
  }
 },
 "nbformat": 4,
 "nbformat_minor": 1
}
