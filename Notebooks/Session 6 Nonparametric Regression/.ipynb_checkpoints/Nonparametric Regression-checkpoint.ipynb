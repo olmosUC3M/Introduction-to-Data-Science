{
 "cells": [
  {
   "cell_type": "markdown",
   "metadata": {},
   "source": [
    "# Introduction to nonparametric regression\n",
    "\n",
    "\n",
    "------------------------------------------------------\n",
    "*ATDST, 2017-2018*\n",
    "\n",
    "*Pablo M. Olmos olmos@tsc.uc3m.es*\n",
    "\n",
    "------------------------------------------------------\n",
    "\n",
    "Today, we will study a different approach to perform regression. In a nutshell, nonparametric models refer to such methods for which the complexity of the underlying model to perform the task (e.g. regression for us) **grows with the number of datapoints we use to train**.\n",
    "\n",
    "Note that this is in contrast to the linear regression models we have seen before, for which we first had to decide the interpolation function (e.g. a degree-5 polynomial) and then train the model. However, the complexity of the model itself does not vary as we increase the number of points in the dataset. It is always a degree-5 polynomial. This **does not happen with nonparametric models**.\n",
    "\n",
    "Lets start with a simple method to perform nonparametric regression: [**K-nearest neighbors (K-NN)for regression**](http://scikit-learn.org/stable/auto_examples/neighbors/plot_regression.html).\n",
    "\n",
    "----"
   ]
  },
  {
   "cell_type": "markdown",
   "metadata": {},
   "source": [
    "## K-NN regression\n",
    "\n",
    "Consider we have a **training** database of $N$ entries of the form $(\\mathbf{x}^{(i)},y^{(i)})$, where $\\mathbf{x}^{(i)}\\in\\mathbb{R}^D$ and $y^{(i)}\\in\\mathbb{R}$. \n",
    "\n",
    "In K-NN regression, given a new point $\\mathbf{x}^*$ the estimated target $y^*$ is computed as follows:\n",
    "\n",
    "\\begin{align}\n",
    "y^* \\approx \\frac{1}{K}\\sum_{k\\in \\mathcal{S}_{K}(\\mathbf{x}^*)} y^{(k)},\n",
    "\\end{align}\n",
    "where $\\mathcal{S}_{K}$ is the set of the **$K$ training points that are closest to $\\mathbf{x}^*$ according to a given distance metric $d(\\mathbf{x}^{(i)},\\mathbf{x}^*)$**. For instance, in real spaces the most common choice is the **ecludean distance**:\n",
    "\n",
    "\\begin{align}\n",
    "d(\\mathbf{x}^{(i)},\\mathbf{x}^*) = \\left|\\left|\\mathbf{x}^{(i)}-\\mathbf{x}^*\\right|\\right|^2\n",
    "\\end{align}\n",
    "\n",
    "There are many variants of the above expression. For instance, we can **weight differently the regression values according to the distance**. In this way, the closest points has a bigger influence in the regression value:\n",
    "\n",
    "\\begin{align}\n",
    "y^* \\approx \\frac{1}{K}\\sum_{k\\in \\mathcal{S}_{K}(\\mathbf{x}^*)} \\frac{d(\\mathbf{x}^{(k)},\\mathbf{x}^*)}{\\sum_{q\\in \\mathcal{S}_{K}(\\mathbf{x}^*)} d(\\mathbf{x}^{(q)},\\mathbf{x}^*)} y^{(k)},\n",
    "\\end{align}"
   ]
  },
  {
   "cell_type": "markdown",
   "metadata": {},
   "source": [
    "### K-NN complexity\n",
    "\n",
    "Note that complexity is determined by the [**search of the set of closest neighbors**](https://en.wikipedia.org/wiki/Nearest_neighbor_search). This complexity grows as $\\mathcal{O}(DN)$, where $D$ is the dimension and $N$ is the number of points.\n",
    "\n",
    "Researches in computer science have developed many approximate lower-complexity algorithms to perform this task in high dimension spaces. The most common ones are [**k-d trees**](https://en.wikipedia.org/wiki/K-d_tree) and [**Local Sensitive Hashing**](https://en.wikipedia.org/wiki/Locality-sensitive_hashing).\n",
    "\n"
   ]
  },
  {
   "cell_type": "markdown",
   "metadata": {},
   "source": [
    "### Example of K-NN regression with sklearn\n",
    "\n",
    "Lets analyze the behavior of K-NN with a simple 1-D regression example."
   ]
  },
  {
   "cell_type": "code",
   "execution_count": 30,
   "metadata": {
    "collapsed": true
   },
   "outputs": [],
   "source": [
    "import numpy as np\n",
    "import matplotlib.pyplot as plt\n",
    "from sklearn import neighbors\n",
    "\n",
    "%matplotlib inline\n",
    "\n",
    "# use seaborn plotting defaults\n",
    "import seaborn as sns; sns.set()\n",
    "plt.rcParams[\"figure.figsize\"] = [8,8]"
   ]
  },
  {
   "cell_type": "code",
   "execution_count": 69,
   "metadata": {},
   "outputs": [],
   "source": [
    "np.random.seed(0)\n",
    "\n",
    "N_train = 30\n",
    "R = 10\n",
    "Xtrain = np.sort(np.random.uniform(-R,R,N_train), axis=0)       #Training points\n",
    "\n",
    "Xtest = np.linspace(1e-3,15,500)      #Test points\n",
    "\n",
    "def noise_sinc(X):\n",
    "    Y = np.sin(X)/np.pi/X + np.sqrt(1e-03) * np.random.randn(X.shape[0])\n",
    "    return Y\n",
    "\n",
    "Ytrain = noise_sinc(Xtrain,SNR)\n",
    "Ytest = noise_sinc(Xtest,SNR)"
   ]
  },
  {
   "cell_type": "code",
   "execution_count": 39,
   "metadata": {},
   "outputs": [
    {
     "ename": "NameError",
     "evalue": "name 'X' is not defined",
     "output_type": "error",
     "traceback": [
      "\u001b[0;31m---------------------------------------------------------------------------\u001b[0m",
      "\u001b[0;31mNameError\u001b[0m                                 Traceback (most recent call last)",
      "\u001b[0;32m<ipython-input-39-54914092adae>\u001b[0m in \u001b[0;36m<module>\u001b[0;34m()\u001b[0m\n\u001b[1;32m      3\u001b[0m \u001b[0;34m\u001b[0m\u001b[0m\n\u001b[1;32m      4\u001b[0m \u001b[0mknn\u001b[0m \u001b[0;34m=\u001b[0m \u001b[0mneighbors\u001b[0m\u001b[0;34m.\u001b[0m\u001b[0mKNeighborsRegressor\u001b[0m\u001b[0;34m(\u001b[0m\u001b[0mn_neighbors\u001b[0m\u001b[0;34m,\u001b[0m \u001b[0mweights\u001b[0m\u001b[0;34m=\u001b[0m\u001b[0;34m'uniform'\u001b[0m\u001b[0;34m)\u001b[0m\u001b[0;34m\u001b[0m\u001b[0m\n\u001b[0;32m----> 5\u001b[0;31m \u001b[0mYpred\u001b[0m \u001b[0;34m=\u001b[0m \u001b[0mknn\u001b[0m\u001b[0;34m.\u001b[0m\u001b[0mfit\u001b[0m\u001b[0;34m(\u001b[0m\u001b[0mX\u001b[0m\u001b[0;34m,\u001b[0m \u001b[0my\u001b[0m\u001b[0;34m)\u001b[0m\u001b[0;34m.\u001b[0m\u001b[0mpredict\u001b[0m\u001b[0;34m(\u001b[0m\u001b[0mT\u001b[0m\u001b[0;34m)\u001b[0m\u001b[0;34m\u001b[0m\u001b[0m\n\u001b[0m",
      "\u001b[0;31mNameError\u001b[0m: name 'X' is not defined"
     ]
    }
   ],
   "source": [
    "#K-NN training\n",
    "n_neighbors = 5\n",
    "\n",
    "knn = neighbors.KNeighborsRegressor(n_neighbors, weights='uniform')\n",
    "Ypred = knn.fit(X, y).predict(T)\n"
   ]
  },
  {
   "cell_type": "code",
   "execution_count": 70,
   "metadata": {},
   "outputs": [
    {
     "data": {
      "text/plain": [
       "[<matplotlib.lines.Line2D at 0x1a1be6b6d8>]"
      ]
     },
     "execution_count": 70,
     "metadata": {},
     "output_type": "execute_result"
    },
    {
     "data": {
      "image/png": "[encoded data removed]",
      "text/plain": [
       "<matplotlib.figure.Figure at 0x1a1bc4bcf8>"
      ]
     },
     "metadata": {},
     "output_type": "display_data"
    }
   ],
   "source": [
    "plt.plot(Xtrain,Ytrain,'go',ms=15,label='train')"
   ]
  },
  {
   "cell_type": "code",
   "execution_count": 24,
   "metadata": {},
   "outputs": [
    {
     "ename": "AttributeError",
     "evalue": "'NoneType' object has no attribute 'shape'",
     "output_type": "error",
     "traceback": [
      "\u001b[0;31m---------------------------------------------------------------------------\u001b[0m",
      "\u001b[0;31mAttributeError\u001b[0m                            Traceback (most recent call last)",
      "\u001b[0;32m<ipython-input-24-dff5d3b5ea7e>\u001b[0m in \u001b[0;36m<module>\u001b[0;34m()\u001b[0m\n\u001b[0;32m----> 1\u001b[0;31m \u001b[0mYtrain\u001b[0m\u001b[0;34m.\u001b[0m\u001b[0mshape\u001b[0m\u001b[0;34m\u001b[0m\u001b[0m\n\u001b[0m",
      "\u001b[0;31mAttributeError\u001b[0m: 'NoneType' object has no attribute 'shape'"
     ]
    }
   ],
   "source": [
    "Ytrain.shape"
   ]
  },
  {
   "cell_type": "code",
   "execution_count": null,
   "metadata": {
    "collapsed": true
   },
   "outputs": [],
   "source": []
  }
 ],
 "metadata": {
  "kernelspec": {
   "display_name": "Python 3",
   "language": "python",
   "name": "python3"
  },
  "language_info": {
   "codemirror_mode": {
    "name": "ipython",
    "version": 3
   },
   "file_extension": ".py",
   "mimetype": "text/x-python",
   "name": "python",
   "nbconvert_exporter": "python",
   "pygments_lexer": "ipython3",
   "version": "3.6.3"
  }
 },
 "nbformat": 4,
 "nbformat_minor": 2
}
