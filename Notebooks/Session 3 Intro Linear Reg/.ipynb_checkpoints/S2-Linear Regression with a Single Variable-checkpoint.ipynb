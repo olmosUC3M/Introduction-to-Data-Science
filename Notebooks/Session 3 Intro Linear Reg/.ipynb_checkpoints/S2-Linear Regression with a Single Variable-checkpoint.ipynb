{
 "cells": [
  {
   "cell_type": "markdown",
   "metadata": {},
   "source": [
    "# Session 3: Linear Regression with a single variable.\n",
    "\n",
    "## House sale-value prediction using the Boston housing dataset\n",
    "\n",
    "------------------------------------------------------\n",
    "*ATDST, 2017-2018*\n",
    "\n",
    "*Pablo M. Olmos olmos@tsc.uc3m.es*\n",
    "\n",
    "------------------------------------------------------"
   ]
  },
  {
   "cell_type": "markdown",
   "metadata": {},
   "source": [
    "## Importing Packages"
   ]
  },
  {
   "cell_type": "code",
   "execution_count": 1,
   "metadata": {
    "collapsed": false
   },
   "outputs": [],
   "source": [
    "import matplotlib.pyplot as plt\n",
    "import pandas as pd \n",
    "import numpy as np\n",
    "from sklearn.datasets import load_boston\n",
    "\n",
    "\n",
    "\n",
    "%matplotlib inline"
   ]
  },
  {
   "cell_type": "markdown",
   "metadata": {},
   "source": [
    "### Boston housing database\n",
    "\n",
    "We are going to use as running example for explaining linear regression the following [database](https://archive.ics.uci.edu/ml/machine-learning-databases/housing/housing.names). **We will try to predict the value of houses in the suburbs of Boston during the 80's ussing different features.** \n",
    "\n",
    "Note this is **not** the data set you used for Session 1 and Homework 0, we will back to it for Homework 2.\n",
    "\n",
    "Data is stored in a CVS file containing the following fields\n",
    "\n",
    "\n",
    "Attribute Information can be found [here](https://www.kaggle.com/c/boston-housing).\n"
   ]
  },
  {
   "cell_type": "markdown",
   "metadata": {},
   "source": [
    "### Loading Data\n",
    "\n",
    "We will manage the database using [Panda's library and Dataframes](http://pandas.pydata.org/pandas-docs/stable/tutorials.html)"
   ]
  },
  {
   "cell_type": "code",
   "execution_count": 2,
   "metadata": {
    "collapsed": false
   },
   "outputs": [
    {
     "data": {
      "text/plain": [
       "'0.22.0'"
      ]
     },
     "execution_count": 2,
     "metadata": {},
     "output_type": "execute_result"
    }
   ],
   "source": [
    "#Checking pandas version\n",
    "\n",
    "pd.__version__"
   ]
  },
  {
   "cell_type": "markdown",
   "metadata": {},
   "source": [
    "Let's read the data in a DataFrame"
   ]
  },
  {
   "cell_type": "code",
   "execution_count": 3,
   "metadata": {
    "collapsed": false
   },
   "outputs": [
    {
     "data": {
      "text/html": [
       "<div>\n",
       "<style scoped>\n",
       "    .dataframe tbody tr th:only-of-type {\n",
       "        vertical-align: middle;\n",
       "    }\n",
       "\n",
       "    .dataframe tbody tr th {\n",
       "        vertical-align: top;\n",
       "    }\n",
       "\n",
       "    .dataframe thead th {\n",
       "        text-align: right;\n",
       "    }\n",
       "</style>\n",
       "<table border=\"1\" class=\"dataframe\">\n",
       "  <thead>\n",
       "    <tr style=\"text-align: right;\">\n",
       "      <th></th>\n",
       "      <th>ID</th>\n",
       "      <th>crim</th>\n",
       "      <th>zn</th>\n",
       "      <th>indus</th>\n",
       "      <th>chas</th>\n",
       "      <th>nox</th>\n",
       "      <th>rm</th>\n",
       "      <th>age</th>\n",
       "      <th>dis</th>\n",
       "      <th>rad</th>\n",
       "      <th>tax</th>\n",
       "      <th>ptratio</th>\n",
       "      <th>black</th>\n",
       "      <th>lstat</th>\n",
       "      <th>medv</th>\n",
       "    </tr>\n",
       "  </thead>\n",
       "  <tbody>\n",
       "    <tr>\n",
       "      <th>0</th>\n",
       "      <td>1</td>\n",
       "      <td>0.00632</td>\n",
       "      <td>18.0</td>\n",
       "      <td>2.31</td>\n",
       "      <td>0</td>\n",
       "      <td>0.538</td>\n",
       "      <td>6.575</td>\n",
       "      <td>65.2</td>\n",
       "      <td>4.0900</td>\n",
       "      <td>1</td>\n",
       "      <td>296</td>\n",
       "      <td>15.3</td>\n",
       "      <td>396.90</td>\n",
       "      <td>4.98</td>\n",
       "      <td>24.0</td>\n",
       "    </tr>\n",
       "    <tr>\n",
       "      <th>1</th>\n",
       "      <td>2</td>\n",
       "      <td>0.02731</td>\n",
       "      <td>0.0</td>\n",
       "      <td>7.07</td>\n",
       "      <td>0</td>\n",
       "      <td>0.469</td>\n",
       "      <td>6.421</td>\n",
       "      <td>78.9</td>\n",
       "      <td>4.9671</td>\n",
       "      <td>2</td>\n",
       "      <td>242</td>\n",
       "      <td>17.8</td>\n",
       "      <td>396.90</td>\n",
       "      <td>9.14</td>\n",
       "      <td>21.6</td>\n",
       "    </tr>\n",
       "    <tr>\n",
       "      <th>2</th>\n",
       "      <td>4</td>\n",
       "      <td>0.03237</td>\n",
       "      <td>0.0</td>\n",
       "      <td>2.18</td>\n",
       "      <td>0</td>\n",
       "      <td>0.458</td>\n",
       "      <td>6.998</td>\n",
       "      <td>45.8</td>\n",
       "      <td>6.0622</td>\n",
       "      <td>3</td>\n",
       "      <td>222</td>\n",
       "      <td>18.7</td>\n",
       "      <td>394.63</td>\n",
       "      <td>2.94</td>\n",
       "      <td>33.4</td>\n",
       "    </tr>\n",
       "    <tr>\n",
       "      <th>3</th>\n",
       "      <td>5</td>\n",
       "      <td>0.06905</td>\n",
       "      <td>0.0</td>\n",
       "      <td>2.18</td>\n",
       "      <td>0</td>\n",
       "      <td>0.458</td>\n",
       "      <td>7.147</td>\n",
       "      <td>54.2</td>\n",
       "      <td>6.0622</td>\n",
       "      <td>3</td>\n",
       "      <td>222</td>\n",
       "      <td>18.7</td>\n",
       "      <td>396.90</td>\n",
       "      <td>5.33</td>\n",
       "      <td>36.2</td>\n",
       "    </tr>\n",
       "    <tr>\n",
       "      <th>4</th>\n",
       "      <td>7</td>\n",
       "      <td>0.08829</td>\n",
       "      <td>12.5</td>\n",
       "      <td>7.87</td>\n",
       "      <td>0</td>\n",
       "      <td>0.524</td>\n",
       "      <td>6.012</td>\n",
       "      <td>66.6</td>\n",
       "      <td>5.5605</td>\n",
       "      <td>5</td>\n",
       "      <td>311</td>\n",
       "      <td>15.2</td>\n",
       "      <td>395.60</td>\n",
       "      <td>12.43</td>\n",
       "      <td>22.9</td>\n",
       "    </tr>\n",
       "    <tr>\n",
       "      <th>5</th>\n",
       "      <td>11</td>\n",
       "      <td>0.22489</td>\n",
       "      <td>12.5</td>\n",
       "      <td>7.87</td>\n",
       "      <td>0</td>\n",
       "      <td>0.524</td>\n",
       "      <td>6.377</td>\n",
       "      <td>94.3</td>\n",
       "      <td>6.3467</td>\n",
       "      <td>5</td>\n",
       "      <td>311</td>\n",
       "      <td>15.2</td>\n",
       "      <td>392.52</td>\n",
       "      <td>20.45</td>\n",
       "      <td>15.0</td>\n",
       "    </tr>\n",
       "    <tr>\n",
       "      <th>6</th>\n",
       "      <td>12</td>\n",
       "      <td>0.11747</td>\n",
       "      <td>12.5</td>\n",
       "      <td>7.87</td>\n",
       "      <td>0</td>\n",
       "      <td>0.524</td>\n",
       "      <td>6.009</td>\n",
       "      <td>82.9</td>\n",
       "      <td>6.2267</td>\n",
       "      <td>5</td>\n",
       "      <td>311</td>\n",
       "      <td>15.2</td>\n",
       "      <td>396.90</td>\n",
       "      <td>13.27</td>\n",
       "      <td>18.9</td>\n",
       "    </tr>\n",
       "    <tr>\n",
       "      <th>7</th>\n",
       "      <td>13</td>\n",
       "      <td>0.09378</td>\n",
       "      <td>12.5</td>\n",
       "      <td>7.87</td>\n",
       "      <td>0</td>\n",
       "      <td>0.524</td>\n",
       "      <td>5.889</td>\n",
       "      <td>39.0</td>\n",
       "      <td>5.4509</td>\n",
       "      <td>5</td>\n",
       "      <td>311</td>\n",
       "      <td>15.2</td>\n",
       "      <td>390.50</td>\n",
       "      <td>15.71</td>\n",
       "      <td>21.7</td>\n",
       "    </tr>\n",
       "    <tr>\n",
       "      <th>8</th>\n",
       "      <td>14</td>\n",
       "      <td>0.62976</td>\n",
       "      <td>0.0</td>\n",
       "      <td>8.14</td>\n",
       "      <td>0</td>\n",
       "      <td>0.538</td>\n",
       "      <td>5.949</td>\n",
       "      <td>61.8</td>\n",
       "      <td>4.7075</td>\n",
       "      <td>4</td>\n",
       "      <td>307</td>\n",
       "      <td>21.0</td>\n",
       "      <td>396.90</td>\n",
       "      <td>8.26</td>\n",
       "      <td>20.4</td>\n",
       "    </tr>\n",
       "    <tr>\n",
       "      <th>9</th>\n",
       "      <td>15</td>\n",
       "      <td>0.63796</td>\n",
       "      <td>0.0</td>\n",
       "      <td>8.14</td>\n",
       "      <td>0</td>\n",
       "      <td>0.538</td>\n",
       "      <td>6.096</td>\n",
       "      <td>84.5</td>\n",
       "      <td>4.4619</td>\n",
       "      <td>4</td>\n",
       "      <td>307</td>\n",
       "      <td>21.0</td>\n",
       "      <td>380.02</td>\n",
       "      <td>10.26</td>\n",
       "      <td>18.2</td>\n",
       "    </tr>\n",
       "  </tbody>\n",
       "</table>\n",
       "</div>"
      ],
      "text/plain": [
       "   ID     crim    zn  indus  chas    nox     rm   age     dis  rad  tax  \\\n",
       "0   1  0.00632  18.0   2.31     0  0.538  6.575  65.2  4.0900    1  296   \n",
       "1   2  0.02731   0.0   7.07     0  0.469  6.421  78.9  4.9671    2  242   \n",
       "2   4  0.03237   0.0   2.18     0  0.458  6.998  45.8  6.0622    3  222   \n",
       "3   5  0.06905   0.0   2.18     0  0.458  7.147  54.2  6.0622    3  222   \n",
       "4   7  0.08829  12.5   7.87     0  0.524  6.012  66.6  5.5605    5  311   \n",
       "5  11  0.22489  12.5   7.87     0  0.524  6.377  94.3  6.3467    5  311   \n",
       "6  12  0.11747  12.5   7.87     0  0.524  6.009  82.9  6.2267    5  311   \n",
       "7  13  0.09378  12.5   7.87     0  0.524  5.889  39.0  5.4509    5  311   \n",
       "8  14  0.62976   0.0   8.14     0  0.538  5.949  61.8  4.7075    4  307   \n",
       "9  15  0.63796   0.0   8.14     0  0.538  6.096  84.5  4.4619    4  307   \n",
       "\n",
       "   ptratio   black  lstat  medv  \n",
       "0     15.3  396.90   4.98  24.0  \n",
       "1     17.8  396.90   9.14  21.6  \n",
       "2     18.7  394.63   2.94  33.4  \n",
       "3     18.7  396.90   5.33  36.2  \n",
       "4     15.2  395.60  12.43  22.9  \n",
       "5     15.2  392.52  20.45  15.0  \n",
       "6     15.2  396.90  13.27  18.9  \n",
       "7     15.2  390.50  15.71  21.7  \n",
       "8     21.0  396.90   8.26  20.4  \n",
       "9     21.0  380.02  10.26  18.2  "
      ]
     },
     "execution_count": 3,
     "metadata": {},
     "output_type": "execute_result"
    }
   ],
   "source": [
    "housing_data=pd.read_csv('./Boston_train.csv')\n",
    "\n",
    "housing_data.head(10)"
   ]
  },
  {
   "cell_type": "markdown",
   "metadata": {},
   "source": [
    "We can check the type of data in each column as follows:"
   ]
  },
  {
   "cell_type": "code",
   "execution_count": 4,
   "metadata": {
    "collapsed": false
   },
   "outputs": [
    {
     "name": "stdout",
     "output_type": "stream",
     "text": [
      "ID           int64\n",
      "crim       float64\n",
      "zn         float64\n",
      "indus      float64\n",
      "chas         int64\n",
      "nox        float64\n",
      "rm         float64\n",
      "age        float64\n",
      "dis        float64\n",
      "rad          int64\n",
      "tax          int64\n",
      "ptratio    float64\n",
      "black      float64\n",
      "lstat      float64\n",
      "medv       float64\n",
      "dtype: object\n"
     ]
    }
   ],
   "source": [
    "# With the method .dtypes, we can check the data type of each column\n",
    "\n",
    "print(housing_data.dtypes)\n"
   ]
  },
  {
   "cell_type": "markdown",
   "metadata": {},
   "source": [
    "## Checking missing data\n",
    "\n",
    "Before jump into the regression problem, lets verify that the data does not contain any missing attribute. We will explain how to deal with missing data later in the course."
   ]
  },
  {
   "cell_type": "code",
   "execution_count": 5,
   "metadata": {
    "collapsed": false
   },
   "outputs": [
    {
     "data": {
      "text/plain": [
       "ID         0\n",
       "crim       0\n",
       "zn         0\n",
       "indus      0\n",
       "chas       0\n",
       "nox        0\n",
       "rm         0\n",
       "age        0\n",
       "dis        0\n",
       "rad        0\n",
       "tax        0\n",
       "ptratio    0\n",
       "black      0\n",
       "lstat      0\n",
       "medv       0\n",
       "dtype: int64"
      ]
     },
     "execution_count": 5,
     "metadata": {},
     "output_type": "execute_result"
    }
   ],
   "source": [
    "empty = housing_data.apply(lambda col: pd.isnull(col))\n",
    "empty.sum()"
   ]
  },
  {
   "cell_type": "markdown",
   "metadata": {},
   "source": [
    "Ok, no missing data in our DataFrame. For our experiments, we are going to consider only one variable to predict the sale-value of a house: the number of rooms. Further, to illustrate important concepts such as the overfitting, we are going to use a very small portion of the data set. In particular, we take at random  N_samples rows in the DataFrame. We leave the rest for validating our model."
   ]
  },
  {
   "cell_type": "code",
   "execution_count": 6,
   "metadata": {
    "collapsed": false
   },
   "outputs": [
    {
     "data": {
      "text/html": [
       "<div>\n",
       "<style scoped>\n",
       "    .dataframe tbody tr th:only-of-type {\n",
       "        vertical-align: middle;\n",
       "    }\n",
       "\n",
       "    .dataframe tbody tr th {\n",
       "        vertical-align: top;\n",
       "    }\n",
       "\n",
       "    .dataframe thead th {\n",
       "        text-align: right;\n",
       "    }\n",
       "</style>\n",
       "<table border=\"1\" class=\"dataframe\">\n",
       "  <thead>\n",
       "    <tr style=\"text-align: right;\">\n",
       "      <th></th>\n",
       "      <th>rm</th>\n",
       "      <th>medv</th>\n",
       "    </tr>\n",
       "  </thead>\n",
       "  <tbody>\n",
       "    <tr>\n",
       "      <th>295</th>\n",
       "      <td>6.525</td>\n",
       "      <td>14.1</td>\n",
       "    </tr>\n",
       "    <tr>\n",
       "      <th>121</th>\n",
       "      <td>6.546</td>\n",
       "      <td>29.4</td>\n",
       "    </tr>\n",
       "    <tr>\n",
       "      <th>52</th>\n",
       "      <td>6.279</td>\n",
       "      <td>20.0</td>\n",
       "    </tr>\n",
       "    <tr>\n",
       "      <th>258</th>\n",
       "      <td>5.036</td>\n",
       "      <td>9.7</td>\n",
       "    </tr>\n",
       "    <tr>\n",
       "      <th>313</th>\n",
       "      <td>5.304</td>\n",
       "      <td>12.0</td>\n",
       "    </tr>\n",
       "  </tbody>\n",
       "</table>\n",
       "</div>"
      ],
      "text/plain": [
       "        rm  medv\n",
       "295  6.525  14.1\n",
       "121  6.546  29.4\n",
       "52   6.279  20.0\n",
       "258  5.036   9.7\n",
       "313  5.304  12.0"
      ]
     },
     "execution_count": 6,
     "metadata": {},
     "output_type": "execute_result"
    }
   ],
   "source": [
    "N_samples = 25\n",
    "\n",
    "mask = np.random.permutation(len(housing_data))\n",
    "\n",
    "np.random.seed(seed=10) #To fix the random seed\n",
    "\n",
    "regression_data_frame = housing_data[['rm','medv']].iloc[list(mask[0:N_samples])]\n",
    "\n",
    "regression_data_frame.head(5)\n"
   ]
  },
  {
   "cell_type": "code",
   "execution_count": 7,
   "metadata": {
    "collapsed": false
   },
   "outputs": [
    {
     "data": {
      "text/plain": [
       "25"
      ]
     },
     "execution_count": 7,
     "metadata": {},
     "output_type": "execute_result"
    }
   ],
   "source": [
    "len(regression_data_frame)"
   ]
  },
  {
   "cell_type": "code",
   "execution_count": 8,
   "metadata": {
    "collapsed": false
   },
   "outputs": [
    {
     "data": {
      "text/plain": [
       "<matplotlib.text.Text at 0x115654e10>"
      ]
     },
     "execution_count": 8,
     "metadata": {},
     "output_type": "execute_result"
    },
    {
     "data": {
      "image/png": "[encoded data removed]",
      "text/plain": [
       "<matplotlib.figure.Figure at 0x1155f98d0>"
      ]
     },
     "metadata": {},
     "output_type": "display_data"
    }
   ],
   "source": [
    "plt.plot(regression_data_frame['rm'],regression_data_frame['medv'],'*')\n",
    "plt.xlabel('Number of rooms')\n",
    "plt.ylabel('House Value (In k$)')"
   ]
  },
  {
   "cell_type": "markdown",
   "metadata": {},
   "source": [
    "___\n",
    "\n",
    "### The linear regression model\n",
    "\n",
    "\n",
    "Consider we have a **training** database of $N$ entries of the form $(\\mathbf{x}^{(i)},y^{(i)})$, where $\\mathbf{x}^{(i)}\\in\\mathbb{R}^D$ and $y^{(i)}\\in\\mathbb{R}$. \n",
    "\n",
    "Each of the entries $x_i$ of $\\mathbf{x}=[x_1, \\ldots, x_D]$ is called a **feature**.\n",
    "\n",
    "We will use this training set to fit a model of the form\n",
    "\n",
    "$$y \\approx \\theta_0 + \\theta_1 x_1 + \\theta_2 x_2 + \\ldots + \\theta_D x_D, $$\n",
    "\n",
    "where $\\theta_0$ is called the **intercept**, and it captures the **bias** level of y. In the following, we will assume that the first entry of $\\mathbf{x}$ is 1, i.e., $\\mathbf{x}=[1, x_1, \\ldots, x_D]$ so we can compactly write\n",
    "\n",
    "$$ y \\approx \\boldsymbol{\\theta}^T\\mathbf{x}$$\n",
    "\n",
    "This regression model is called a ** linear regression ** model since we approximate the target $y$ as a linear combination of the features.\n",
    "\n",
    "\n",
    "---\n"
   ]
  },
  {
   "cell_type": "markdown",
   "metadata": {},
   "source": [
    "### Features can be a non-linear transformation of a given input!\n",
    "\n",
    "Note that the above model ** does not** mean that we cannot use a linear regression model to interpolate a non-linear function w.r.t. to a given input. For instance, we can try to predict the value of the house using the variable $NR$ (average number of rooms) using the following set of **features**:\n",
    "\n",
    "$$\\mathbf{x} = [1,NR,NR^2,NR^3,\\ldots,NR^D],$$ \n",
    "\n",
    "which assumes we are approximating the function $NR\\rightarrow y$ with an $D$-th order polynomial. Once the features are defined, then note that our goal is to find $\\boldsymbol{\\theta}\\in\\mathbb{R}^{D+1}$ such that\n",
    "$$ y \\approx \\boldsymbol{\\theta}^T\\mathbf{x},$$\n",
    "and this is still a **linear regression model**.\n",
    "\n",
    "\n",
    "____"
   ]
  },
  {
   "cell_type": "markdown",
   "metadata": {},
   "source": [
    "### A quadratic loss function\n",
    "\n",
    "In order to fit $\\boldsymbol{\\theta}$, we need to define a **cost** or **loss** function, that penalizes how much error our model makes when estimating each data in our **training** set.\n",
    "\n",
    "Since we are estimating real-valued quantities, the **average training squared error** is a good measure:\n",
    "\n",
    "$$J_{train}(\\boldsymbol{\\theta}) = \\frac{1}{N} \\sum_{i=1}^{N} (y^{(i)}-\\boldsymbol{\\theta}^T\\mathbf{x}^{(i)})^2$$\n",
    "\n",
    "Thus, we have to find \n",
    "\n",
    "$$\\boldsymbol{\\theta}^* = \\arg \\min_{\\theta} \\frac{1}{N} \\sum_{i=1}^{N} (y^{(i)}-\\boldsymbol{\\theta}^T\\mathbf{x}^{(i)})^2 $$\n",
    "\n",
    "Fortunately, regardless the dimension of $\\theta$, this is a well-behaved problem that we will easily solved. The main reason is that the function $J_{train}(\\boldsymbol{\\theta})$ is [**convex**](http://mathworld.wolfram.com/ConvexFunction.html) w.r.t. $\\boldsymbol{\\theta}$, and thus it has a **unique minimum**.\n",
    "\n",
    "Lets plot the function $$J_{train}(\\boldsymbol{\\theta})$$ for a simple regression model where we aproximate the house value $y$ with a linear function of the number of rooms\n",
    "\n",
    "$$\\mathbf{x} = [1,NR]$$\n",
    "and thus $\\boldsymbol{\\theta}\\in\\mathbb{R}^2$, and we use *one single* datapoint."
   ]
  },
  {
   "cell_type": "code",
   "execution_count": 9,
   "metadata": {
    "collapsed": false
   },
   "outputs": [
    {
     "name": "stdout",
     "output_type": "stream",
     "text": [
      "0.00900217356974\n",
      "0.000437215087901\n"
     ]
    },
    {
     "data": {
      "text/plain": [
       "<matplotlib.legend.Legend at 0x11582fb70>"
      ]
     },
     "execution_count": 9,
     "metadata": {},
     "output_type": "execute_result"
    },
    {
     "data": {
      "image/png": "[encoded data removed]",
      "text/plain": [
       "<matplotlib.figure.Figure at 0x1157aee80>"
      ]
     },
     "metadata": {},
     "output_type": "display_data"
    }
   ],
   "source": [
    "import matplotlib\n",
    "\n",
    "def cost_function(theta_0,theta_1,y,x):\n",
    "    J = (y-(x[0]*theta_0+x[1]*theta_1))**2\n",
    "    return J\n",
    "\n",
    "\n",
    "# Create simple data\n",
    "x=np.array([1,0.2])\n",
    "\n",
    "y = 0.2 * x[0] + 2.3 * x[1] + np.random.randn(1,1)*np.sqrt(0.05) #add a small noise\n",
    "\n",
    "# We fix theta_0 to easily illustrate J(theta) in one dimension\n",
    "theta_0 = 2 #Not the right one, but it does not change the convexity of J\n",
    "\n",
    "theta_1 = np.linspace(-10, 10, 20)\n",
    "theta_0m, theta_1m = np.meshgrid(theta_0, theta_1)\n",
    "\n",
    "data_point_index = 2 #One single data point to visualize J(theta)\n",
    "\n",
    "J = cost_function(theta_0m,theta_1m,y,x)\n",
    "print(np.min(J))\n",
    "\n",
    "plt.plot(theta_1,J,'-o')\n",
    "plt.xlabel(' theta_1 ')\n",
    "plt.ylabel(' J')\n",
    "\n",
    "theta_0 = 0.2 #The right one\n",
    "theta_0m, theta_1m = np.meshgrid(theta_0, theta_1)\n",
    "\n",
    "J = cost_function(theta_0m,theta_1m,y,x)\n",
    "\n",
    "print(np.min(J))\n",
    "plt.plot(theta_1,J,'-*r')\n",
    "plt.xlabel(' theta_1 ')\n",
    "plt.ylabel(' J')\n",
    "plt.legend(['theta_0=2','theta_0=0.2'])\n",
    "\n"
   ]
  },
  {
   "cell_type": "markdown",
   "metadata": {},
   "source": [
    "### Optimizing the loss function: the least-squares solution and gradient descend\n",
    "\n",
    "The problem\n",
    "$$\\boldsymbol{\\theta}^* = \\arg \\min_{\\theta} \\frac{1}{N} \\sum_{i=1}^{N} (y^{(i)}-\\boldsymbol{\\theta}^T\\mathbf{x}^{(i)})^2 $$\n",
    "has indeed closed form solution, which is known as the **least-squares** or the **normal equation**:\n",
    "\n",
    "$$\\boldsymbol{\\theta}^* = (\\mathbf{X}^T\\mathbf{X})^{-1}\\mathbf{X}^T\\mathbf{y},$$\n",
    "where\n",
    "- $\\mathbf{X}_{N\\times (D+1)}$ is the feature matrix, where the $i$-th row is $\\mathbf{x}^{(i)}$\n",
    "\n",
    "- $\\mathbf{y}_{(N\\times 1)}$ is the target vector\n",
    "- $ (\\mathbf{X}^T\\mathbf{X})^{-1}\\mathbf{X}$ is the [Moore–Penrose inverse](http://mathworld.wolfram.com/Moore-PenroseMatrixInverse.html) of $\\mathbf{X}$.\n",
    "\n",
    "\n",
    "The normal equation can be proved by computing the gradient of $J_{train}(\\boldsymbol{\\theta})$ and set it to zero. ** You will have to show it in the homework, and write the details in [Latex](https://www.latex-tutorial.com/tutorials/), inside the notebook.**\n",
    "\n",
    "Nonetheless, finding $\\boldsymbol{\\theta}^*$ by directly solving the normal equation has many important drawbacks:\n",
    "- You need to keep the full target matrix $\\mathbf{X}_{N\\times (D+1)}$ in memory, which can be huge in large datasets!\n",
    "- You need to invert the matrix $(\\mathbf{X}^T\\mathbf{X})^{-1}\\mathbf{X}$ $\\Rightarrow$ $\\mathcal{O}(D^3)$ complexity.\n",
    "- For small data sets ($N\\leq D$), $(\\mathbf{X}^T\\mathbf{X})^{-1}$ can be non-invertible!\n",
    "- Once you get new data, how do you update $\\boldsymbol{\\theta}^*$?\n",
    "\n",
    "For these reasons, among many others, **we typically do not use the normal equation** but we rather apply numerical optimization methods such as **gradient descend** (GD).\n",
    "\n",
    "In this notebook, we will apply the normal equation. In the next lesson we will learn how to address the optimization stage using GD. \n",
    "\n",
    "____"
   ]
  },
  {
   "cell_type": "markdown",
   "metadata": {},
   "source": [
    "### Normalizing our input data\n",
    "\n",
    "One last comment. In general, solving the Linear Regression problem is numerically more challenging (both using the normal equation or using GD) if features are defined in different ranges. I.e., if $x_1$ for instance takes values in the $[-1,1]$ set and $x_2$ takes values in the $[-10^6,10^6]$ range. \n",
    "\n",
    "To improve both the numerical robustness of our estimator and **enhance interpretability**, we will apply a linear normalization preprocessing stage to use as input to the linear regression features with (sample) mean 0 and (sample) variance equal to 1. ** Recall not to normalize the column corresponding to the intercept**.\n",
    "\n",
    "Given the unnormalized feature matrix $\\mathbf{X}_{N\\times D+1}$, we compute the sample mean per feature column , $\\mu_j$, and the sample variance per  feature column, $\\sigma^2_j$ for $j=2,\\ldots,D+1$. Then, each row of the normalized feature matrix $\\overline{\\mathbf{X}}_{N\\times D+1}$ is obtained as follows:\n",
    "\n",
    "$$\\overline{\\mathbf{x}}^{(i)}= \\left[1, ~~ \\frac{x_1^{(i)}-\\mu_1}{\\sqrt{\\sigma^2_1}}, ~~ \\frac{x_1^{(i)}-\\mu_2}{\\sqrt{\\sigma^2_2}}, \\ldots, \\frac{x_1^{(D)}-\\mu_1}{\\sqrt{\\sigma^2_D}}\\right]$$\n",
    "\n",
    "**Note this does not affect to the linear regression solution**, we are simply re-scaling the parameter vector $\\boldsymbol{\\theta}^*$. Using this scaling, we can now effectively compare the effect that each variable has in the linear regression solution: **the larger $|\\theta_j|$ is, the more effect $j$-th feature has in the estimation of $y$**.\n",
    "\n",
    "One last thing, in general we will not normalize the output variable $y$. We can do it and but typically it leads to mistakes in the evaluation of the cost function. \n",
    "_____"
   ]
  },
  {
   "cell_type": "markdown",
   "metadata": {},
   "source": [
    "## Visualizing the Least Squares Solution with Polynomial Features"
   ]
  },
  {
   "cell_type": "markdown",
   "metadata": {},
   "source": [
    "Lets go back to our running example, estimating the house value using the average number of rooms.  We will use polynomials with different order to visualize the solution. \n",
    "\n",
    "First, we use a second order polynomial. Thus each (unnormalized) feature vector is \n",
    "\n",
    "$$\\mathbf{x} = [1,NR,NR^2]$$\n",
    "\n",
    "Note that we need to create $NR^2$ before normalizing! Try to think about why is that ...\n",
    "\n"
   ]
  },
  {
   "cell_type": "code",
   "execution_count": 10,
   "metadata": {
    "collapsed": false
   },
   "outputs": [
    {
     "name": "stdout",
     "output_type": "stream",
     "text": [
      "The LS solution is: [ 21.3         -4.55923131  12.57098611]\n"
     ]
    },
    {
     "data": {
      "text/plain": [
       "<Container object of 3 artists>"
      ]
     },
     "execution_count": 10,
     "metadata": {},
     "output_type": "execute_result"
    },
    {
     "data": {
      "image/png": "[encoded data removed]",
      "text/plain": [
       "<matplotlib.figure.Figure at 0x1157006a0>"
      ]
     },
     "metadata": {},
     "output_type": "display_data"
    }
   ],
   "source": [
    "X_0 = np.array(regression_data_frame['rm'])    #I use the _0 to avoid overwritting this variable with the normalization\n",
    "Y = np.array(regression_data_frame['medv'])\n",
    "\n",
    "# Including quadratic features ...\n",
    "\n",
    "X = np.stack([X_0,X_0**2],1) # To concatenate a-dimensional vectors\n",
    "\n",
    "# Normalizing \n",
    "train_mean = np.mean(X,0)\n",
    "train_std = np.std(X,0)\n",
    "\n",
    "X -= train_mean\n",
    "X /= train_std\n",
    "\n",
    "deg_max =2\n",
    "\n",
    "# This is not data! Just to visualize the polynomial\n",
    "values = np.sort(np.append(np.arange(4,10,0.01),X_0))\n",
    "\n",
    "X_plot = np.zeros([values.shape[0],deg_max])\n",
    "\n",
    "deg=1\n",
    "while deg<=deg_max:\n",
    "    X_plot[:,deg-1] = values**deg \n",
    "    deg += 1\n",
    "    \n",
    "# Normalizing \n",
    "\n",
    "X_plot -= train_mean            ## Note we are normalizing using the training mean and std!!\n",
    "X_plot /= train_std             ## Note we are normalizing using the training mean and std!!\n",
    "\n",
    "\n",
    "# We add the intercept column\n",
    "col_ones_plot = np.ones([X_plot.shape[0],1])\n",
    "col_ones = np.ones([X.shape[0],1])\n",
    "\n",
    "X = np.concatenate([col_ones,X],1)\n",
    "X_plot = np.concatenate([col_ones_plot,X_plot],1)\n",
    "\n",
    "# Compute the Least-Squares solution\n",
    "\n",
    "T2 = np.linalg.pinv(X) @ Y         #You have to use np.dot() in Python 2.7 instead of @\n",
    "\n",
    "print(\"The LS solution is:\", T2)\n",
    "\n",
    "plt.stem(T2)"
   ]
  },
  {
   "cell_type": "markdown",
   "metadata": {},
   "source": [
    "Lets visualize how it fits the ** training data **:"
   ]
  },
  {
   "cell_type": "code",
   "execution_count": 11,
   "metadata": {
    "collapsed": false
   },
   "outputs": [
    {
     "data": {
      "image/png": "[encoded data removed]",
      "text/plain": [
       "<matplotlib.figure.Figure at 0x1159e7828>"
      ]
     },
     "metadata": {},
     "output_type": "display_data"
    }
   ],
   "source": [
    "#inds_plot=np.argsort(X_0) # To help visualization of the fitting, we order according to the normalize variable NR (order one coefficient)\n",
    "\n",
    "Y_estimated_train_deg_2 = X @ T2.transpose()\n",
    "Y_estimated_plot_2 = X_plot @ T2.transpose()    \n",
    "\n",
    "leg2='Deg-2 Poly LS' \n",
    "\n",
    "plt.figure()\n",
    "plt.plot(X_0,Y_estimated_train_deg_2,'yo',ms=15,label=leg2)\n",
    "plt.plot(values,Y_estimated_plot_2,'r-',ms=20,label=leg2 + ' over real line')\n",
    "\n",
    "plt.plot(X_0,Y,'s', label='Real Values (Train)')\n",
    "plt.xlabel('Independent Variable')\n",
    "plt.ylabel('House Price (in $1k)')\n",
    "plt.ylim([10,60])    \n",
    "plt.grid(True)\n",
    "plt.legend(loc=9, bbox_to_anchor=(1.3, 1))\n",
    "\n",
    "\n",
    "plt.rcParams[\"figure.figsize\"] = [8,8]"
   ]
  },
  {
   "cell_type": "markdown",
   "metadata": {},
   "source": [
    "## Repeat the experiment for a polynomial interpolation of degree 20"
   ]
  },
  {
   "cell_type": "code",
   "execution_count": 12,
   "metadata": {
    "collapsed": false
   },
   "outputs": [
    {
     "name": "stdout",
     "output_type": "stream",
     "text": [
      "The LS solution is: [  2.13000000e+01  -6.06239876e+09   6.07440291e+10  -2.78807692e+11\n",
      "   7.68056553e+11  -1.39463705e+12   1.72353359e+12  -1.44333940e+12\n",
      "   7.86725815e+11  -2.52460676e+11   3.62473438e+10]\n"
     ]
    },
    {
     "data": {
      "text/plain": [
       "<Container object of 3 artists>"
      ]
     },
     "execution_count": 12,
     "metadata": {},
     "output_type": "execute_result"
    },
    {
     "data": {
      "image/png": "[encoded data removed]",
      "text/plain": [
       "<matplotlib.figure.Figure at 0x11586cdd8>"
      ]
     },
     "metadata": {},
     "output_type": "display_data"
    }
   ],
   "source": [
    "# Including quadratic features ...\n",
    "deg_max = 10\n",
    "X = np.zeros([X_0.shape[0],deg_max])\n",
    "\n",
    "deg=1\n",
    "while deg<=deg_max:\n",
    "    X[:,deg-1] = X_0**deg \n",
    "    deg += 1\n",
    "    \n",
    "# Normalizing \n",
    "train_mean = np.mean(X,0)\n",
    "train_std = np.std(X,0)\n",
    "\n",
    "X -= train_mean\n",
    "X /= train_std\n",
    "\n",
    "\n",
    "X_plot = np.zeros([values.shape[0],deg_max])\n",
    "\n",
    "deg=1\n",
    "while deg<=deg_max:\n",
    "    X_plot[:,deg-1] = values**deg \n",
    "    deg += 1\n",
    "    \n",
    "# Normalizing \n",
    "\n",
    "X_plot -= train_mean            ## Note we are normalizing using the training mean and std!!\n",
    "X_plot /= train_std             ## Note we are normalizing using the training mean and std!!\n",
    "\n",
    "# We add the intercept column\n",
    "\n",
    "col_ones = np.ones([X.shape[0],1])\n",
    "col_ones_plot = np.ones([X_plot.shape[0],1])\n",
    "\n",
    "X = np.concatenate([col_ones,X],1)\n",
    "X_plot = np.concatenate([col_ones_plot,X_plot],1)\n",
    "\n",
    "# Compute the Least-Squares solution\n",
    "\n",
    "T20 = np.linalg.pinv(X) @ Y         #You have to use np.dot() in Python 2.7 instead of @\n",
    "\n",
    "print(\"The LS solution is:\", T20)\n",
    "\n",
    "plt.stem(T20)"
   ]
  },
  {
   "cell_type": "code",
   "execution_count": 13,
   "metadata": {
    "collapsed": false
   },
   "outputs": [
    {
     "data": {
      "image/png": "[encoded data removed]",
      "text/plain": [
       "<matplotlib.figure.Figure at 0x11586c8d0>"
      ]
     },
     "metadata": {},
     "output_type": "display_data"
    }
   ],
   "source": [
    "Y_estimated_train_deg_20 = X @ T20.transpose()    \n",
    "Y_estimated_plot_20 = X_plot @ T20.transpose()    \n",
    "\n",
    "leg20='Deg-20 Poly LS' \n",
    "\n",
    "plt.figure()\n",
    "plt.plot(X_0,Y_estimated_train_deg_20,'g>',ms=15,label=leg20)\n",
    "plt.plot(values,Y_estimated_plot_2,'r-',ms=20,label=leg2 + ' over real line')\n",
    "plt.plot(values,Y_estimated_plot_20,'b-',ms=20,label=leg20 + ' over real line')\n",
    "plt.plot(X_0,Y_estimated_train_deg_2,'yo',ms=15,label=leg2)\n",
    "\n",
    "\n",
    "\n",
    "plt.plot(X_0,Y,'s', label='Real Values (Train)')\n",
    "plt.xlabel('Independent Variable')\n",
    "plt.ylabel('House Price (in $1k)')\n",
    "plt.ylim([0,80])   \n",
    "plt.xlim([3,10])\n",
    "plt.grid(True)\n",
    "plt.legend(loc=9, bbox_to_anchor=(1.3, 1))\n",
    "\n",
    "\n",
    "\n",
    "plt.rcParams[\"figure.figsize\"] = [8,8]"
   ]
  },
  {
   "cell_type": "markdown",
   "metadata": {},
   "source": [
    "Which one do you think performs better??\n",
    "\n",
    "It depends, isn't it?\n",
    "\n",
    "We will use the following two metrics to diagnose how well our model is performing.\n",
    "\n",
    "- **Training Error**: The function we have used to obtain $\\boldsymbol{\\theta}^*$, evaluated at $\\boldsymbol{\\theta}^*$\n",
    "$$J_{train}(\\boldsymbol{\\theta}^*) = \\frac{1}{N} \\sum_{i=1}^{N} (y^{(i)}-(\\boldsymbol{\\theta}^*)^T\\overline{\\mathbf{x}}^{(i)})^2$$\n",
    "\n",
    "- **Test Error**: We need to evaluate how well our data **generalizes to data we have never seen!** This is the real point of Machine Learning! Learn from data to adapt! To emulate this effect, we have a test-database **which is never used for model training!** and is only used to evaluate generalization. If $\\tilde{\\mathbf{x}}^{(i)}$, $i=1,\\ldots,N_{Test}$ is the $i$-th normalized testa data point, then the **Test Error** is constructed as follows.\n",
    "\n",
    "$$J_{test}(\\boldsymbol{\\theta}^*) = \\frac{1}{N_{Test}} \\sum_{i=1}^{N_{Test}} (y^{(i)}-(\\boldsymbol{\\theta}^*)^T\\tilde{\\mathbf{x}}^{(i)})^2$$\n",
    "\n",
    "One important thing, we normalize the test data using the sample means and variances computed from the **training** set. This is important to **make sure that all datapoints are equally normalized**."
   ]
  },
  {
   "cell_type": "markdown",
   "metadata": {},
   "source": [
    "Before computing both metrics, lets plot some test datapoints in the above figure to have an idea about how both models (deg-2 and deg-20 polynomials) will generalize. Lets use some data points not used for training."
   ]
  },
  {
   "cell_type": "code",
   "execution_count": 14,
   "metadata": {
    "collapsed": false
   },
   "outputs": [
    {
     "data": {
      "image/png": "[encoded data removed]",
      "text/plain": [
       "<matplotlib.figure.Figure at 0x115ea0048>"
      ]
     },
     "metadata": {},
     "output_type": "display_data"
    }
   ],
   "source": [
    "regression_data_frame_test = housing_data[['rm','medv']].iloc[N_samples:-1]\n",
    "\n",
    "regression_data_frame_test.head(5)\n",
    "\n",
    "X_0_test = np.array(regression_data_frame_test['rm']) \n",
    "Y_test = np.array(regression_data_frame_test['medv'])\n",
    "\n",
    "plt.figure()\n",
    "plt.plot(X_0,Y_estimated_train_deg_20,'g>',ms=15,label=leg20)\n",
    "plt.plot(X_0,Y_estimated_train_deg_2,'yo',ms=15,label=leg2)\n",
    "\n",
    "plt.plot(X_0,Y,'s', label='Real Values (Train)')\n",
    "plt.plot(X_0_test,Y_test,'m*', ms=5, label='Real Values (Test)')\n",
    "plt.xlabel('Independent Variable')\n",
    "plt.ylabel('House Price (in $1k)')\n",
    "plt.ylim([10,60])    \n",
    "plt.xlim([3,10]) \n",
    "plt.grid(True)\n",
    "plt.legend(loc=9, bbox_to_anchor=(1.3, 1))\n",
    "\n",
    "plt.plot(values,Y_estimated_plot_2,'r-',ms=20,label=leg2 + ' over real line')\n",
    "plt.plot(values,Y_estimated_plot_20,'b-',ms=20,label=leg20 + ' over real line')\n",
    "\n",
    "plt.rcParams[\"figure.figsize\"] = [8,8]\n",
    "\n"
   ]
  },
  {
   "cell_type": "markdown",
   "metadata": {},
   "source": [
    "## Goals for today\n",
    "\n",
    "Using the  data in `regression_data_frame` for training and the data in `regression_data_frame_test` for test\n",
    "\n",
    "1) Represent in the figure above the House value estimated by both models (degree-2 interpolation, degree-20 interpolation) **for the test set**.\n",
    "\n",
    "2) Compute both $J_{train}(\\boldsymbol{\\theta}^*)$ and $J_{test}(\\boldsymbol{\\theta}^*)$ for the two regression models.\n",
    "\n",
    "I use a generic code I can re-use for future sessions ...\n"
   ]
  },
  {
   "cell_type": "code",
   "execution_count": null,
   "metadata": {
    "collapsed": true
   },
   "outputs": [],
   "source": []
  }
 ],
 "metadata": {
  "kernelspec": {
   "display_name": "Python 3",
   "language": "python",
   "name": "python3"
  },
  "language_info": {
   "codemirror_mode": {
    "name": "ipython",
    "version": 3
   },
   "file_extension": ".py",
   "mimetype": "text/x-python",
   "name": "python",
   "nbconvert_exporter": "python",
   "pygments_lexer": "ipython3",
   "version": "3.6.0"
  }
 },
 "nbformat": 4,
 "nbformat_minor": 1
}
