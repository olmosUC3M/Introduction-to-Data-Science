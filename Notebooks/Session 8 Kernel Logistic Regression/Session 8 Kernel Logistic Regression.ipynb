{
 "cells": [
  {
   "cell_type": "markdown",
   "metadata": {},
   "source": [
    "# Session 8: the Kernel trick in Logistic Regression\n",
    "\n",
    "\n",
    "------------------------------------------------------\n",
    "Introduction to Data Science & Machine Learning\n",
    "\n",
    "*Pablo M. Olmos olmos@tsc.uc3m.es*\n",
    "\n",
    "------------------------------------------------------\n"
   ]
  },
  {
   "cell_type": "markdown",
   "metadata": {},
   "source": [
    "Just as we did for linear regression, we can optimize a Kernel Logistic Classifier in the dual space and exploit the kernel trick to derive classifiers that are able to find decision boundaries in a possibly infinite feature dimensional space. "
   ]
  },
  {
   "cell_type": "markdown",
   "metadata": {},
   "source": [
    "## Logistic Regression\n",
    "\n",
    "[Logistic Regression](https://onlinecourses.science.psu.edu/stat504/node/149) (LR) is a particular class of **generalized linear model** in which we use a **linear combination of the input features** to adjust the parameter of a particular probability distribution that explains the variable that we want to predict.\n",
    "\n",
    "Given our **trainin database** of $N$ entries of the form $(\\mathbf{x}^{(i)},y^{(i)})$, imagine that each of the input vectors is transformed to include **additional features** (such as polynomial expansions or any other transformation). We denote the **feature vector** as\n",
    "\n",
    "\\begin{align}\n",
    "\\phi(\\mathbf{x}): \\mathbb{R}^L \\rightarrow \\mathbb{R}^D,\n",
    "\\end{align}\n",
    "where $D\\geq L$. In LR, we interpolate the following probabilistic function:\n",
    "\\begin{align}\n",
    "P(y=1|\\mathbf{x}) =\\frac{1}{1+\\text{e}^{-\\mathbf{\\theta}^T\\phi(\\mathbf{x})}}=\\sigma\\left(\\mathbf{\\theta}^T\\phi(\\mathbf{x})\\right),\n",
    "\\end{align}\n",
    "where $\\sigma(\\cdot): \\mathbb{R}\\rightarrow [0,1]$ is the [sigmoid function](http://mathworld.wolfram.com/SigmoidFunction.html).\n",
    "\n",
    "----\n",
    "\n",
    "### The cross entropy objective function\n",
    "\n",
    "While in standard regression the most common loss function is the MSE (mean squared error), in classification with probabilistic ouputs the most common choice is the [**cross entropy loss**](https://rdipietro.github.io/friendly-intro-to-cross-entropy-loss/):\n",
    "\\begin{align}\n",
    "L(\\theta)&=\\frac{1}{N}\\left[-\\sum_{i=0}^{N}y^{(i)}\\log\\left(\\sigma(\\mathbf{\\theta}^T\\phi(\\mathbf{x}^{(i)})\\right)+(1-y^{(i)})\\left(1-\\sigma(\\mathbf{\\theta}^T\\phi(\\mathbf{x}^{(i)})\\right)\\right].\n",
    "\\end{align}\n",
    "Note that this loss is always positives and grows when $y^{(i)}=1$ and $\\sigma(\\mathbf{\\theta}^T\\phi(\\mathbf{x}^{(i)})\\rightarrow 0$ and viceversa. I.e., penalizes predicted probabilities far from the right label. As in linear regression, we can use $L_2$ or $L_1$ regularization to control overfitting:\n",
    "\n",
    "\\begin{align}\n",
    "L(\\theta,\\lambda)&=\\frac{1}{N}\\left[-\\sum_{i=0}^{N}y^{(i)}\\log\\left(\\sigma(\\mathbf{\\theta}^T\\phi(\\mathbf{x}^{(i)})\\right)+(1-y^{(i)})\\left(1-\\sigma(\\mathbf{\\theta}^T\\phi(\\mathbf{x}^{(i)})\\right)+\\lambda \\mathbf{\\theta}^T \\mathbf{\\theta}\\right].\n",
    "\\end{align}\n",
    "\n",
    "Unlike linear regression with MSE loss, minimizing the cross entropy loss function w.r.t. $\\mathbf{\\theta}$ **does not have closed form solution**. However, the function is still **convex** and can be easily optimized by **gradient descent**.\n",
    "\n",
    "----"
   ]
  },
  {
   "cell_type": "markdown",
   "metadata": {},
   "source": [
    "## The kernel trick\n",
    "\n",
    "Instead of minimizing the cross entropy loss function in the primal space, we will reformulate the problem by assuming that the optimal solution belongs to the vector subspace of the transformed datapoints, i.e., that there exists $\\boldsymbol{a}\\in\\mathbb{R}^N$ such that\n",
    "\n",
    "\\begin{align}\n",
    "\\boldsymbol{\\theta}_\\lambda=\\sum_{i=0}^N a^i \\phi(\\mathbf{x}^{(i)})\n",
    "\\end{align}\n",
    "\n",
    "Note that, given $\\mathbf{a}$, the class probability estimate for a new vector $\\mathbf{x}^{*}$ is:\n",
    "\n",
    "\\begin{align}\n",
    "P(y^*=1|\\mathbf{x}^*) &= \\sigma\\left(\\boldsymbol{\\theta}_\\lambda^T \\phi(\\mathbf{x}^*)\\right) = \\sigma\\left(\\left(\\sum_{i=1}^{N} a^i \\phi(\\mathbf{x}^{(i)})\\right)^T \\phi(\\mathbf{x}^*)\\right) = \\sigma\\left(\\sum_{i=1}^{N} a^i \\phi(\\mathbf{x}^{(i)})^T \\phi(\\mathbf{x}^*)\\right) \\\\ &= \\sigma\\left(\\sum_{i=1}^{N} a^i_\\lambda k(\\mathbf{x}^{(i)},\\mathbf{x}^*)\\right) = \\sigma\\left(\\mathbf{a}^T \\mathbf{k}(\\mathbf{x}^*)\\right), \n",
    "\\end{align}\n",
    "where\n",
    "\n",
    "\\begin{align}\n",
    "\\mathbf{k}(\\mathbf{x}^*) = \\left[\\begin{array}{c} k(\\mathbf{x}^{(1)},\\mathbf{x}^*) \\\\ k(\\mathbf{x}^{(2)},\\mathbf{x}^*) \\\\ \\vdots \\\\ k(\\mathbf{x}^{(N)},\\mathbf{x}^*)\\end{array}\\right] = \\left[\\begin{array}{c} \\phi(\\mathbf{x}^{(1)})^T \\phi(\\mathbf{x}^*) \\\\ \\phi(\\mathbf{x}^{(2)})^T \\phi(\\mathbf{x}^*) \\\\ \\vdots \\\\ \\phi(\\mathbf{x}^{(N)})^T \\phi(\\mathbf{x}^*)\\end{array}\\right] \n",
    "\\end{align}\n",
    "\n",
    "and $k(\\mathbf{x}^{(i)},\\mathbf{x}^*)$ is the **kernel function** between points $\\mathbf{x}^{(i)}$ and $\\mathbf{x}^{*}$. \n",
    "\n",
    "## Cross entropy in Kernel Logistic Regression\n",
    "\n",
    "If we substitute $\\mathbf{\\theta} = \\mathbf{\\Phi}^T\\mathbf{a}$ in the LR cross entropy function we get the dual loss function:\n",
    "\n",
    "\\begin{align}\n",
    "L(\\boldsymbol{a},\\lambda) = \\frac{1}{N}\\left[-\\sum_{i=0}^{N}y^{(i)}\\log\\left(\\sigma(\\mathbf{a}^T \\mathbf{k}(\\mathbf{x}^{(i)})\\right)+(1-y^{(i)})\\left(1-\\sigma(\\mathbf{a}^T \\mathbf{k}(\\mathbf{x}^{(i)})\\right)+\\lambda\\mathbf{a}^T\\mathbf{K}\\mathbf{a}\\right]\n",
    "\\end{align}\n",
    "where $\\mathbf{K}$ is the $(N\\times N)$ symmetric **kernel matrix** such that\n",
    "\n",
    "\\begin{align}\n",
    "K_{nm} = k(\\mathbf{x}^{(m)},\\mathbf{x}^{(n)}).\n",
    "\\end{align}\n",
    "\n",
    "The KLR optimization problem is solved by **gradient descend**. This function is **not included in sklearn** as for kernel methods in classification, sparse kernel machines like [**Support Vector Machines**](http://scikit-learn.org/stable/modules/generated/sklearn.svm.SVC.html) are preferred.\n",
    "\n",
    "---"
   ]
  },
  {
   "cell_type": "code",
   "execution_count": 1,
   "metadata": {
    "collapsed": false
   },
   "outputs": [],
   "source": [
    "import numpy as np\n",
    "import sklearn\n",
    "import functions    #Some useful functions \n",
    "import matplotlib.pyplot as plt\n",
    "%matplotlib inline\n"
   ]
  },
  {
   "cell_type": "markdown",
   "metadata": {},
   "source": [
    "### Loading the example database"
   ]
  },
  {
   "cell_type": "code",
   "execution_count": 2,
   "metadata": {
    "collapsed": false
   },
   "outputs": [],
   "source": [
    "data = np.loadtxt('ex2data2.txt', delimiter=',')"
   ]
  },
  {
   "cell_type": "code",
   "execution_count": 3,
   "metadata": {
    "collapsed": false
   },
   "outputs": [
    {
     "data": {
      "text/plain": [
       "<matplotlib.text.Text at 0x10de9f128>"
      ]
     },
     "execution_count": 3,
     "metadata": {},
     "output_type": "execute_result"
    },
    {
     "data": {
      "image/png": "[encoded data removed]",
      "text/plain": [
       "<matplotlib.figure.Figure at 0x10de5a4e0>"
      ]
     },
     "metadata": {},
     "output_type": "display_data"
    }
   ],
   "source": [
    "## Dimensions\n",
    "dims=np.shape(data)\n",
    "N=dims[0]\n",
    "\n",
    "## Create X and Y \n",
    "X=data[:,0:2]\n",
    "Y=data[:,2]\n",
    "\n",
    "\n",
    "### Splitting in training and validation data sets\n",
    "\n",
    "np.random.seed(0)\n",
    "\n",
    "X_train,X_test,Y_train,Y_test = functions.split_set(X,Y,0.8)\n",
    "\n",
    "\n",
    "\n",
    "min1=np.min(X[:,0])\n",
    "max1=np.max(X[:,0])\n",
    "min2=np.min(X[:,1])\n",
    "max2=np.max(X[:,1])\n",
    "\n",
    "## Plot Training Data\n",
    "index=(Y_train==1)\n",
    "plt.plot(X_train[index,0],X_train[index,1],'s',label=\"Class 1\")\n",
    "index=(Y_train==0)\n",
    "plt.plot(X_train[index,0],X_train[index,1],'ro',label=\"Class 0\")\n",
    "plt.xlabel('$x_1$')\n",
    "plt.ylabel('$x_2$')\n",
    "plt.grid(True)\n",
    "plt.legend()\n",
    "\n",
    "plt.title('Training Data')"
   ]
  },
  {
   "cell_type": "code",
   "execution_count": 4,
   "metadata": {
    "collapsed": false
   },
   "outputs": [],
   "source": [
    "# Data Normalization\n",
    "\n",
    "X_tnorm,mx,stdx=functions.normalize(X_train,0,1,True)\n",
    "X_tnorm = functions.add_interfit(X_tnorm)"
   ]
  },
  {
   "cell_type": "markdown",
   "metadata": {},
   "source": [
    "### Training the Kernel LR with RBF kernel"
   ]
  },
  {
   "cell_type": "code",
   "execution_count": 5,
   "metadata": {
    "collapsed": false
   },
   "outputs": [],
   "source": [
    "## Setting the model parameters and computing the Kernel matrix\n",
    "N_train = Y_train.shape[0]\n",
    "\n",
    "a=0.1*np.ones([N_train,1])   #Initialization\n",
    "\n",
    "bw = 0.01\n",
    "\n",
    "K = functions.compute_Kernel_matrix(X_tnorm,N_train,bw,kernel='rbf')\n",
    "\n",
    "l = 20\n",
    "\n",
    "#Optimizer \n",
    "tolerance=1e-03\n",
    "max_iter=2e3    \n",
    "step=1e-02"
   ]
  },
  {
   "cell_type": "code",
   "execution_count": 6,
   "metadata": {
    "collapsed": false
   },
   "outputs": [
    {
     "name": "stdout",
     "output_type": "stream",
     "text": [
      "Iteration 0, cost L=0.945169, grad_norm =0.542846\n",
      "Iteration 100, cost L=0.774187, grad_norm =0.299250\n",
      "Iteration 200, cost L=0.719832, grad_norm =0.173675\n",
      "Iteration 300, cost L=0.700974, grad_norm =0.104165\n",
      "Iteration 400, cost L=0.694062, grad_norm =0.063782\n",
      "Iteration 500, cost L=0.691439, grad_norm =0.039593\n",
      "Iteration 600, cost L=0.690419, grad_norm =0.024823\n",
      "Iteration 700, cost L=0.690015, grad_norm =0.015692\n",
      "Iteration 800, cost L=0.689853, grad_norm =0.009998\n",
      "Iteration 900, cost L=0.689786, grad_norm =0.006428\n",
      "Iteration 1000, cost L=0.689759, grad_norm =0.004182\n",
      "Iteration 1100, cost L=0.689747, grad_norm =0.002769\n",
      "Iteration 1200, cost L=0.689742, grad_norm =0.001881\n",
      "Iteration 1300, cost L=0.689739, grad_norm =0.001327\n",
      "Iteration 1395, cost L=0.689738, grad_norm =0.000999\n"
     ]
    }
   ],
   "source": [
    "# Training the model\n",
    "\n",
    "a_opt=functions.optimize_KLR(N_train,K,Y_train.reshape([-1,1]),l,a,max_iter,step,tolerance,verbose=True)\n",
    "\n",
    "L_opt,grad_opt=functions.cost(a_opt,N_train,K,Y_train.reshape([-1,1]),l)\n"
   ]
  },
  {
   "cell_type": "markdown",
   "metadata": {},
   "source": [
    "Lets plot the decision boundary, looking for points with predicted label probability around 0.5"
   ]
  },
  {
   "cell_type": "code",
   "execution_count": 7,
   "metadata": {
    "collapsed": false
   },
   "outputs": [],
   "source": [
    "#Plotting the decision boundary\n",
    "x1,x2 = np.mgrid[min1:max1:(max1-min1)/50, min2:max2:(max2-min2)/50]\n",
    "grid = np.transpose(np.row_stack([x1.ravel(), x2.ravel()]))\n",
    "grid_norm,_,_ = functions.normalize(grid,mx,stdx,False)\n",
    "grid_norm = functions.add_interfit(grid_norm)\n",
    "\n",
    "num_points=np.shape(grid_norm)[0]\n",
    "probs = np.zeros([num_points,1])"
   ]
  },
  {
   "cell_type": "code",
   "execution_count": 8,
   "metadata": {
    "collapsed": false
   },
   "outputs": [],
   "source": [
    "#Computing the KLR class prob. for all points in the grid\n",
    "\n",
    "for i in range(num_points):\n",
    "    k = functions.compute_kernel_vector(X_tnorm,grid_norm[i,:],N_train,bw,kernel='rbf')\n",
    "    probs[i] = functions.sigmoid(np.transpose(k)@a_opt)"
   ]
  },
  {
   "cell_type": "code",
   "execution_count": 9,
   "metadata": {
    "collapsed": false
   },
   "outputs": [
    {
     "data": {
      "text/plain": [
       "<matplotlib.text.Text at 0x10e10e128>"
      ]
     },
     "execution_count": 9,
     "metadata": {},
     "output_type": "execute_result"
    },
    {
     "data": {
      "image/png": "[encoded data removed]",
      "text/plain": [
       "<matplotlib.figure.Figure at 0x10def77f0>"
      ]
     },
     "metadata": {},
     "output_type": "display_data"
    }
   ],
   "source": [
    "## Plot Training Data\n",
    "index=(Y_train==1)\n",
    "plt.plot(X_train[index,0],X_train[index,1],'s',label=\"Class 1\")\n",
    "index=(Y_train==0)\n",
    "plt.plot(X_train[index,0],X_train[index,1],'ro',label=\"Class 0\")\n",
    "plt.contour(x1,x2,np.reshape(probs[:,0],np.shape(x1)),[0.5],cmap=plt.cm.gray)\n",
    "plt.xlabel('$x_1$')\n",
    "plt.ylabel('$x_2$')\n",
    "plt.grid(True)\n",
    "plt.legend()\n",
    "plt.title('Training Data')\n"
   ]
  },
  {
   "cell_type": "code",
   "execution_count": null,
   "metadata": {
    "collapsed": true
   },
   "outputs": [],
   "source": []
  }
 ],
 "metadata": {
  "kernelspec": {
   "display_name": "Python 3",
   "language": "python",
   "name": "python3"
  },
  "language_info": {
   "codemirror_mode": {
    "name": "ipython",
    "version": 3
   },
   "file_extension": ".py",
   "mimetype": "text/x-python",
   "name": "python",
   "nbconvert_exporter": "python",
   "pygments_lexer": "ipython3",
   "version": "3.6.0"
  }
 },
 "nbformat": 4,
 "nbformat_minor": 2
}
