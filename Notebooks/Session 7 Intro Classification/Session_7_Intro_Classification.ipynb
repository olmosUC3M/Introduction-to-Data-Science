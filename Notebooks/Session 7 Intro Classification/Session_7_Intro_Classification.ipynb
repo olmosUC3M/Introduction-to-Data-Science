{
 "cells": [
  {
   "cell_type": "markdown",
   "metadata": {},
   "source": [
    "# Session 7: Introduction to Binary Classification\n",
    "\n",
    "\n",
    "------------------------------------------------------\n",
    "*Introduction to Data Science & Machine Learning*\n",
    "\n",
    "*Pablo M. Olmos olmos@tsc.uc3m.es*\n",
    "\n",
    "------------------------------------------------------\n"
   ]
  },
  {
   "cell_type": "markdown",
   "metadata": {},
   "source": [
    "Today, we will start with the second block of the course: classification. Like regression, classification is another example of [supervised learning](https://en.wikipedia.org/wiki/Supervised_learning). \n",
    "\n",
    "Consider we have a **training** database of $N$ entries of the form $(\\mathbf{x}^{(i)},y^{(i)})$, where $\\mathbf{x}\\in\\mathbb{R}^L$ and the label $y$ only belongs to **two possible categories**: $y\\in\\{0,1\\}$. Our goal in classificaiton is to propose an hipothesis function $h(\\mathbf{x},y)$ that will be used to estimate the most likely class of a new point $\\mathbf{x}^*$ as follows\n",
    "\n",
    "\\begin{align}\n",
    "y* \\approx \\arg \\max_{y\\in\\{0,1\\}} h(\\mathbf{x},y)\n",
    "\\end{align}\n",
    "\n",
    "\n",
    "Today we will introduce two classification tools:\n",
    "- K-NN classification \n",
    "- Logistic Regression\n",
    "\n",
    "First, lets import a toy dataset to play with."
   ]
  },
  {
   "cell_type": "markdown",
   "metadata": {},
   "source": [
    "### Importing Packages"
   ]
  },
  {
   "cell_type": "code",
   "execution_count": 1,
   "metadata": {
    "collapsed": true
   },
   "outputs": [],
   "source": [
    "import numpy as np\n",
    "import sklearn\n",
    "import functions    #Some useful functions \n",
    "import matplotlib.pyplot as plt\n",
    "%matplotlib inline\n",
    "\n"
   ]
  },
  {
   "cell_type": "markdown",
   "metadata": {},
   "source": [
    "### Loading the database"
   ]
  },
  {
   "cell_type": "code",
   "execution_count": 2,
   "metadata": {
    "collapsed": true
   },
   "outputs": [],
   "source": [
    "data = np.loadtxt('ex2data1.txt', delimiter=',')"
   ]
  },
  {
   "cell_type": "code",
   "execution_count": 3,
   "metadata": {
    "collapsed": true
   },
   "outputs": [],
   "source": [
    "## Dimensions\n",
    "dims=np.shape(data)\n",
    "N=dims[0]\n",
    "\n",
    "## Create X and Y \n",
    "X=data[:,0:2]\n",
    "Y=data[:,2]\n"
   ]
  },
  {
   "cell_type": "markdown",
   "metadata": {},
   "source": [
    "### Splitting in training and validation data sets"
   ]
  },
  {
   "cell_type": "code",
   "execution_count": 4,
   "metadata": {
    "collapsed": false
   },
   "outputs": [
    {
     "data": {
      "text/plain": [
       "<matplotlib.text.Text at 0x10ffd78d0>"
      ]
     },
     "execution_count": 4,
     "metadata": {},
     "output_type": "execute_result"
    },
    {
     "data": {
      "image/png": "[encoded data removed]",
      "text/plain": [
       "<matplotlib.figure.Figure at 0x10ff8b898>"
      ]
     },
     "metadata": {},
     "output_type": "display_data"
    }
   ],
   "source": [
    "np.random.seed(0)\n",
    "\n",
    "X_train,X_test,Y_train,Y_test = functions.split_set(X,Y,0.8)\n",
    "\n",
    "\n",
    "\n",
    "min1=np.min(X[:,0])\n",
    "max1=np.max(X[:,0])\n",
    "min2=np.min(X[:,1])\n",
    "max2=np.max(X[:,1])\n",
    "\n",
    "## Plot Training Data\n",
    "index=(Y_train==1)\n",
    "plt.plot(X_train[index,0],X_train[index,1],'s',label=\"Class 1\")\n",
    "index=(Y_train==0)\n",
    "plt.plot(X_train[index,0],X_train[index,1],'ro',label=\"Class 0\")\n",
    "plt.xlabel('$x_1$')\n",
    "plt.ylabel('$x_2$')\n",
    "plt.grid(True)\n",
    "plt.legend()\n",
    "plt.title('Training Data')\n"
   ]
  },
  {
   "cell_type": "markdown",
   "metadata": {},
   "source": [
    "## K-NN Classifier\n",
    "\n",
    "Lets start with a **nonparametric** classifier. The K-NN classifier is actually very similar to the K-NN regressor, we merely replace the average NN value by a mayority voting scheme. \n",
    "\n",
    "Given a new point $\\mathbf{x}^*$ the estimated target $y^*$ is computed as follows:\n",
    "\n",
    "\\begin{align}\n",
    "P(y^*=1|\\mathbf{x}^*) \\approx \\frac{1}{K}\\sum_{k\\in \\mathcal{S}_{K}(\\mathbf{x}^*)} \\mathbb{I}[y^{(k)}==1],\n",
    "\\end{align}\n",
    "where $\\mathbb{I}[\\cdot]$ is the indicator function that takes value $1$ if the condition within the brakets is met, and zero otherwise. Also, $\\mathcal{S}_{K}$ is the set of the **$K$ training points that are closest to $\\mathbf{x}^*$ according to a given distance metric $d(\\mathbf{x}^{(i)},\\mathbf{x}^*)$**. For instance, in real spaces the most common choice is the **ecludean distance**:\n",
    "\n",
    "\\begin{align}\n",
    "d(\\mathbf{x}^{(i)},\\mathbf{x}^*) = \\left|\\left|\\mathbf{x}^{(i)}-\\mathbf{x}^*\\right|\\right|^2\n",
    "\\end{align}\n",
    "\n",
    "There are many variants of the above expression. For instance, we can **weight differently the indicator terms according to the distance**. \n",
    "\n",
    "Lets use the [*sklearn K-NN classifier implementation*](http://scikit-learn.org/stable/modules/generated/sklearn.neighbors.KNeighborsClassifier.html) in our example."
   ]
  },
  {
   "cell_type": "code",
   "execution_count": 14,
   "metadata": {
    "collapsed": false
   },
   "outputs": [
    {
     "data": {
      "text/plain": [
       "KNeighborsClassifier(algorithm='auto', leaf_size=30, metric='minkowski',\n",
       "           metric_params=None, n_jobs=1, n_neighbors=20, p=2,\n",
       "           weights='uniform')"
      ]
     },
     "execution_count": 14,
     "metadata": {},
     "output_type": "execute_result"
    }
   ],
   "source": [
    "from sklearn.neighbors import KNeighborsClassifier\n",
    "\n",
    "K=20\n",
    "\n",
    "knnc = KNeighborsClassifier(n_neighbors=K)\n",
    "knnc.fit(X_train,Y_train)\n"
   ]
  },
  {
   "cell_type": "markdown",
   "metadata": {},
   "source": [
    "Lets plot the decision boundary, looking for points with predicted label probability around 0.5"
   ]
  },
  {
   "cell_type": "code",
   "execution_count": 15,
   "metadata": {
    "collapsed": false,
    "scrolled": true
   },
   "outputs": [
    {
     "data": {
      "text/plain": [
       "<matplotlib.text.Text at 0x110c18710>"
      ]
     },
     "execution_count": 15,
     "metadata": {},
     "output_type": "execute_result"
    },
    {
     "data": {
      "image/png": "[encoded data removed]",
      "text/plain": [
       "<matplotlib.figure.Figure at 0x11079eef0>"
      ]
     },
     "metadata": {},
     "output_type": "display_data"
    }
   ],
   "source": [
    "#Plotting the decision boundary\n",
    "x1,x2 = np.mgrid[min1:max1:(max1-min1)/50, min2:max2:(max2-min2)/50]\n",
    "grid = np.transpose(np.row_stack([x1.ravel(), x2.ravel()]))\n",
    "probs = knnc.predict_proba(grid)\n",
    "\n",
    "## Plot Training Data\n",
    "index=(Y_train==1)\n",
    "plt.plot(X_train[index,0],X_train[index,1],'s',label=\"Class 1\")\n",
    "index=(Y_train==0)\n",
    "plt.plot(X_train[index,0],X_train[index,1],'ro',label=\"Class 0\")\n",
    "plt.contour(x1,x2,np.reshape(probs[:,0],np.shape(x1)),[0.5])\n",
    "plt.xlabel('$x_1$')\n",
    "plt.ylabel('$x_2$')\n",
    "plt.grid(True)\n",
    "plt.legend()\n",
    "plt.title('Training Data')\n",
    "\n"
   ]
  },
  {
   "cell_type": "markdown",
   "metadata": {},
   "source": [
    "### Excersise:\n",
    "\n",
    "Plot in the above figure the validation points and compute the missclassification rate in both training and validation as a function of $K$."
   ]
  },
  {
   "cell_type": "markdown",
   "metadata": {},
   "source": [
    "## Logistic Regression\n",
    "\n",
    "[Logistic Regression](https://onlinecourses.science.psu.edu/stat504/node/149) (LR) is a particular class of **generalized linear model** in which we use a **linear combination of the input features** to adjust the parameter of a particular probability distribution that explains the variable that we want to predict.\n",
    "\n",
    "Given our **trainin database** of $N$ entries of the form $(\\mathbf{x}^{(i)},y^{(i)})$, imagine that each of the input vectors is transformed to include **additional features** (such as polynomial expansions or any other transformation). We denote the **feature vector** as\n",
    "\n",
    "\\begin{align}\n",
    "\\phi(\\mathbf{x}): \\mathbb{R}^L \\rightarrow \\mathbb{R}^D,\n",
    "\\end{align}\n",
    "where $D\\geq L$. In LR, we interpolate the following probabilistic function:\n",
    "\\begin{align}\n",
    "P(y=1|\\phi(\\mathbf{x})) =\\frac{1}{1+\\text{e}^{-\\mathbf{\\theta}^T\\phi(\\mathbf{x})}}=\\sigma\\left(\\mathbf{\\theta}^T\\phi(\\mathbf{x})\\right),\n",
    "\\end{align}\n",
    "where $\\sigma(\\cdot): \\mathbb{R}\\rightarrow [0,1]$ is the [sigmoid function](http://mathworld.wolfram.com/SigmoidFunction.html).\n",
    "\n",
    "----\n",
    "\n",
    "### The cross entropy objective function\n",
    "\n",
    "While in standard regression the most common loss function is the MSE (mean squared error), in classification with probabilistic ouputs the most common choice is the [**cross entropy loss**](https://rdipietro.github.io/friendly-intro-to-cross-entropy-loss/):\n",
    "\\begin{align}\n",
    "L(\\theta)&=\\frac{1}{N}\\left[-\\sum_{i=0}^{N}y^{(i)}\\log\\left(\\sigma(\\mathbf{\\theta}^T\\phi(\\mathbf{x}^{(i)})\\right)+(1-y^{(i)})\\log\\left(1-\\sigma(\\mathbf{\\theta}^T\\phi(\\mathbf{x}^{(i)})\\right)\\right].\n",
    "\\end{align}\n",
    "Note that this loss is always positives and grows when $y^{(i)}=1$ and $\\sigma(\\mathbf{\\theta}^T\\phi(\\mathbf{x}^{(i)})\\rightarrow 0$ and viceversa. I.e., penalizes predicted probabilities far from the right label. As in linear regression, we can use $L_2$ or $L_1$ regularization to control overfitting:\n",
    "\n",
    "\\begin{align}\n",
    "L(\\theta,\\lambda)&=\\frac{1}{N}\\left[-\\sum_{i=0}^{N}y^{(i)}\\log\\left(\\sigma(\\mathbf{\\theta}^T\\phi(\\mathbf{x}^{(i)})\\right)+(1-y^{(i)})\\left(1-\\sigma(\\mathbf{\\theta}^T\\phi(\\mathbf{x}^{(i)})\\right)+\\lambda \\mathbf{\\theta}^T \\mathbf{\\theta}\\right].\n",
    "\\end{align}\n",
    "\n",
    "Unlike linear regression with MSE loss, minimizing the cross entropy loss function w.r.t. $\\mathbf{\\theta}$ **does not have closed form solution**. However, the function is still **convex** and can be easily optimized by **gradient descent**.\n",
    "\n",
    "----\n"
   ]
  },
  {
   "cell_type": "markdown",
   "metadata": {},
   "source": [
    "### The decision boundary in LR\n",
    "\n",
    "Note that, given the LR predicted class probability\n",
    "\\begin{align}\n",
    "P(y=1|\\phi(\\mathbf{x})) =\\frac{1}{1+\\text{e}^{-\\mathbf{\\theta}^T\\phi(\\mathbf{x})}}=\\sigma\\left(\\mathbf{\\theta}^T\\phi(\\mathbf{x})\\right),\n",
    "\\end{align}\n",
    "The decision boundary is computed by all points $\\mathbf{x}$ in $\\mathbb{R}^L$ such that $P(y=1|\\phi(\\mathbf{x}))=0.5$ or, equivalently, all points $\\mathbf{x}$ in $\\mathbb{R}^L$ such that\n",
    "\n",
    "\\begin{align}\n",
    "\\mathbf{\\theta}^T\\phi(\\mathbf{x})=0,\n",
    "\\end{align}\n",
    "\n",
    "which is the general equation of a [manifold](https://en.wikipedia.org/wiki/Manifold) in $\\mathbb{R}^L$. Thus, the decision boundary is completely determined by the features in $\\phi(\\mathbf{x})$. For instance, consider $\\mathbf{x}=[x_1, x_2]$. Then if\n",
    "\n",
    "- $\\phi(\\mathbf{x})=[1, x_1, x_2] ~ \\Rightarrow ~ \\mathbf{\\theta}^T\\phi(\\mathbf{x})=0$ is a straighline in the $\\mathbb{R}^2$ space.\n",
    "\n",
    "- $\\phi(\\mathbf{x})=[1, x_1, x_2, x_1^2, x_2^2, x_1x_2] ~ \\Rightarrow ~ \\mathbf{\\theta}^T\\phi(\\mathbf{x})=0$ is an ellipsoid in the $\\mathbb{R}^2$ space.\n",
    "\n",
    "\n",
    "Lets use the [*sklearn LR classifier implementation*](http://scikit-learn.org/stable/modules/generated/sklearn.linear_model.LogisticRegression.html) in our example."
   ]
  },
  {
   "cell_type": "code",
   "execution_count": 7,
   "metadata": {
    "collapsed": true
   },
   "outputs": [],
   "source": [
    "from sklearn.linear_model import LogisticRegression as LR"
   ]
  },
  {
   "cell_type": "code",
   "execution_count": 8,
   "metadata": {
    "collapsed": true
   },
   "outputs": [],
   "source": [
    "# C is the inverse of the regularization parameter (C=1/\\lambda)\n",
    "LR_class = LR(C=1e3, penalty='l2', tol=0.01,fit_intercept=True)   "
   ]
  },
  {
   "cell_type": "markdown",
   "metadata": {},
   "source": [
    "### Example 1: Linear features\n",
    "\n",
    "$\\phi(\\mathbf{x})=[1, x_1, x_2]$"
   ]
  },
  {
   "cell_type": "code",
   "execution_count": 9,
   "metadata": {
    "collapsed": true
   },
   "outputs": [],
   "source": [
    "X_tnorm,mx,stdx=functions.normalize(X_train,0,1,True)\n",
    "X_tnorm = functions.add_interfit(X_tnorm)"
   ]
  },
  {
   "cell_type": "code",
   "execution_count": 10,
   "metadata": {
    "collapsed": false
   },
   "outputs": [
    {
     "data": {
      "text/plain": [
       "LogisticRegression(C=1000.0, class_weight=None, dual=False,\n",
       "          fit_intercept=True, intercept_scaling=1, max_iter=100,\n",
       "          multi_class='ovr', n_jobs=1, penalty='l2', random_state=None,\n",
       "          solver='liblinear', tol=0.01, verbose=0, warm_start=False)"
      ]
     },
     "execution_count": 10,
     "metadata": {},
     "output_type": "execute_result"
    }
   ],
   "source": [
    "#Training the LR model with quadratic features\n",
    "LR_class.fit(X_tnorm, Y_train)"
   ]
  },
  {
   "cell_type": "code",
   "execution_count": 11,
   "metadata": {
    "collapsed": false
   },
   "outputs": [
    {
     "data": {
      "text/plain": [
       "<matplotlib.text.Text at 0x10df240b8>"
      ]
     },
     "execution_count": 11,
     "metadata": {},
     "output_type": "execute_result"
    },
    {
     "data": {
      "image/png": "[encoded data removed]",
      "text/plain": [
       "<matplotlib.figure.Figure at 0x10deef208>"
      ]
     },
     "metadata": {},
     "output_type": "display_data"
    }
   ],
   "source": [
    "#Plotting the decision boundary\n",
    "x1,x2 = np.mgrid[min1:max1:(max1-min1)/50, min2:max2:(max2-min2)/50]\n",
    "grid = np.transpose(np.row_stack([x1.ravel(), x2.ravel()]))\n",
    "#Normalizing data\n",
    "grid_norm,_,_=functions.normalize(grid,mx,stdx,False)\n",
    "grid_norm = functions.add_interfit(grid_norm)\n",
    "\n",
    "#Estimating class probabilities\n",
    "probs_LR=LR_class.predict_proba(grid_norm)\n",
    "\n",
    "## Plot Training Data\n",
    "index=(Y_train==1)\n",
    "plt.plot(X_train[index,0],X_train[index,1],'s',label=\"Class 1\")\n",
    "index=(Y_train==0)\n",
    "plt.plot(X_train[index,0],X_train[index,1],'ro',label=\"Class 0\")\n",
    "plt.contour(x1,x2,np.reshape(probs[:,0],np.shape(x1)),[0.5])\n",
    "plt.contour(x1,x2,np.reshape(probs_LR[:,0],np.shape(x1)),[0.5],linestyles='dashed')\n",
    "plt.xlabel('$x_1$')\n",
    "plt.ylabel('$x_2$')\n",
    "plt.grid(True)\n",
    "plt.legend()\n",
    "plt.title('Training Data')\n"
   ]
  },
  {
   "cell_type": "code",
   "execution_count": 12,
   "metadata": {
    "collapsed": false
   },
   "outputs": [
    {
     "name": "stdout",
     "output_type": "stream",
     "text": [
      "Logistic Regression  - Train SCORE:  0.8375\n",
      "Logistic Regression  - Test SCORE:  0.894736842105\n"
     ]
    }
   ],
   "source": [
    "# Computing accuracy score\n",
    "\n",
    "X_testnorm,_,_=functions.normalize(X_test,mx,stdx,False)\n",
    "X_testnorm = functions.add_interfit(X_testnorm)\n",
    "\n",
    "print ('Logistic Regression  - Train SCORE: ', LR_class.score(X_tnorm, Y_train))\n",
    "print ('Logistic Regression  - Test SCORE: ', LR_class.score(X_testnorm, Y_test))"
   ]
  },
  {
   "cell_type": "markdown",
   "metadata": {},
   "source": [
    "### Example 2: Quadratic Features\n",
    "\n",
    "$\\phi(\\mathbf{x})=[1, x_1, x_2,x_1^2,x_2^2,x_1x_2]$\n"
   ]
  },
  {
   "cell_type": "code",
   "execution_count": 13,
   "metadata": {
    "collapsed": true
   },
   "outputs": [],
   "source": [
    "# C is the inverse of the regularization parameter (C=1/\\lambda)\n",
    "LR_classq = LR(C=1e3, penalty='l2', tol=0.01,fit_intercept=True)   \n",
    "X_train_ext = np.copy(X_train)\n",
    "X_train_ext = np.concatenate([X_train,X_train**2,np.reshape(X_train[:,0]*X_train[:,1],[-1,1])],1)\n",
    "X_tnorm,mx,stdx=functions.normalize(X_train_ext,0,1,True)\n",
    "X_tnorm = functions.add_interfit(X_tnorm)\n",
    "\n",
    "X_test_ext = np.copy(X_test)\n",
    "X_test_ext = np.concatenate([X_test,X_test**2,np.reshape(X_test[:,0]*X_test[:,1],[-1,1])],1)\n",
    "X_testnorm,_,_=functions.normalize(X_test_ext,mx,stdx,False)\n",
    "X_testnorm = functions.add_interfit(X_testnorm)"
   ]
  },
  {
   "cell_type": "code",
   "execution_count": 14,
   "metadata": {
    "collapsed": false
   },
   "outputs": [
    {
     "data": {
      "text/plain": [
       "LogisticRegression(C=1000.0, class_weight=None, dual=False,\n",
       "          fit_intercept=True, intercept_scaling=1, max_iter=100,\n",
       "          multi_class='ovr', n_jobs=1, penalty='l2', random_state=None,\n",
       "          solver='liblinear', tol=0.01, verbose=0, warm_start=False)"
      ]
     },
     "execution_count": 14,
     "metadata": {},
     "output_type": "execute_result"
    }
   ],
   "source": [
    "#Training the LR model with quadratic features\n",
    "LR_classq.fit(X_tnorm, Y_train)"
   ]
  },
  {
   "cell_type": "code",
   "execution_count": 15,
   "metadata": {
    "collapsed": false
   },
   "outputs": [
    {
     "data": {
      "text/plain": [
       "<matplotlib.text.Text at 0x10e03c128>"
      ]
     },
     "execution_count": 15,
     "metadata": {},
     "output_type": "execute_result"
    },
    {
     "data": {
      "image/png": "[encoded data removed]",
      "text/plain": [
       "<matplotlib.figure.Figure at 0x10d192668>"
      ]
     },
     "metadata": {},
     "output_type": "display_data"
    }
   ],
   "source": [
    "#Plotting the decision boundary\n",
    "x1,x2 = np.mgrid[min1:max1:(max1-min1)/50, min2:max2:(max2-min2)/50]\n",
    "grid = np.transpose(np.row_stack([x1.ravel(), x2.ravel()]))\n",
    "grid_ext = np.concatenate([grid,grid**2,np.reshape(grid[:,0]*grid[:,1],[-1,1])],1)\n",
    "#Normalizing data\n",
    "grid_norm,_,_=functions.normalize(grid_ext,mx,stdx,False)\n",
    "grid_norm = functions.add_interfit(grid_norm)\n",
    "\n",
    "#Estimating class probabilities\n",
    "probs_LR=LR_classq.predict_proba(grid_norm)\n",
    "\n",
    "## Plot Training Data\n",
    "index=(Y_train==1)\n",
    "plt.plot(X_train[index,0],X_train[index,1],'s',label=\"Class 1\")\n",
    "index=(Y_train==0)\n",
    "plt.plot(X_train[index,0],X_train[index,1],'ro',label=\"Class 0\")\n",
    "plt.contour(x1,x2,np.reshape(probs[:,0],np.shape(x1)),[0.5])\n",
    "plt.contour(x1,x2,np.reshape(probs_LR[:,0],np.shape(x1)),[0.5],linestyles='dashed')\n",
    "plt.xlabel('$x_1$')\n",
    "plt.ylabel('$x_2$')\n",
    "plt.grid(True)\n",
    "plt.legend()\n",
    "plt.title('Training Data')\n"
   ]
  },
  {
   "cell_type": "code",
   "execution_count": 16,
   "metadata": {
    "collapsed": false
   },
   "outputs": [
    {
     "name": "stdout",
     "output_type": "stream",
     "text": [
      "Logistic Regression  - Train SCORE:  0.85\n",
      "Logistic Regression  - Test SCORE:  0.894736842105\n"
     ]
    }
   ],
   "source": [
    "print ('Logistic Regression  - Train SCORE: ', LR_classq.score(X_tnorm, Y_train))\n",
    "print ('Logistic Regression  - Test SCORE: ', LR_classq.score(X_testnorm, Y_test))"
   ]
  },
  {
   "cell_type": "markdown",
   "metadata": {},
   "source": [
    "### Exercise\n",
    "\n",
    "Compare K-NN and LR for the following database. Compare both LR with linear and nonlinear features.\n"
   ]
  },
  {
   "cell_type": "code",
   "execution_count": 17,
   "metadata": {
    "collapsed": true
   },
   "outputs": [],
   "source": [
    "data = np.loadtxt('ex2data2.txt', delimiter=',')"
   ]
  },
  {
   "cell_type": "code",
   "execution_count": 18,
   "metadata": {
    "collapsed": false
   },
   "outputs": [
    {
     "data": {
      "text/plain": [
       "<matplotlib.text.Text at 0x10e1b5080>"
      ]
     },
     "execution_count": 18,
     "metadata": {},
     "output_type": "execute_result"
    },
    {
     "data": {
      "image/png": "[encoded data removed]",
      "text/plain": [
       "<matplotlib.figure.Figure at 0x10d99e6a0>"
      ]
     },
     "metadata": {},
     "output_type": "display_data"
    }
   ],
   "source": [
    "## Dimensions\n",
    "dims=np.shape(data)\n",
    "N=dims[0]\n",
    "\n",
    "## Create X and Y \n",
    "X=data[:,0:2]\n",
    "Y=data[:,2]\n",
    "\n",
    "\n",
    "### Splitting in training and validation data sets\n",
    "\n",
    "np.random.seed(0)\n",
    "\n",
    "X_train,X_test,Y_train,Y_test = functions.split_set(X,Y,0.8)\n",
    "\n",
    "\n",
    "\n",
    "min1=np.min(X[:,0])\n",
    "max1=np.max(X[:,0])\n",
    "min2=np.min(X[:,1])\n",
    "max2=np.max(X[:,1])\n",
    "\n",
    "## Plot Training Data\n",
    "index=(Y_train==1)\n",
    "plt.plot(X_train[index,0],X_train[index,1],'s',label=\"Class 1\")\n",
    "index=(Y_train==0)\n",
    "plt.plot(X_train[index,0],X_train[index,1],'ro',label=\"Class 0\")\n",
    "plt.xlabel('$x_1$')\n",
    "plt.ylabel('$x_2$')\n",
    "plt.grid(True)\n",
    "plt.legend()\n",
    "plt.title('Training Data')\n"
   ]
  },
  {
   "cell_type": "code",
   "execution_count": 19,
   "metadata": {
    "collapsed": true
   },
   "outputs": [],
   "source": [
    "# Your code here"
   ]
  }
 ],
 "metadata": {
  "anaconda-cloud": {},
  "kernelspec": {
   "display_name": "Python 3",
   "language": "python",
   "name": "python3"
  },
  "language_info": {
   "codemirror_mode": {
    "name": "ipython",
    "version": 3
   },
   "file_extension": ".py",
   "mimetype": "text/x-python",
   "name": "python",
   "nbconvert_exporter": "python",
   "pygments_lexer": "ipython3",
   "version": "3.6.0"
  }
 },
 "nbformat": 4,
 "nbformat_minor": 1
}
