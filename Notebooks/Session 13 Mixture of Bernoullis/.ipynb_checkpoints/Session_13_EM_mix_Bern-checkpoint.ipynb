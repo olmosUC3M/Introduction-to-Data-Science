{
 "cells": [
  {
   "cell_type": "markdown",
   "metadata": {},
   "source": [
    "# Session 13: Mixtures of Bernoulli distributions\n",
    "\n",
    "------------------------------------------------------\n",
    "*Introduction to Data Science & Machine Learning*\n",
    "\n",
    "*Pablo M. Olmos olmos@tsc.uc3m.es*\n",
    "\n",
    "------------------------------------------------------\n",
    "\n",
    "\n",
    "In this notebook we will implement the EM algorithm for mixtures of Bernoulli distributions. This model is also known as [*latent class analysis*](https://en.wikipedia.org/wiki/Latent_class_model). As well as being of practical importance on its own right, understading this model and its learning also lay the fundation for **hidden Markov models (HMMs)** over discrete variables. HMMs will be dicussed in future course sessions.\n",
    "\n",
    "\n",
    "\n",
    "### Mixtures of Bernoulli distributions\n",
    "\n",
    "Consider a set of i.i.d. $D$-dimensional binary (0-1) vectors. Examples of this kind of data are binary images, binary detection results, or genetic markers. Consider also a mixture of multinomials (or multivariate Bernoullis) model for each of the vectors, $\\mathbf{x}$,\n",
    "\n",
    "$$\\displaystyle p(\\mathbf{x} | \\boldsymbol{\\Theta},\\mathbf{\\pi} ) = \\sum_{k=1}^K \\pi_k p_k(\\mathbf{x}^{(i)}|\\boldsymbol{\\theta}_k) = \\sum_{k=1}^K \\pi_k \\prod_{j=1}^D \\theta_{jk}^{x_{j}} (1-\\theta_{jk})^{1-x_{j}},$$\n",
    "where $\\boldsymbol{\\Theta}=[\\boldsymbol{\\theta}_1,\\ldots,\\boldsymbol{\\theta}_K]$. If we are given a data set $\\mathbf{X}=\\{\\mathbf{x}^{(1)},\\ldots,\\mathbf{x}^{(N)}\\}$ then the log likelihood function for this model is given by\n",
    "\n",
    "\\begin{align}\n",
    "\\log p(\\mathbf{X}|\\boldsymbol{\\Theta},\\mathbf{\\pi}) = \\sum_{i=1}^N \\log\\left(\\sum_{k=1}^D \\pi_k p(\\mathbf{x}^{(i)}|\\boldsymbol{\\theta}_k)\\right)\n",
    "\\end{align}\n",
    "\n",
    "To prevent overfitting, we will also use a **prior distribution** for the model parameters. For $\\boldsymbol{\\Theta}$ we have\n",
    "\n",
    "\\begin{align}\n",
    "\\theta_{jk}&\\sim\\text{Beta}(\\alpha,\\beta)\\\\\n",
    "p(\\boldsymbol{\\Theta}) &= \\prod_{k=1}^{K} \\prod_{j=1}^D p(\\theta_{jk})\\\\\n",
    "p(\\theta_{jk}) &= \\frac{\\theta_{jk}^{\\alpha-1}(1-\\theta_{jk})^{\\beta-1}}{\\text{B}(\\alpha,\\beta)},\n",
    "\\end{align}\n",
    "where $\\text{B}(\\alpha,\\beta)$ is the [Beta function](https://en.wikipedia.org/wiki/Beta_function). Check [here](https://en.wikipedia.org/wiki/Beta_distribution) for more details about the Beta distribution.\n",
    "\n",
    "For $\\mathbf{\\pi}$ we use a uniform [Dirichlet distribution](https://en.wikipedia.org/wiki/Dirichlet_distribution):\n",
    "\\begin{align}\n",
    "\\mathbf{\\pi}&\\sim \\text{Dir}(\\frac{1}{K}, \\ldots, \\frac{1}{K}) \\Rightarrow p(\\mathbf{\\pi}) =\\frac{1}{\\text{B}(\\frac{1}{K}, \\ldots, \\frac{1}{K})}\\prod_{k=1}^{K}\\pi_k^{\\frac{1}{K}-1},\n",
    "\\end{align}\n",
    "where $\\text{B}(\\frac{1}{K}, \\ldots, \\frac{1}{K})$ is the multivariate Beta function.\n"
   ]
  },
  {
   "cell_type": "markdown",
   "metadata": {},
   "source": [
    "### EM learning\n",
    "\n",
    "We now derive the EM algorithm for maximizing the posterior distribution $p(\\mathbf{\\Theta},\\mathbf{\\pi}|\\mathbf{X})$. To do this, we introduce an explict discrete latent variable $z\\in\\{1,\\ldots,K\\}$ assoacted to each data point $\\mathbf{x}$:\n",
    "\\begin{align}\n",
    "p(\\mathbf{x},z) = \\prod_{k=1}^{K} \\left(\\pi_k ~p_{k}(\\mathbf{x})\\right)^{\\mathbb{1} [z==k]}, ~~ p(z)=\\prod_{k=1}^K \\pi_k^{\\mathbb{1} [z==k]}\n",
    "\\end{align}\n",
    "\n",
    "#### Complete log-likelihood\n",
    "\n",
    "We write the complete data log-likelihood as follows:\n",
    "\\begin{align}\n",
    "\\log p(\\mathbf{X},\\mathbf{z}|\\boldsymbol{\\Theta},\\mathbf{\\pi})=\\sum_{i=1}^{N}\\sum_{k=1}^{K}\\mathbb{1} [z^{(i)}==k]\\left(\\log \\pi_k + \\sum_{j=1}^D \\left[x_{j}^{(i)}\\log\\theta_k+(1-x_{j}^{(i)})\\log(1-\\theta_k)\\right]\\right)\n",
    "\\end{align}\n",
    "\n",
    "#### Posterior distribution of $\\mathbf{z}$ given $\\boldsymbol{\\Theta},\\mathbf{\\pi}$\n",
    "\n",
    "In the $E$, we compute the expected complete data log-likelihood w.r.t. posterior distribution of $\\mathbf{z}$ given the current values of $\\boldsymbol{\\Theta},\\mathbf{\\pi}$:\n",
    "\\begin{align}\n",
    "p(z^{(i)}=k|\\mathbf{x}^{(i)},\\boldsymbol{\\Theta}_{(t-1)},\\mathbf{\\pi}_{(t-1)}) \\triangleq r_{ik} = \\frac{\\pi_{(k,t-1)} p_k(\\mathbf{x}|\\boldsymbol{\\theta}_k) }{\\sum_{q=1}^K \\pi_{(q,t-1)} p_k(\\mathbf{x}^{(i)}|\\boldsymbol{\\theta}_q)}, ~~~ k=1,\\ldots, K\n",
    "\\end{align}\n",
    "\n",
    "#### E-step\n",
    "It is easy to show that\n",
    "\\begin{align}\n",
    "\\mathcal{Q}(\\boldsymbol{\\Theta},\\mathbf{\\pi},\\boldsymbol{\\Theta}_{(t-1)},\\mathbf{\\pi}_{(t-1)})&=\\mathbb{E}_{p(\\mathbf{z}|\\mathbf{X}^{(i)},\\boldsymbol{\\Theta}_{(t-1)},\\mathbf{\\pi}_{(t-1)})}[\\log p(\\mathbf{X},\\mathbf{z}|\\boldsymbol{\\Theta},\\mathbf{\\pi})]\\\\\n",
    "&=\\sum_{i=1}^{N}\\sum_{k=1}^K r_{ik} \\left(\\log \\pi_k + \\sum_{j=1}^D \\left[x_{j}^{(i)}\\log\\theta_k+(1-x_{j}^{(i)})\\log(1-\\theta_k)\\right]\\right)\n",
    "\\end{align}\n",
    "\n",
    "#### M-step\n",
    "\n",
    "We have to find\n",
    "\\begin{align}\n",
    "\\boldsymbol{\\Theta}_t,\\mathbf{\\pi}_t = \\arg \\max_{\\boldsymbol{\\Theta},\\mathbf{\\pi}} ~~\\mathcal{Q}(\\boldsymbol{\\Theta},\\mathbf{\\pi},\\boldsymbol{\\Theta}_{(t-1)},\\mathbf{\\pi}_{(t-1)})+ \\log p(\\boldsymbol{\\Theta})+\\log p(\\mathbf{\\pi})\n",
    "\\end{align}\n",
    "\n",
    "As a result, one can prove that the maximum is attained at\n",
    "\n",
    "\\begin{align}\n",
    "r_k &\\triangleq \\sum_{i=1}^N r_{ik} \\\\\\\\\n",
    "\\pi^t_k &= \\frac{r_k+\\frac{1}{K}-1}{N+1-K}\\\\\\\\\n",
    "\\boldsymbol{\\theta}_k &= \\frac{\\sum_{i=1}^N r_{ik}\\mathbf{x}^{(i)}+\\alpha-1}{r_k+\\alpha+\\beta-2} \n",
    "\\end{align}\n",
    "\n",
    "To see details about the derivation of this result, check out chapter 9 of Bishop's book. Also Chapter 11 of Murphy's book."
   ]
  },
  {
   "cell_type": "markdown",
   "metadata": {
    "collapsed": true
   },
   "source": [
    "## Implementation of the E-step\n",
    "\n",
    "We first write a Python function that evaluates the responsibilities $r_{ik}$, $i=1,\\ldots,N$, $k=1,\\ldots,K$ for each data point. It should take as input the current values of $\\boldsymbol{\\pi}$, $\\boldsymbol{\\Theta}$, and the matrix $\\mathbf{X}$ of observations."
   ]
  },
  {
   "cell_type": "code",
   "execution_count": 2,
   "metadata": {},
   "outputs": [],
   "source": [
    "import matplotlib.pyplot as plt\n",
    "import numpy as np\n",
    "from IPython.display import Image\n",
    "import matplotlib.mlab as mlab\n",
    "from mpl_toolkits.mplot3d import Axes3D\n",
    "\n",
    "\n",
    "%matplotlib inline"
   ]
  },
  {
   "cell_type": "code",
   "execution_count": 1,
   "metadata": {},
   "outputs": [],
   "source": [
    "\n",
    "# THE FOLLOWING FUNCTION takes the whole matrix of data points and the vector \n",
    "# of probabilites of a single cluster. The function returns the probability of each data \n",
    "# point given cluster parameters p(x|theta_k)\n",
    "\n",
    "def eval_bern_pdf(X,Thetak):\n",
    "    #Your code here\n",
    "    M = np.exp(X*np.log(Thetak)+(1-X)*np.log(1-Thetak)) \n",
    "    pmf = np.prod(M,1)\n",
    "    return pmf\n",
    "\n",
    "\n",
    "# THE FOLLOWING FUNCTION takes the whole matrix of data points, the vector \n",
    "# of probabilites of a single cluster and the cluster probabilites. The function  returns \n",
    "# the matrix of responsibilites\n",
    "\n",
    "def responsibilities(X,P,Theta,K):\n",
    "    N,D = X.shape\n",
    "    R = np.zeros([N,K])\n",
    "    \n",
    "    for k in range(K):\n",
    "        #Your code here\n",
    "        \n",
    "        R[:,k] = eval_bern_pdf(X,Theta[k,:])\n",
    "        \n",
    "        \n",
    "    R *= P.T\n",
    "    R /= np.sum(R,1).reshape([-1,1])    \n",
    "    \n",
    "    return R\n",
    "        "
   ]
  },
  {
   "cell_type": "code",
   "execution_count": 9,
   "metadata": {},
   "outputs": [
    {
     "name": "stdout",
     "output_type": "stream",
     "text": [
      "[[0.22479665 0.19806286 0.76053071 0.16911084 0.08833981]\n",
      " [0.68535982 0.95339335 0.00394827 0.51219226 0.81262096]\n",
      " [0.61252607 0.72175532 0.29187607 0.91777412 0.71457578]]\n",
      "[[0.51277512]\n",
      " [0.13436922]\n",
      " [0.35285566]]\n",
      "[[1 1 0 1 0]\n",
      " [1 1 0 1 1]]\n",
      "[[2.20811374e-02 2.19873976e-01 7.58044887e-01]\n",
      " [7.49839314e-04 3.34167429e-01 6.65082732e-01]]\n"
     ]
    }
   ],
   "source": [
    "#Test your code with the following example\n",
    "\n",
    "N = 2\n",
    "D = 5\n",
    "K = 3\n",
    "\n",
    "np.random.seed(10)\n",
    "\n",
    "X = np.random.randint(0,2,[N,D])\n",
    "Theta = np.random.rand(K,D)\n",
    "\n",
    "print(Theta)\n",
    "\n",
    "P = np.random.rand(K,1)\n",
    "P /= np.sum(P)\n",
    "\n",
    "print(P)\n",
    "\n",
    "R = responsibilities(X,P,Theta,K)\n",
    "\n",
    "# R should be a [N,K] matrix with the following values\n",
    "# [[  2.20811374e-02   2.19873976e-01   7.58044887e-01]\n",
    "#  [  7.49839314e-04   3.34167429e-01   6.65082732e-01]]\n",
    "\n",
    "print(X)\n",
    "\n",
    "print(R)"
   ]
  },
  {
   "cell_type": "markdown",
   "metadata": {},
   "source": [
    "## Implementation of the M step"
   ]
  },
  {
   "cell_type": "code",
   "execution_count": 166,
   "metadata": {},
   "outputs": [],
   "source": [
    "# COMPLETE THE FOLLOWING FUNCTION, which computes the the soft number of points \n",
    "# associated to each cluster given the matrix R\n",
    "\n",
    "def points_cluster(R):\n",
    "    #Your code here\n",
    "    return np.sum(R,0)\n",
    "\n",
    "# COMPLETE THE FOLLOWING FUNCTION, which updates the value of the cluster probabilites\n",
    "\n",
    "def new_P(R,N):\n",
    "    #Your code here\n",
    "    Rk = points_cluster(R)\n",
    "    return Rk/N\n",
    "\n",
    "def new_Theta(R,X,K,alpha,beta):\n",
    "    \n",
    "    Theta = np.zeros([K,D])\n",
    "    Rk = points_cluster(R)\n",
    "    \n",
    "    for k in range(K):\n",
    "        #Your code here\n",
    "        Theta[k,:] = (np.sum(X*R[:,k].reshape([-1,1]),0)+alpha-1) / (Rk[k]+alpha+beta-2)\n",
    "    \n",
    "    return Theta\n",
    "\n"
   ]
  },
  {
   "cell_type": "code",
   "execution_count": 170,
   "metadata": {},
   "outputs": [
    {
     "name": "stdout",
     "output_type": "stream",
     "text": [
      "[[ 0.50564332  0.50564332  0.49435668  0.50564332  0.49472737]\n",
      " [ 0.60846367  0.60846367  0.39153633  0.60846367  0.52237502]\n",
      " [ 0.70786949  0.70786949  0.29213051  0.70786949  0.48642146]]\n"
     ]
    }
   ],
   "source": [
    "alpha = 2.\n",
    "beta = 2.\n",
    "\n",
    "Theta = new_Theta(R,X,K,alpha,beta)\n",
    "\n",
    "print(Theta)\n",
    "\n",
    "# Theta should be a [K,D] matrix with the following values\n",
    "# [[ 0.50564332  0.50564332  0.49435668  0.50564332  0.49472737]\n",
    "# [ 0.60846367  0.60846367  0.39153633  0.60846367  0.52237502]\n",
    "#  [ 0.70786949  0.70786949  0.29213051  0.70786949  0.48642146]]\n",
    "\n"
   ]
  },
  {
   "cell_type": "markdown",
   "metadata": {},
   "source": [
    "## Computing the log-likelihood"
   ]
  },
  {
   "cell_type": "code",
   "execution_count": 174,
   "metadata": {
    "collapsed": true
   },
   "outputs": [],
   "source": [
    "# COMPLETE THE FOLLOWING FUNCTION, which computes the model log-likelihood \n",
    "# given the model parameters\n",
    "\n",
    "def log_lik(X,P,Theta,K):\n",
    "    \n",
    "    LL = 0.\n",
    "    \n",
    "    for k in range(K):\n",
    "        #Your code here\n",
    "        LL += eval_bern_pdf(X,Theta[k,:])*P[k]\n",
    "        \n",
    "    return np.sum(np.log(LL)) #Your code here\n"
   ]
  },
  {
   "cell_type": "code",
   "execution_count": 175,
   "metadata": {},
   "outputs": [
    {
     "name": "stdout",
     "output_type": "stream",
     "text": [
      "-5.31111037373\n"
     ]
    }
   ],
   "source": [
    "#For the toy example the LL should be -5.31111037373\n",
    "\n",
    "print(log_lik(X,P,Theta,K))"
   ]
  },
  {
   "cell_type": "markdown",
   "metadata": {},
   "source": [
    "## EM for a synthetic dataset\n",
    "\n",
    "Let's generate samples from a mixtures of Bernoulli distributions and run the EM algorithm to recover the true model parameters."
   ]
  },
  {
   "cell_type": "code",
   "execution_count": 240,
   "metadata": {},
   "outputs": [
    {
     "name": "stdout",
     "output_type": "stream",
     "text": [
      "(1137, 100)\n",
      "(352, 100)\n",
      "(2184, 100)\n",
      "(1259, 100)\n",
      "(68, 100)\n"
     ]
    }
   ],
   "source": [
    "## True model parameters\n",
    "K = 5\n",
    "D = 100\n",
    "N = 5000\n",
    "X = []\n",
    "\n",
    "\n",
    "Theta_true = np.random.rand(K,D)\n",
    "P_true = np.random.rand(K,1)\n",
    "P_true /= np.sum(P_true)\n",
    "\n",
    "N_Z_true = np.random.multinomial(N,P_true.reshape([-1,]))\n",
    "\n",
    "for k in range(K):\n",
    "    X.append(np.random.rand(N_Z_true[k],D)<=Theta_true[k,:])\n",
    "    print(X[k].shape)\n",
    "\n",
    "X = np.concatenate(X)"
   ]
  },
  {
   "cell_type": "code",
   "execution_count": 241,
   "metadata": {},
   "outputs": [],
   "source": [
    "## EM initialization\n",
    "K = 5\n",
    "\n",
    "P = np.random.rand(K,1)\n",
    "P /= np.sum(P_true)\n",
    "\n",
    "Theta = np.ones([K,D])*1.0/K\n",
    "\n",
    "Num_Iter = 100\n",
    "\n",
    "alpha = 0.2\n",
    "beta = 0.2\n",
    "\n",
    "LL = np.zeros([Num_Iter,1])\n",
    "\n",
    "for i in range(Num_Iter):\n",
    "    \n",
    "    LL[i] = log_lik(X,P,Theta,K)\n",
    "    \n",
    "    R = responsibilities(X,P,Theta,K)\n",
    "    \n",
    "    P = new_P(R,N)\n",
    "    \n",
    "    Theta = new_Theta(R,X,K,alpha,beta)\n",
    "    "
   ]
  },
  {
   "cell_type": "code",
   "execution_count": 242,
   "metadata": {},
   "outputs": [
    {
     "data": {
      "text/plain": [
       "[<matplotlib.lines.Line2D at 0x1a1cc3f518>]"
      ]
     },
     "execution_count": 242,
     "metadata": {},
     "output_type": "execute_result"
    },
    {
     "data": {
      "image/png": "[encoded data removed]",
      "text/plain": [
       "<matplotlib.figure.Figure at 0x1a1cdafcf8>"
      ]
     },
     "metadata": {},
     "output_type": "display_data"
    }
   ],
   "source": [
    "# Plot the evolution of the negative LL. It should always decrease!\n",
    "\n",
    "plt.semilogy(-LL,'-*')  "
   ]
  },
  {
   "cell_type": "code",
   "execution_count": 243,
   "metadata": {},
   "outputs": [
    {
     "data": {
      "text/plain": [
       "Text(0.5,1,'Cluster Probabilites')"
      ]
     },
     "execution_count": 243,
     "metadata": {},
     "output_type": "execute_result"
    },
    {
     "data": {
      "image/png": "[encoded data removed]",
      "text/plain": [
       "<matplotlib.figure.Figure at 0x1a1da9ac50>"
      ]
     },
     "metadata": {},
     "output_type": "display_data"
    }
   ],
   "source": [
    "plt.plot(P_true,label='true probs', color = [0, 0.5, 0])\n",
    "plt.plot(P,label='EM probs', color = [1, 0, 0])\n",
    "plt.legend()\n",
    "plt.title('Cluster Probabilites')"
   ]
  },
  {
   "cell_type": "markdown",
   "metadata": {},
   "source": [
    "## EM for a data set of handwritten digits\n",
    "\n",
    "Load and run the EM over the [sklearn dataset of digits](http://scikit-learn.org/stable/modules/generated/sklearn.datasets.load_digits.html#sklearn.datasets.load_digits). Each datapoint is a 8x8 image of a digit."
   ]
  },
  {
   "cell_type": "code",
   "execution_count": 273,
   "metadata": {},
   "outputs": [
    {
     "name": "stdout",
     "output_type": "stream",
     "text": [
      "(1797, 64)\n"
     ]
    },
    {
     "data": {
      "text/plain": [
       "<matplotlib.figure.Figure at 0x1a1b72f278>"
      ]
     },
     "metadata": {},
     "output_type": "display_data"
    },
    {
     "data": {
      "image/png": "[encoded data removed]",
      "text/plain": [
       "<matplotlib.figure.Figure at 0x1a1b7506d8>"
      ]
     },
     "metadata": {},
     "output_type": "display_data"
    },
    {
     "data": {
      "text/plain": [
       "<matplotlib.figure.Figure at 0x1a1b4befd0>"
      ]
     },
     "metadata": {},
     "output_type": "display_data"
    },
    {
     "data": {
      "image/png": "[encoded data removed]",
      "text/plain": [
       "<matplotlib.figure.Figure at 0x1a1dc93080>"
      ]
     },
     "metadata": {},
     "output_type": "display_data"
    }
   ],
   "source": [
    "from sklearn.datasets import load_digits\n",
    "digits = load_digits()    #Gray scale, we have to binarize\n",
    "print(digits.data.shape)\n",
    "\n",
    "plt.gray() \n",
    "plt.matshow(digits.images[15]) \n",
    "plt.show()\n",
    "\n",
    "#Binarization\n",
    "\n",
    "Bin_Images = np.copy(digits.images)\n",
    "\n",
    "val_min=np.min(Bin_Images)\n",
    "val_max=np.max(Bin_Images)\n",
    "\n",
    "Bin_Images = (Bin_Images - val_min) / (val_max - val_min)\n",
    "\n",
    "Bin_Images = np.round(Bin_Images)\n",
    "\n",
    "plt.gray() \n",
    "plt.matshow(Bin_Images[15]) \n",
    "plt.show()\n"
   ]
  },
  {
   "cell_type": "code",
   "execution_count": 296,
   "metadata": {},
   "outputs": [
    {
     "data": {
      "text/plain": [
       "[<matplotlib.lines.Line2D at 0x1a1dffa780>]"
      ]
     },
     "execution_count": 296,
     "metadata": {},
     "output_type": "execute_result"
    },
    {
     "data": {
      "image/png": "[encoded data removed]",
      "text/plain": [
       "<matplotlib.figure.Figure at 0x1a1c09ad30>"
      ]
     },
     "metadata": {},
     "output_type": "display_data"
    }
   ],
   "source": [
    "# EM \n",
    "\n",
    "K = 10\n",
    "D = 64\n",
    "X = Bin_Images.reshape([-1,D])\n",
    "\n",
    "P = np.random.rand(K,1)\n",
    "P /= np.sum(P_true)\n",
    "\n",
    "Theta = np.ones([K,D])*1.0/K\n",
    "\n",
    "Num_Iter = 1000\n",
    "\n",
    "alpha = 2.\n",
    "beta = 2.\n",
    "\n",
    "LL = np.zeros([Num_Iter,1])\n",
    "\n",
    "for i in range(Num_Iter):\n",
    "    \n",
    "    LL[i] = log_lik(X,P,Theta,K)\n",
    "    \n",
    "    R = responsibilities(X,P,Theta,K)\n",
    "    \n",
    "    P = new_P(R,N)\n",
    "    \n",
    "    Theta = new_Theta(R,X,K,alpha,beta)\n",
    "    \n",
    "\n",
    "# Plot the evolution of the negative LL. It should always decrease!\n",
    "plt.semilogy(-LL,'-*')  \n"
   ]
  },
  {
   "cell_type": "code",
   "execution_count": 287,
   "metadata": {
    "scrolled": true
   },
   "outputs": [
    {
     "data": {
      "text/plain": [
       "<matplotlib.figure.Figure at 0x1a1dd6c358>"
      ]
     },
     "metadata": {},
     "output_type": "display_data"
    },
    {
     "data": {
      "image/png": "[encoded data removed]",
      "text/plain": [
       "<matplotlib.figure.Figure at 0x1a1bcc0ef0>"
      ]
     },
     "metadata": {},
     "output_type": "display_data"
    },
    {
     "data": {
      "text/plain": [
       "<matplotlib.figure.Figure at 0x1a1c0f5ef0>"
      ]
     },
     "metadata": {},
     "output_type": "display_data"
    },
    {
     "data": {
      "image/png": "[encoded data removed]",
      "text/plain": [
       "<matplotlib.figure.Figure at 0x1a1c08c278>"
      ]
     },
     "metadata": {},
     "output_type": "display_data"
    },
    {
     "data": {
      "text/plain": [
       "<matplotlib.figure.Figure at 0x1a1bcc6198>"
      ]
     },
     "metadata": {},
     "output_type": "display_data"
    },
    {
     "data": {
      "image/png": "[encoded data removed]",
      "text/plain": [
       "<matplotlib.figure.Figure at 0x1a1bd0d588>"
      ]
     },
     "metadata": {},
     "output_type": "display_data"
    },
    {
     "data": {
      "text/plain": [
       "<matplotlib.figure.Figure at 0x1a1ba2f358>"
      ]
     },
     "metadata": {},
     "output_type": "display_data"
    },
    {
     "data": {
      "image/png": "[encoded data removed]",
      "text/plain": [
       "<matplotlib.figure.Figure at 0x1a1bc9b4e0>"
      ]
     },
     "metadata": {},
     "output_type": "display_data"
    },
    {
     "data": {
      "text/plain": [
       "<matplotlib.figure.Figure at 0x1a1cda2d30>"
      ]
     },
     "metadata": {},
     "output_type": "display_data"
    },
    {
     "data": {
      "image/png": "[encoded data removed]",
      "text/plain": [
       "<matplotlib.figure.Figure at 0x1a1b98b7f0>"
      ]
     },
     "metadata": {},
     "output_type": "display_data"
    },
    {
     "data": {
      "text/plain": [
       "<matplotlib.figure.Figure at 0x1a1b75ea20>"
      ]
     },
     "metadata": {},
     "output_type": "display_data"
    },
    {
     "data": {
      "image/png": "[encoded data removed]",
      "text/plain": [
       "<matplotlib.figure.Figure at 0x1a1b98bd30>"
      ]
     },
     "metadata": {},
     "output_type": "display_data"
    },
    {
     "data": {
      "text/plain": [
       "<matplotlib.figure.Figure at 0x1a1ac947b8>"
      ]
     },
     "metadata": {},
     "output_type": "display_data"
    },
    {
     "data": {
      "image/png": "[encoded data removed]",
      "text/plain": [
       "<matplotlib.figure.Figure at 0x1a1dd29908>"
      ]
     },
     "metadata": {},
     "output_type": "display_data"
    },
    {
     "data": {
      "text/plain": [
       "<matplotlib.figure.Figure at 0x1a1db86eb8>"
      ]
     },
     "metadata": {},
     "output_type": "display_data"
    },
    {
     "data": {
      "image/png": "[encoded data removed]",
      "text/plain": [
       "<matplotlib.figure.Figure at 0x1a1b8f2dd8>"
      ]
     },
     "metadata": {},
     "output_type": "display_data"
    },
    {
     "data": {
      "text/plain": [
       "<matplotlib.figure.Figure at 0x1a1bca12b0>"
      ]
     },
     "metadata": {},
     "output_type": "display_data"
    },
    {
     "data": {
      "image/png": "[encoded data removed]",
      "text/plain": [
       "<matplotlib.figure.Figure at 0x1a1db74c18>"
      ]
     },
     "metadata": {},
     "output_type": "display_data"
    },
    {
     "data": {
      "text/plain": [
       "<matplotlib.figure.Figure at 0x1a1aa96eb8>"
      ]
     },
     "metadata": {},
     "output_type": "display_data"
    },
    {
     "data": {
      "image/png": "[encoded data removed]",
      "text/plain": [
       "<matplotlib.figure.Figure at 0x1a1dd645c0>"
      ]
     },
     "metadata": {},
     "output_type": "display_data"
    }
   ],
   "source": [
    "# Plot as a 8x8 gray-scale image each theta_k vector\n",
    "# (it represents the probability of each pixel to take value 1)\n",
    "\n",
    "\n",
    "for k in range(K):\n",
    "    plt.gray() \n",
    "    plt.matshow(Theta[k,:].reshape([8,8])) \n",
    "    plt.show()"
   ]
  },
  {
   "cell_type": "markdown",
   "metadata": {},
   "source": [
    "## EM for the MNIST Database (optional)\n",
    "\n",
    "Repeat the experiment for the MNIST Database. Take $10^4$ images **at random**, and binarize the database.\n"
   ]
  },
  {
   "cell_type": "code",
   "execution_count": 298,
   "metadata": {},
   "outputs": [],
   "source": [
    "from sklearn.datasets import fetch_mldata\n",
    "mnist = fetch_mldata('MNIST original')"
   ]
  },
  {
   "cell_type": "code",
   "execution_count": 327,
   "metadata": {},
   "outputs": [
    {
     "data": {
      "text/plain": [
       "<matplotlib.figure.Figure at 0x1a1dfa0898>"
      ]
     },
     "metadata": {},
     "output_type": "display_data"
    },
    {
     "data": {
      "image/png": "[encoded data removed]",
      "text/plain": [
       "<matplotlib.figure.Figure at 0x1a1dfadda0>"
      ]
     },
     "metadata": {},
     "output_type": "display_data"
    },
    {
     "data": {
      "text/plain": [
       "<matplotlib.figure.Figure at 0x1a1e101a90>"
      ]
     },
     "metadata": {},
     "output_type": "display_data"
    },
    {
     "data": {
      "image/png": "[encoded data removed]",
      "text/plain": [
       "<matplotlib.figure.Figure at 0x1a1e101668>"
      ]
     },
     "metadata": {},
     "output_type": "display_data"
    }
   ],
   "source": [
    "images = mnist.data  #70000 images\n",
    "\n",
    "\n",
    "plt.gray() \n",
    "plt.matshow(images[0,:].reshape([28,28])) \n",
    "plt.show()\n",
    "\n",
    "val_min=np.min(images)\n",
    "val_max=np.max(images)\n",
    "\n",
    "Bin_Images = (images - val_min) / (val_max - val_min)\n",
    "\n",
    "Bin_Images = np.round(Bin_Images)\n",
    "\n",
    "plt.gray() \n",
    "plt.matshow(Bin_Images[0,:].reshape([28,28])) \n",
    "plt.show()\n",
    "\n",
    "mask = np.random.permutation(Bin_Images.shape[0])\n",
    "\n",
    "Bin_Images = Bin_Images[mask,:]"
   ]
  },
  {
   "cell_type": "code",
   "execution_count": 366,
   "metadata": {},
   "outputs": [
    {
     "name": "stdout",
     "output_type": "stream",
     "text": [
      "Iteration  0\n",
      "Iteration  20\n",
      "Iteration  40\n",
      "Iteration  60\n",
      "Iteration  80\n",
      "Iteration  100\n",
      "Iteration  120\n",
      "Iteration  140\n",
      "Iteration  160\n",
      "Iteration  180\n",
      "Iteration  200\n",
      "Iteration  220\n",
      "Iteration  240\n",
      "Iteration  260\n",
      "Iteration  280\n",
      "Iteration  300\n",
      "Iteration  320\n",
      "Iteration  340\n",
      "Iteration  360\n",
      "Iteration  380\n",
      "Iteration  400\n",
      "Iteration  420\n",
      "Iteration  440\n",
      "Iteration  460\n",
      "Iteration  480\n",
      "Iteration  500\n",
      "Iteration  520\n",
      "Iteration  540\n",
      "Iteration  560\n",
      "Iteration  580\n",
      "Iteration  600\n",
      "Iteration  620\n",
      "Iteration  640\n",
      "Iteration  660\n",
      "Iteration  680\n",
      "Iteration  700\n",
      "Iteration  720\n",
      "Iteration  740\n",
      "Iteration  760\n",
      "Iteration  780\n",
      "Iteration  800\n",
      "Iteration  820\n",
      "Iteration  840\n",
      "Iteration  860\n",
      "Iteration  880\n",
      "Iteration  900\n",
      "Iteration  920\n",
      "Iteration  940\n",
      "Iteration  960\n",
      "Iteration  980\n"
     ]
    }
   ],
   "source": [
    "# EM \n",
    "\n",
    "K = 10\n",
    "D = 784\n",
    "N = 1000\n",
    "\n",
    "X = Bin_Images[:N,:]\n",
    "\n",
    "P = np.random.rand(K,1)\n",
    "P /= np.sum(P_true)\n",
    "\n",
    "Theta = 0.5/K*np.ones([K,D])+0.5*np.random.rand(K,D)\n",
    "\n",
    "Num_Iter = 1000\n",
    "\n",
    "alpha = 2.1\n",
    "beta = 2.1\n",
    "\n",
    "LL = np.zeros([Num_Iter,1])\n",
    "\n",
    "for i in range(Num_Iter):\n",
    "    \n",
    "    LL[i] = log_lik(X,P,Theta,K)\n",
    "    \n",
    "    R = responsibilities(X,P,Theta,K)\n",
    "    \n",
    "    P = new_P(R,N)\n",
    "    \n",
    "    Theta = new_Theta(R,X,K,alpha,beta)\n",
    "    \n",
    "    if(i % 20 ==0):\n",
    "        print('Iteration ',i)\n",
    "    "
   ]
  },
  {
   "cell_type": "code",
   "execution_count": 367,
   "metadata": {},
   "outputs": [
    {
     "data": {
      "text/plain": [
       "[<matplotlib.lines.Line2D at 0x1a1c8f60b8>]"
      ]
     },
     "execution_count": 367,
     "metadata": {},
     "output_type": "execute_result"
    },
    {
     "data": {
      "image/png": "[encoded data removed]",
      "text/plain": [
       "<matplotlib.figure.Figure at 0x1a1bc94da0>"
      ]
     },
     "metadata": {},
     "output_type": "display_data"
    }
   ],
   "source": [
    "# Plot the evolution of the negative LL. It should always decrease!\n",
    "plt.plot(-LL,'-*')  "
   ]
  },
  {
   "cell_type": "code",
   "execution_count": 368,
   "metadata": {},
   "outputs": [
    {
     "data": {
      "text/plain": [
       "<matplotlib.figure.Figure at 0x1a23eff7b8>"
      ]
     },
     "metadata": {},
     "output_type": "display_data"
    },
    {
     "data": {
      "image/png": "[encoded data removed]",
      "text/plain": [
       "<matplotlib.figure.Figure at 0x1a1bbd6e48>"
      ]
     },
     "metadata": {},
     "output_type": "display_data"
    },
    {
     "data": {
      "text/plain": [
       "<matplotlib.figure.Figure at 0x1a23ce9dd8>"
      ]
     },
     "metadata": {},
     "output_type": "display_data"
    },
    {
     "data": {
      "image/png": "[encoded data removed]",
      "text/plain": [
       "<matplotlib.figure.Figure at 0x1a1b9ac438>"
      ]
     },
     "metadata": {},
     "output_type": "display_data"
    },
    {
     "data": {
      "text/plain": [
       "<matplotlib.figure.Figure at 0x1a1a9a8ba8>"
      ]
     },
     "metadata": {},
     "output_type": "display_data"
    },
    {
     "data": {
      "image/png": "[encoded data removed]",
      "text/plain": [
       "<matplotlib.figure.Figure at 0x1a1b4f50b8>"
      ]
     },
     "metadata": {},
     "output_type": "display_data"
    },
    {
     "data": {
      "text/plain": [
       "<matplotlib.figure.Figure at 0x1a1ad0d8d0>"
      ]
     },
     "metadata": {},
     "output_type": "display_data"
    },
    {
     "data": {
      "image/png": "[encoded data removed]",
      "text/plain": [
       "<matplotlib.figure.Figure at 0x1a1dd419e8>"
      ]
     },
     "metadata": {},
     "output_type": "display_data"
    },
    {
     "data": {
      "text/plain": [
       "<matplotlib.figure.Figure at 0x1a1acaabe0>"
      ]
     },
     "metadata": {},
     "output_type": "display_data"
    },
    {
     "data": {
      "image/png": "[encoded data removed]",
      "text/plain": [
       "<matplotlib.figure.Figure at 0x1a1ace3550>"
      ]
     },
     "metadata": {},
     "output_type": "display_data"
    },
    {
     "data": {
      "text/plain": [
       "<matplotlib.figure.Figure at 0x1a1aa96978>"
      ]
     },
     "metadata": {},
     "output_type": "display_data"
    },
    {
     "data": {
      "image/png": "[encoded data removed]",
      "text/plain": [
       "<matplotlib.figure.Figure at 0x1a1d031668>"
      ]
     },
     "metadata": {},
     "output_type": "display_data"
    },
    {
     "data": {
      "text/plain": [
       "<matplotlib.figure.Figure at 0x1a4cee26d8>"
      ]
     },
     "metadata": {},
     "output_type": "display_data"
    },
    {
     "data": {
      "image/png": "[encoded data removed]",
      "text/plain": [
       "<matplotlib.figure.Figure at 0x1a1ac438d0>"
      ]
     },
     "metadata": {},
     "output_type": "display_data"
    },
    {
     "data": {
      "text/plain": [
       "<matplotlib.figure.Figure at 0x1a1d884128>"
      ]
     },
     "metadata": {},
     "output_type": "display_data"
    },
    {
     "data": {
      "image/png": "[encoded data removed]",
      "text/plain": [
       "<matplotlib.figure.Figure at 0x1a1dd12dd8>"
      ]
     },
     "metadata": {},
     "output_type": "display_data"
    },
    {
     "data": {
      "text/plain": [
       "<matplotlib.figure.Figure at 0x1a242acb38>"
      ]
     },
     "metadata": {},
     "output_type": "display_data"
    },
    {
     "data": {
      "image/png": "[encoded data removed]",
      "text/plain": [
       "<matplotlib.figure.Figure at 0x1a1c1077f0>"
      ]
     },
     "metadata": {},
     "output_type": "display_data"
    },
    {
     "data": {
      "text/plain": [
       "<matplotlib.figure.Figure at 0x1a67389be0>"
      ]
     },
     "metadata": {},
     "output_type": "display_data"
    },
    {
     "data": {
      "image/png": "[encoded data removed]",
      "text/plain": [
       "<matplotlib.figure.Figure at 0x1a1dfa7a90>"
      ]
     },
     "metadata": {},
     "output_type": "display_data"
    }
   ],
   "source": [
    "# Plot as a 8x8 gray-scale image each theta_k vector\n",
    "# (it represents the probability of each pixel to take value 1)\n",
    "\n",
    "\n",
    "for k in range(K):\n",
    "    plt.gray() \n",
    "    plt.matshow(Theta[k,:].reshape([28,28])) \n",
    "    plt.show()"
   ]
  },
  {
   "cell_type": "code",
   "execution_count": null,
   "metadata": {
    "collapsed": true
   },
   "outputs": [],
   "source": []
  }
 ],
 "metadata": {
  "kernelspec": {
   "display_name": "Python 3",
   "language": "python",
   "name": "python3"
  },
  "language_info": {
   "codemirror_mode": {
    "name": "ipython",
    "version": 3
   },
   "file_extension": ".py",
   "mimetype": "text/x-python",
   "name": "python",
   "nbconvert_exporter": "python",
   "pygments_lexer": "ipython3",
   "version": "3.6.5"
  }
 },
 "nbformat": 4,
 "nbformat_minor": 1
}
