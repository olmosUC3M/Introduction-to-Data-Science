{
 "cells": [
  {
   "cell_type": "markdown",
   "metadata": {},
   "source": [
    "# Session 5: Gradient Descent \n",
    "\n",
    "## House sale-value prediction using the Boston housing dataset\n",
    "\n",
    "------------------------------------------------------\n",
    "*ATDST, 2017-2018*\n",
    "\n",
    "*Pablo M. Olmos olmos@tsc.uc3m.es*\n",
    "\n",
    "------------------------------------------------------"
   ]
  },
  {
   "cell_type": "markdown",
   "metadata": {},
   "source": [
    "## Importing Packages"
   ]
  },
  {
   "cell_type": "code",
   "execution_count": 8,
   "metadata": {},
   "outputs": [],
   "source": [
    "import matplotlib.pyplot as plt\n",
    "import pandas as pd \n",
    "import numpy as np\n",
    "from sklearn import linear_model\n",
    "\n",
    "%matplotlib inline"
   ]
  },
  {
   "cell_type": "markdown",
   "metadata": {},
   "source": [
    "Today, we will continue with the example we used for session 2: Predicting house values using the average number of rooms in the [Boston housing dataset](https://archive.ics.uci.edu/ml/machine-learning-databases/housing/housing.names).\n",
    "\n",
    "Attribute Information can be found [here](https://www.kaggle.com/c/boston-housing).\n"
   ]
  },
  {
   "cell_type": "markdown",
   "metadata": {},
   "source": [
    "### Loading Data\n",
    "\n",
    "We will manage the database using [Panda's library and Dataframes](http://pandas.pydata.org/pandas-docs/stable/tutorials.html)"
   ]
  },
  {
   "cell_type": "code",
   "execution_count": 9,
   "metadata": {},
   "outputs": [],
   "source": [
    "housing_data=pd.read_csv('./Boston_train.csv')"
   ]
  },
  {
   "cell_type": "markdown",
   "metadata": {},
   "source": [
    "We divide the whole data set in **80% training** and **20% test**:"
   ]
  },
  {
   "cell_type": "code",
   "execution_count": 10,
   "metadata": {},
   "outputs": [],
   "source": [
    "N = len(housing_data)\n",
    "\n",
    "N_train = np.round(0.8 * N).astype(np.int32)\n",
    "\n",
    "np.random.seed(seed=10) #To fix the random seed\n",
    "\n",
    "mask = np.random.permutation(len(housing_data))\n",
    "\n",
    "\n",
    "regression_data_frame = housing_data[['rm','medv']].iloc[list(mask[0:N_train])]\n",
    "\n",
    "X_0 = np.array(regression_data_frame['rm']) \n",
    "Y = np.array(regression_data_frame['medv'])\n",
    "\n",
    "regression_data_frame_test = housing_data[['rm','medv']].iloc[list(mask[N_train:-1])]\n",
    "\n",
    "X_0_test = np.array(regression_data_frame_test['rm']) \n",
    "Y_test = np.array(regression_data_frame_test['medv'])\n"
   ]
  },
  {
   "cell_type": "markdown",
   "metadata": {},
   "source": [
    "# Numerical Optimization with Gradient Descend\n",
    "\n",
    "As we know, the Ridge regression optimization problem\n",
    "$$\\boldsymbol{\\theta}_\\lambda = \\arg \\min_{\\theta} \\frac{1}{N} \\left[\\sum_{i=1}^{N} (y^{(i)}-\\boldsymbol{\\theta}^T\\mathbf{x}^{(i)})^2 + \\lambda \\sum_{j=1}^{D+1} \\theta_j^2\\right],$$\n",
    "can be solved using the **normal equation**\n",
    "$$\\boldsymbol{\\theta}_\\lambda = (\\mathbf{X}^T\\mathbf{X} + \\mathbf{D}_\\lambda)^{-1}\\mathbf{X}^T\\mathbf{y},$$\n",
    "\n",
    "However, as we advanced in Session 2, computing the normal equation has many important drawbacks:\n",
    "- You need to keep the full target matrix $\\mathbf{X}_{N\\times (D+1)}$ in memory, which can be huge in large datasets!\n",
    "- You need to invert the matrix $(\\mathbf{X}^T\\mathbf{X})^{-1}\\mathbf{X}$ $\\Rightarrow$ $\\mathcal{O}(D^3)$ complexity.\n",
    "- For small data sets ($N\\leq D$), $(\\mathbf{X}^T\\mathbf{X})^{-1}$ can be non-invertible!\n",
    "- Once you get new data, how do you update $\\boldsymbol{\\theta}^*$?\n",
    "\n",
    "Today, we will learn how to apply a very simple algorithm to perform numerical optimization: **gradient descent** (GD). GD is one of the cornerstones of **convex optimization**, but it is also widely used for **non-convex optimization** for instance in [deep learning with neural networks](https://www.youtube.com/watch?v=IHZwWFHWa-w). Be aware that GD is probably the simplest numerical optimization algorithm  and that there is a whole [field](https://web.stanford.edu/group/sisl/k12/optimization/#!index.md) devoted to optimize numerically a function.\n",
    "\n",
    "In a nutshell, GD tries to iteratively converge to the minimum of a function $f(\\boldsymbol{\\theta})$ by iteratively applying the following update rule:\n",
    "\n",
    "$$\\boldsymbol{\\theta}_{\\ell+1} = \\boldsymbol{\\theta}_\\ell - \\alpha \\nabla f(\\boldsymbol{\\theta})|_{\\boldsymbol{\\theta}_\\ell},$$\n",
    "\n",
    "where $\\nabla(\\cdot)$ is the gradient operator and $\\alpha$ is the learning rate. **Setting the learning rate** is a problem in general. Despite we won't cover the topic in detail and just restrict to simple checks, be aware that there are many modifications to GD that attempt to authomatically tune $\\alpha$, like the [line search](https://people.maths.ox.ac.uk/hauser/hauser_lecture2.pdf) method.\n",
    "\n",
    "\n",
    "#### Check out this [beautiful post](http://www.benfrederickson.com/numerical-optimization/)!\n",
    "\n",
    "___\n"
   ]
  },
  {
   "cell_type": "markdown",
   "metadata": {},
   "source": [
    "# Solving the Ridge regression problem using GD\n",
    "\n",
    "If we define\n",
    "\n",
    "$$ J(\\boldsymbol{\\theta}) = \\frac{1}{N} \\left[\\sum_{i=1}^{N} (y^{(i)}-\\boldsymbol{\\theta}^T\\mathbf{x}^{(i)})^2 + \\lambda \\sum_{j=1}^{D+1}\\theta_j^2\\right],$$\n",
    "\n",
    "then it is easy to check that, for $m>0$:\n",
    "\n",
    "\\begin{align}\n",
    "\\frac{\\partial J(\\boldsymbol{\\theta})}{\\partial \\theta_m}= \\frac{2}{N} \\left[\\lambda\\theta_m-\\sum_{i=1}^{N} x_m^{(i)}\\left(y^{(i)}-\\boldsymbol{\\theta}^T\\mathbf{x}^{(i)}\\right)\\right]= \\frac{2}{N} \\left[\\lambda\\theta_m - \\mathbf{e}^T \\mathbf{X}_{:,m}\\right],\n",
    "\\end{align}\n",
    "where $\\mathbf{e}=\\mathbf{y}-\\boldsymbol{\\theta}^T \\mathbf{X}$ is the error vector and $\\mathbf{X}_{:,m}$ is the $m$-th column of the normalized training feature matrix. For $m=0$ the first term is not present, since the intercept is not regularized:\n",
    "\\begin{align}\n",
    "\\frac{\\partial J(\\boldsymbol{\\theta})}{\\partial \\theta_m}= \\frac{-2}{N} \\left[\\sum_{i=1}^{N} x_m^{(i)}\\left(y^{(i)}-\\boldsymbol{\\theta}^T\\mathbf{x}^{(i)}\\right)\\right]= \\frac{-2}{N} \\left[\\mathbf{e}^T \\mathbf{X}_{:,m}\\right],\n",
    "\\end{align}\n",
    "\n",
    "Note that in both cases ** the gradient vanishes when the error is zero**.\n",
    "\n",
    "Lets now program the GD method in a modular way. First, we incorporate some useful functions from the ** previous session**. They will be included as a Python library file.\n"
   ]
  },
  {
   "cell_type": "code",
   "execution_count": 11,
   "metadata": {},
   "outputs": [],
   "source": [
    "import Ridge_functions as ridge   # You can find details in provided file S4_Ridge_functions.py"
   ]
  },
  {
   "cell_type": "markdown",
   "metadata": {},
   "source": [
    "## Compute Gradient\n",
    "\n",
    "** First ** you have to program a function that computes the gradient and takes as input arguments\n",
    "- The feature matrix $\\mathbf{X}$\n",
    "- The error vector $\\mathbf{e}$\n",
    "- The value of $\\lambda$\n",
    "- The current value of $\\boldsymbol{\\theta}$\n",
    "and returns as output the $(D+1)$-dimensional gradient of $J(\\boldsymbol{\\theta})$."
   ]
  },
  {
   "cell_type": "code",
   "execution_count": 12,
   "metadata": {
    "collapsed": true
   },
   "outputs": [],
   "source": [
    "def compute_gradient(feature_matrix,error,l,T):\n",
    "    ## YOUR CODE HERE\n",
    "    \n",
    "    gradient = l*T - error @ feature_matrix\n",
    "    gradient[0] -= l*T[0]\n",
    "    gradient *= 2.0/feature_matrix.shape[0]\n",
    "    \n",
    "    return(gradient)"
   ]
  },
  {
   "cell_type": "markdown",
   "metadata": {},
   "source": [
    "## Numerical evaluation of the gradient\n",
    "\n",
    "Before moving forward, let's run a numerical check to verify that the gradient you compute in the function above is correct.\n",
    "\n",
    "1) Fix a given arbitrary value of $\\boldsymbol{\\theta}^o$.\n",
    "\n",
    "2) Introduce a small distortion in one of the components of $\\boldsymbol{\\theta}$. For instance, $\\theta_m^+=\\theta^o_m$ for $m\\neq 1$ and $\\theta^+_1 = \\theta^o_1+\\epsilon$, where $\\epsilon=10^{-3}$. Evaluate the cost function $J(\\boldsymbol{\\theta}^+)$.\n",
    "\n",
    "3) Define a new vector $\\boldsymbol{\\theta}^-$ such that $\\theta_m^-=\\theta^o_m$ for $m\\neq 1$ and $\\theta^-_1 = \\theta^o_1-\\epsilon$, where $\\epsilon=10^{-3}$. Evaluate the cost function $J(\\boldsymbol{\\theta}^-)$.\n",
    "\n",
    "4) Verify that \n",
    "\n",
    "$$\\frac{\\partial J(\\boldsymbol{\\theta})}{\\partial \\theta_1} \\approx \\frac{J(\\boldsymbol{\\theta}^+)-J(\\boldsymbol{\\theta}^-)}{2\\epsilon}$$,\n",
    "where the derivative in the left hand side is given by the second component of the gradient computed using your function above. **Repeat the experiment using the first component of the gradient, i.e., the derivative w.r.t. $\\theta_0$**.\n"
   ]
  },
  {
   "cell_type": "code",
   "execution_count": 13,
   "metadata": {},
   "outputs": [
    {
     "name": "stdout",
     "output_type": "stream",
     "text": [
      "The gradient at position 1 is -12.406842\n",
      "The approximate gradient at position 1 is -12.406842\n"
     ]
    }
   ],
   "source": [
    "# Lets fix a degree\n",
    "deg = 2\n",
    "l= 1.0\n",
    "np.random.seed(seed=10) #To fix the random seed\n",
    "\n",
    "T = np.random.rand(3)\n",
    "\n",
    "# This is how we would compute the cost function at T and obtain the normalized train feature matrix\n",
    "# J_train,_,F_train,_ = ridge.eval_J_Ridge_given_T(X_0,X_0_test,deg,Y,Y_test,l,T)\n",
    "\n",
    "# Your code here\n",
    "mod = np.zeros(T.shape)\n",
    "epsilon = 1e-2\n",
    "index = 0\n",
    "mod[index] += epsilon\n",
    "\n",
    "T_p = T + mod\n",
    "T_m = T - mod\n",
    "\n",
    "J_p,_,F_train,_ = ridge.eval_J_Ridge_given_T(X_0,X_0_test,deg,Y,Y_test,l,T_p)\n",
    "J_m,_,_,_ = ridge.eval_J_Ridge_given_T(X_0,X_0_test,deg,Y,Y_test,l,T_m)\n",
    "\n",
    "error = (Y - ridge.LS_evaluate(F_train,T))\n",
    "\n",
    "gradient = compute_gradient(F_train,error,l,T)\n",
    "\n",
    "print(\"The gradient at position %d is %f\" %(index,gradient[index]))\n",
    "\n",
    "print(\"The approximate gradient at position %d is %f\" %(index,(J_p-J_m)/(2*epsilon))) # Your code here\n",
    "\n"
   ]
  },
  {
   "cell_type": "markdown",
   "metadata": {},
   "source": [
    "## Implementing GD\n",
    "\n",
    "Now, complete the following function to estimate the Ridge solution using gradient descend. The inputs are:\n",
    "\n",
    "- The normalized train feature matrix $\\mathbf{X}$\n",
    "- The target vector $\\mathbf{Y}$\n",
    "- The initial value of theta $\\boldsymbol{\\theta}$\n",
    "- The step size $\\alpha$\n",
    "- The stopping tolerance: a threshold that halts the algorithm when the norm of the gradient is below this limit\n",
    "- The maximum number of iterations"
   ]
  },
  {
   "cell_type": "code",
   "execution_count": 14,
   "metadata": {},
   "outputs": [],
   "source": [
    "def regression_gradient_descent(F_train, Y, T_0, l, step_size, tolerance, iter_max,verbose=True,period_verbose=1000):\n",
    "    converged = False \n",
    "    T = np.array(T_0) # make sure it's a numpy array\n",
    "    it=0\n",
    "    \n",
    "    while not converged:\n",
    "\n",
    "        # First, compute the error vector \n",
    "        error= (Y - ridge.LS_evaluate(F_train,T)) #YOUR CODE HERE\n",
    "        \n",
    "        # Second compute the gradient vector\n",
    "        gradient= compute_gradient(F_train,error,l,T) #YOUR CODE HERE\n",
    "        \n",
    "        # Finally, update the theta vector\n",
    "        T=T- step_size * gradient #YOUR CODE HERE\n",
    "        \n",
    "        grad_norm=np.linalg.norm(gradient)\n",
    "        \n",
    "        if(verbose==True and it % period_verbose ==0):\n",
    "            J_Ridge = ridge.J_error_L2(Y,ridge.LS_evaluate(F_train,T),T,l)  \n",
    "            print (\"Iterations = %d\" %(it))\n",
    "            print (\"Gradient norm %f\" %(grad_norm))\n",
    "            print (\"Ridge cost function %f\" %(J_Ridge))            \n",
    "\n",
    "        if grad_norm < tolerance:\n",
    "            converged = True\n",
    "        elif it > iter_max:\n",
    "            converged = True\n",
    "        else:\n",
    "            it=it+1\n",
    "        \n",
    "    if(converged==True):\n",
    "        J_Ridge = ridge.J_error_L2(Y,ridge.LS_evaluate(F_train,T),T,l)  \n",
    "        print (\"Iterations = %d\" %(it))\n",
    "        print (\"Gradient norm %f\" %(grad_norm))\n",
    "        print (\"Ridge cost function %f\" %(J_Ridge))\n",
    "        \n",
    "    return(T)"
   ]
  },
  {
   "cell_type": "markdown",
   "metadata": {},
   "source": [
    "## Evaluate solution and compare with normal equation\n",
    "\n",
    "Run an example to verify that the GD solution is close to the one predicted by the normal equation. Investigate the effect of the step size."
   ]
  },
  {
   "cell_type": "code",
   "execution_count": 15,
   "metadata": {},
   "outputs": [
    {
     "name": "stdout",
     "output_type": "stream",
     "text": [
      "Iterations = 0\n",
      "Gradient norm 50.330715\n",
      "Ridge cost function 527.205810\n",
      "Iterations = 10000\n",
      "Gradient norm 0.034596\n",
      "Ridge cost function 33.633354\n",
      "Iterations = 20000\n",
      "Gradient norm 0.014153\n",
      "Ridge cost function 33.577614\n",
      "Iterations = 30000\n",
      "Gradient norm 0.005790\n",
      "Ridge cost function 33.568285\n",
      "Iterations = 40000\n",
      "Gradient norm 0.002369\n",
      "Ridge cost function 33.566724\n",
      "Iterations = 49655\n",
      "Gradient norm 0.001000\n",
      "Ridge cost function 33.566466\n"
     ]
    },
    {
     "data": {
      "text/plain": [
       "<matplotlib.legend.Legend at 0x1a1810f470>"
      ]
     },
     "execution_count": 15,
     "metadata": {},
     "output_type": "execute_result"
    },
    {
     "data": {
      "image/png": "[encoded data removed]",
      "text/plain": [
       "<matplotlib.figure.Figure at 0x1a14e0f4a8>"
      ]
     },
     "metadata": {},
     "output_type": "display_data"
    }
   ],
   "source": [
    "# Lets fix a degree\n",
    "deg = 5\n",
    "l= 1.0\n",
    "T = np.random.rand(6)\n",
    "\n",
    "#Cost function at initial T and feature matrix\n",
    "J_0,_,F_train,_ = ridge.eval_J_Ridge_given_T(X_0,X_0_test,deg,Y,Y_test,l,T)\n",
    "\n",
    "step_size = 1e-02\n",
    "iter_max = 5e4\n",
    "tolerance = 1e-03\n",
    "period= 1e04\n",
    "\n",
    "T_opt = regression_gradient_descent(F_train, Y, T, l, step_size, tolerance, iter_max,verbose=True,period_verbose=period)\n",
    "\n",
    "T_normal = ridge.Ridge_solution(F_train,Y,l)\n",
    "\n",
    "plt.stem(T_normal,'r',label='Normal Equation')\n",
    "plt.plot(T_opt,'b',label='Gradient Descent')\n",
    "plt.legend()"
   ]
  },
  {
   "cell_type": "code",
   "execution_count": null,
   "metadata": {
    "collapsed": true
   },
   "outputs": [],
   "source": []
  }
 ],
 "metadata": {
  "kernelspec": {
   "display_name": "Python 3",
   "language": "python",
   "name": "python3"
  },
  "language_info": {
   "codemirror_mode": {
    "name": "ipython",
    "version": 3
   },
   "file_extension": ".py",
   "mimetype": "text/x-python",
   "name": "python",
   "nbconvert_exporter": "python",
   "pygments_lexer": "ipython3",
   "version": "3.6.3"
  }
 },
 "nbformat": 4,
 "nbformat_minor": 1
}
