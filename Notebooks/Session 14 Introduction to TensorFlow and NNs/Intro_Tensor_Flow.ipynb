{
 "cells": [
  {
   "cell_type": "markdown",
   "metadata": {},
   "source": [
    "# Session 14: Introduction to Tensor Flow for Deep Learning\n",
    "\n",
    "\n",
    "------------------------------------------------------\n",
    "*Introduction to Data Science & Machine Learning*\n",
    "\n",
    "*Pablo M. Olmos olmos@tsc.uc3m.es*\n",
    "\n",
    "------------------------------------------------------\n",
    "\n",
    "\n",
    "Goals for today:\n",
    "    - Train a multinomial Logistic Regressor with Gradient Descend\n",
    "    - Train a multinomial Logistic Regressor with Stochastic Gradient Descend\n",
    "    - Introduce regularization in the two models above. Select the regularization parameter via CV\n",
    "    \n",
    "    - Create a Neural Network Classifier with 2 layers\n",
    "    \n",
    "This is a personal wrap-up of all the material provided by [Google's Deep Learning course on Udacity](https://www.udacity.com/course/deep-learning--ud730), so all credit goes to them. "
   ]
  },
  {
   "cell_type": "code",
   "execution_count": 1,
   "metadata": {},
   "outputs": [],
   "source": [
    "# These are all the modules we'll be using later. Make sure you can import them\n",
    "# before proceeding further.\n",
    "import numpy as np\n",
    "import tensorflow as tf\n",
    "from six.moves import cPickle as pickle\n",
    "from six.moves import range\n",
    "from IPython.display import display, Image\n",
    "import matplotlib.pyplot as plt\n",
    "# Config the matlotlib backend as plotting inline in IPython\n",
    "%matplotlib inline\n"
   ]
  },
  {
   "cell_type": "code",
   "execution_count": 2,
   "metadata": {},
   "outputs": [
    {
     "name": "stdout",
     "output_type": "stream",
     "text": [
      "1.4.0\n"
     ]
    }
   ],
   "source": [
    "# Lets check what version of tensorflow we have installed. The provided scripts should run with tf 1.0 and above\n",
    "\n",
    "print(tf.__version__)"
   ]
  },
  {
   "cell_type": "markdown",
   "metadata": {},
   "source": [
    "## Loading MNIST database"
   ]
  },
  {
   "cell_type": "code",
   "execution_count": 48,
   "metadata": {
    "collapsed": true
   },
   "outputs": [],
   "source": [
    "from sklearn.datasets import fetch_mldata\n",
    "from sklearn.cross_validation import train_test_split\n",
    "mnist = fetch_mldata('MNIST original')"
   ]
  },
  {
   "cell_type": "code",
   "execution_count": 72,
   "metadata": {
    "collapsed": true
   },
   "outputs": [],
   "source": [
    "images = mnist.data.astype(np.float32)\n",
    "labels = mnist.target\n",
    "\n",
    "train_dataset,test_dataset,train_labels,test_labels = train_test_split(images, labels, test_size=0.33, random_state=42)\n",
    "\n",
    "train_dataset,valid_dataset,train_labels,valid_labels = train_test_split(train_dataset, train_labels, test_size=0.33, random_state=42)\n",
    "\n",
    "# Separate a smaller data set for training (20000 images) \n",
    "N = 20000\n",
    "\n",
    "train_dataset = train_dataset[:N,:]\n",
    "train_labels = train_labels[:N]"
   ]
  },
  {
   "cell_type": "markdown",
   "metadata": {},
   "source": [
    "Lets visualize some of the images ..."
   ]
  },
  {
   "cell_type": "code",
   "execution_count": 73,
   "metadata": {},
   "outputs": [
    {
     "data": {
      "image/png": "[encoded data removed]",
      "text/plain": [
       "<matplotlib.figure.Figure at 0x1a1b02b240>"
      ]
     },
     "metadata": {},
     "output_type": "display_data"
    },
    {
     "data": {
      "image/png": "[encoded data removed]",
      "text/plain": [
       "<matplotlib.figure.Figure at 0x107b74470>"
      ]
     },
     "metadata": {},
     "output_type": "display_data"
    },
    {
     "data": {
      "image/png": "[encoded data removed]",
      "text/plain": [
       "<matplotlib.figure.Figure at 0x1a182c8a58>"
      ]
     },
     "metadata": {},
     "output_type": "display_data"
    }
   ],
   "source": [
    "#Generate a random index\n",
    "num_figs=3\n",
    "img_size = 28\n",
    "\n",
    "index=np.random.randint(train_dataset.shape[0], size=num_figs)\n",
    "\n",
    "for i in range(num_figs):\n",
    "    plt.figure()\n",
    "    plt.imshow(train_dataset[index[i],:].reshape([28,28]),cmap=plt.cm.gray)\n",
    "    plt.title('Label:' + str(train_labels[index[i]]))"
   ]
  },
  {
   "cell_type": "markdown",
   "metadata": {},
   "source": [
    "### Reformat labels as 1-hot encodings"
   ]
  },
  {
   "cell_type": "code",
   "execution_count": 74,
   "metadata": {},
   "outputs": [
    {
     "name": "stdout",
     "output_type": "stream",
     "text": [
      "Training set (20000, 784) (20000, 10)\n",
      "Validation set (15477, 784) (15477, 10)\n",
      "Test set (23100, 784) (23100, 10)\n"
     ]
    }
   ],
   "source": [
    "image_size = 28\n",
    "num_labels = 10\n",
    "\n",
    "def reformat(labels):\n",
    "    # Map 0 to [1.0, 0.0, 0.0 ...], 1 to [0.0, 1.0, 0.0 ...]\n",
    "    labels = (np.arange(num_labels) == labels[:,None]).astype(np.float32)\n",
    "    return labels\n",
    "\n",
    "train_labels = reformat(train_labels)\n",
    "valid_labels = reformat(valid_labels)\n",
    "test_labels = reformat(test_labels)\n",
    "print('Training set', train_dataset.shape, train_labels.shape)\n",
    "print('Validation set', valid_dataset.shape, valid_labels.shape)\n",
    "print('Test set', test_dataset.shape, test_labels.shape)"
   ]
  },
  {
   "cell_type": "markdown",
   "metadata": {},
   "source": [
    "## Lets define and train a Logistir Regressor with tensorflow!!"
   ]
  },
  {
   "cell_type": "markdown",
   "metadata": {},
   "source": [
    "We're first going to train a multinomial logistic regression using simple gradient descent. \n",
    "\n",
    "$$ p(y_i=1|x)=\\frac{\\text{e}^{(w^T_i x+b_i)}}{\\sum_{j=1}^{K} \\text{e}^{(w^T_j x+b_j)}}\\qquad i=1,\\ldots, K$$\n",
    "\n",
    "where $x\\in\\mathbb{R}^D$ is the input array vector, $w_i\\in\\mathbb{R}^D$ for $i=1,\\ldots, J$ and $b\\in\\mathbb{R}^J$ are the weights and biases to be estimated and $y_i$ is the output (one-hot encoded) vector, $i=1,\\ldots, J$. Weight matrix $W=[w_1 w_2 \\ldots w_J]_{D\\times J}$ is chosen to minimize the cross-entropy loss function:\n",
    "\n",
    "$$ L(W)=-\\frac{1}{N}\\sum_{n=1}^{N} \\sum_{i=1}^{K}  y_i^{n} \\log\\left(p(y^{n}_i=1|x^n)\\right)$$ \n",
    "\n",
    "where $(x^n,y^n)$ is the $n$-th data of the training set.\n"
   ]
  },
  {
   "cell_type": "markdown",
   "metadata": {},
   "source": [
    "### Computation graphs and Sessions in TF"
   ]
  },
  {
   "cell_type": "markdown",
   "metadata": {},
   "source": [
    "TensorFlow works like this:\n",
    "\n",
    "    First you describe the computation that you want to see performed: what the inputs, the variables, and the operations look like. These get created as nodes over a \n",
    "    computation graph. This description is all contained within the block below:\n",
    "\n",
    "    with graph.as_default():\n",
    "        ...\n",
    "\n",
    "    Then you can run the operations on this graph as many times as you want by calling session.run(), providing it outputs to fetch from the graph that get returned. This runtime operation is all contained in the block below:\n",
    "\n",
    "    with tf.Session(graph=graph) as session:\n",
    "        ...\n",
    "\n",
    "Let's load all the data into TensorFlow and build the computation graph corresponding to our training"
   ]
  },
  {
   "cell_type": "code",
   "execution_count": 75,
   "metadata": {
    "collapsed": true
   },
   "outputs": [],
   "source": [
    "# With gradient descent training, even this much data is prohibitive.\n",
    "# Subset the training data for faster turnaround.\n",
    "train_subset = 1000\n",
    "\n",
    "graph_LR = tf.Graph()\n",
    "\n",
    "with graph_LR.as_default():\n",
    "    \n",
    "    # Input data.\n",
    "    # Load the training, validation and test data into constants that are\n",
    "    # attached to the graph.\n",
    "    tf_train_dataset = tf.constant(train_dataset[:train_subset, :])\n",
    "    tf_train_labels = tf.constant(train_labels[:train_subset])\n",
    "    tf_valid_dataset = tf.constant(valid_dataset)\n",
    "    tf_test_dataset = tf.constant(test_dataset)    \n",
    "\n",
    "    # Variables.\n",
    "    # These are the parameters that we are going to be training. The weight\n",
    "    # matrix will be initialized using random values following a (truncated)\n",
    "    # normal distribution. The biases get initialized to zero.\n",
    "    weights = tf.Variable(tf.truncated_normal([image_size * image_size, num_labels]))\n",
    "    \n",
    "    biases = tf.Variable(tf.zeros([num_labels]))\n",
    "\n",
    "    # Training computation.\n",
    "    # We multiply the inputs with the weight matrix, and add biases. We compute\n",
    "    # the softmax and cross-entropy (it's one operation in TensorFlow, because\n",
    "    # it's very common, and it can be optimized). We take the average of this\n",
    "    # cross-entropy across all training examples: that's our loss.\n",
    "    logits = tf.matmul(tf_train_dataset, weights) + biases\n",
    "    \n",
    "    loss = tf.reduce_mean(\n",
    "        tf.nn.softmax_cross_entropy_with_logits(labels=tf_train_labels,logits=logits))\n",
    "    \n",
    "    # Optimizer.\n",
    "    # We are going to find the minimum of this loss using gradient descent.\n",
    "    # We can either use standard Gradiend Descend (if you uncomment the following line)\n",
    "    # optimizer = tf.train.GradientDescentOptimizer(0.5).minimize(loss)\n",
    "    \n",
    "    # or more robust and efficient optimizers  like ADAM (among many others)\n",
    "    # https://arxiv.org/abs/1412.6980  \n",
    "    optimizer = tf.train.AdamOptimizer(learning_rate=5e-03).minimize(loss)\n",
    "    \n",
    "    # Predictions for the training, validation, and test data.\n",
    "    # These are not part of training, but merely here so that we can report\n",
    "    # accuracy figures as we train.\n",
    "    train_prediction = tf.nn.softmax(logits)\n",
    "    valid_prediction = tf.nn.softmax(tf.matmul(tf_valid_dataset, weights) + biases)\n",
    "    test_prediction = tf.nn.softmax(tf.matmul(tf_test_dataset, weights) + biases) "
   ]
  },
  {
   "cell_type": "code",
   "execution_count": 76,
   "metadata": {
    "collapsed": true
   },
   "outputs": [],
   "source": [
    "def accuracy(predictions, labels):\n",
    "    return (100.0 * np.sum(np.argmax(predictions, 1) == np.argmax(labels, 1))\n",
    "              / predictions.shape[0])"
   ]
  },
  {
   "cell_type": "code",
   "execution_count": 77,
   "metadata": {},
   "outputs": [
    {
     "name": "stdout",
     "output_type": "stream",
     "text": [
      "Initialized\n",
      "Loss at step 0: 2967.326904\n",
      "Training accuracy: 11.8%\n",
      "Validation accuracy: 12.0%\n",
      "Loss at step 500: 1.164694\n",
      "Training accuracy: 99.5%\n",
      "Validation accuracy: 70.8%\n",
      "Loss at step 1000: 0.000005\n",
      "Training accuracy: 100.0%\n",
      "Validation accuracy: 71.1%\n",
      "Loss at step 1500: 0.000002\n",
      "Training accuracy: 100.0%\n",
      "Validation accuracy: 71.1%\n",
      "Loss at step 2000: 0.000001\n",
      "Training accuracy: 100.0%\n",
      "Validation accuracy: 71.0%\n",
      "Loss at step 2500: 0.000001\n",
      "Training accuracy: 100.0%\n",
      "Validation accuracy: 71.0%\n",
      "Test accuracy: 72.0%\n"
     ]
    }
   ],
   "source": [
    "# Number of GD steps\n",
    "num_steps=3000\n",
    "\n",
    "with tf.Session(graph=graph_LR) as session:\n",
    "    \n",
    "    # This is a one-time operation which ensures the parameters get initialized as\n",
    "    # we described in the graph: random weights for the matrix, zeros for the\n",
    "    # biases.\n",
    "    \n",
    "    tf.global_variables_initializer().run()\n",
    "    \n",
    "    print('Initialized')\n",
    "    \n",
    "    for step in range(num_steps):\n",
    "        # Run the computations. We tell .run() that we want to run the optimizer,\n",
    "        # and get the loss value and the training predictions returned as numpy\n",
    "        # arrays.\n",
    "        \n",
    "        _, l, predictions = session.run([optimizer, loss, train_prediction])\n",
    "        \n",
    "        if (step % 500 == 0):\n",
    "            print('Loss at step %d: %f' % (step, l))\n",
    "            print('Training accuracy: %.1f%%' % accuracy(\n",
    "                predictions, train_labels[:train_subset, :]))\n",
    "            \n",
    "            # Calling .eval() on valid_prediction is basically like calling run(), but\n",
    "            # just to get that one numpy array. Note that it recomputes all its graph\n",
    "            # dependencies.\n",
    "            \n",
    "            print('Validation accuracy: %.1f%%' % accuracy(\n",
    "                valid_prediction.eval(), valid_labels))\n",
    "            \n",
    "    print('Test accuracy: %.1f%%' % accuracy(test_prediction.eval(), test_labels))"
   ]
  },
  {
   "cell_type": "markdown",
   "metadata": {},
   "source": [
    "## Let's now switch to stochastic gradient descent training instead, which is much faster.\n",
    "\n",
    "To allow efficient trainning across large databases, we will perform GD using a small minibatch of data that will be changed everytime.\n",
    "\n",
    "The graph will be similar, except that instead of holding all the training data into a constant node, we create a Placeholder node which will be fed actual data at every call of session.run().\n",
    "\n",
    "Btw, if you want to know more about optimization algorithms, [check out this post!](http://ruder.io/optimizing-gradient-descent/)."
   ]
  },
  {
   "cell_type": "code",
   "execution_count": 78,
   "metadata": {
    "collapsed": true
   },
   "outputs": [],
   "source": [
    "batch_size = 128\n",
    "\n",
    "graph_LR_SGD = tf.Graph()\n",
    "\n",
    "with graph_LR_SGD.as_default():\n",
    "    \n",
    "    # Input data.\n",
    "    # Input data. For the training data, we use a placeholder that will be fed\n",
    "    # at run time with a training minibatch.\n",
    "    tf_train_dataset = tf.placeholder(tf.float32,shape=(batch_size, image_size * image_size))\n",
    "    tf_train_labels = tf.placeholder(tf.float32, shape=(batch_size, num_labels))\n",
    "    tf_valid_dataset = tf.constant(valid_dataset)\n",
    "    tf_test_dataset = tf.constant(test_dataset)    \n",
    "\n",
    "    # Variables.\n",
    "    weights = tf.Variable(tf.truncated_normal([image_size * image_size, num_labels]))\n",
    "    biases = tf.Variable(tf.zeros([num_labels]))\n",
    "\n",
    "    # Loss\n",
    "    logits = tf.matmul(tf_train_dataset, weights) + biases\n",
    "    \n",
    "    loss = tf.reduce_mean(\n",
    "        tf.nn.softmax_cross_entropy_with_logits(labels=tf_train_labels,logits=logits))\n",
    "    \n",
    "    # Optimizer.\n",
    "    optimizer = tf.train.AdamOptimizer(learning_rate=5e-03).minimize(loss)\n",
    "    \n",
    "    \n",
    "    # Predictions for the training, validation, and test data.\n",
    "    train_prediction = tf.nn.softmax(logits)\n",
    "    valid_prediction = tf.nn.softmax(\n",
    "        tf.matmul(tf_valid_dataset, weights) + biases)\n",
    "    test_prediction = tf.nn.softmax(tf.matmul(tf_test_dataset, weights) + biases) "
   ]
  },
  {
   "cell_type": "code",
   "execution_count": 79,
   "metadata": {
    "scrolled": true
   },
   "outputs": [
    {
     "name": "stdout",
     "output_type": "stream",
     "text": [
      "Initialized\n",
      "Minibatch loss at step 0: 4101.222656\n",
      "Minibatch accuracy: 9.4%\n",
      "Validation accuracy: 8.2%\n",
      "Minibatch loss at step 1000: 43.660065\n",
      "Minibatch accuracy: 91.4%\n",
      "Validation accuracy: 85.6%\n",
      "Minibatch loss at step 2000: 56.503834\n",
      "Minibatch accuracy: 89.1%\n",
      "Validation accuracy: 86.9%\n",
      "Minibatch loss at step 3000: 39.168636\n",
      "Minibatch accuracy: 90.6%\n",
      "Validation accuracy: 86.9%\n",
      "Minibatch loss at step 4000: 54.894554\n",
      "Minibatch accuracy: 87.5%\n",
      "Validation accuracy: 86.9%\n",
      "Minibatch loss at step 5000: 20.227840\n",
      "Minibatch accuracy: 92.2%\n",
      "Validation accuracy: 86.3%\n",
      "Minibatch loss at step 6000: 35.941486\n",
      "Minibatch accuracy: 89.8%\n",
      "Validation accuracy: 86.7%\n",
      "Minibatch loss at step 7000: 11.816010\n",
      "Minibatch accuracy: 89.1%\n",
      "Validation accuracy: 87.2%\n",
      "Minibatch loss at step 8000: 8.006229\n",
      "Minibatch accuracy: 94.5%\n",
      "Validation accuracy: 86.9%\n",
      "Minibatch loss at step 9000: 12.025051\n",
      "Minibatch accuracy: 93.8%\n",
      "Validation accuracy: 86.6%\n",
      "Minibatch loss at step 10000: 18.145559\n",
      "Minibatch accuracy: 93.0%\n",
      "Validation accuracy: 87.0%\n",
      "Minibatch loss at step 11000: 17.608425\n",
      "Minibatch accuracy: 92.2%\n",
      "Validation accuracy: 86.9%\n",
      "Minibatch loss at step 12000: 28.081760\n",
      "Minibatch accuracy: 94.5%\n",
      "Validation accuracy: 87.3%\n",
      "Minibatch loss at step 13000: 7.922677\n",
      "Minibatch accuracy: 92.2%\n",
      "Validation accuracy: 87.3%\n",
      "Minibatch loss at step 14000: 7.556260\n",
      "Minibatch accuracy: 93.0%\n",
      "Validation accuracy: 86.6%\n",
      "Minibatch loss at step 15000: 23.231293\n",
      "Minibatch accuracy: 90.6%\n",
      "Validation accuracy: 86.2%\n",
      "Minibatch loss at step 16000: 3.650632\n",
      "Minibatch accuracy: 95.3%\n",
      "Validation accuracy: 85.3%\n",
      "Minibatch loss at step 17000: 17.484495\n",
      "Minibatch accuracy: 91.4%\n",
      "Validation accuracy: 86.8%\n",
      "Minibatch loss at step 18000: 4.954216\n",
      "Minibatch accuracy: 95.3%\n",
      "Validation accuracy: 86.8%\n",
      "Minibatch loss at step 19000: 4.771840\n",
      "Minibatch accuracy: 93.8%\n",
      "Validation accuracy: 86.7%\n",
      "Minibatch loss at step 20000: 14.841820\n",
      "Minibatch accuracy: 89.8%\n",
      "Validation accuracy: 87.0%\n",
      "Minibatch loss at step 21000: 5.273111\n",
      "Minibatch accuracy: 95.3%\n",
      "Validation accuracy: 85.5%\n",
      "Minibatch loss at step 22000: 12.163438\n",
      "Minibatch accuracy: 91.4%\n",
      "Validation accuracy: 85.4%\n",
      "Minibatch loss at step 23000: 9.204770\n",
      "Minibatch accuracy: 89.8%\n",
      "Validation accuracy: 85.8%\n",
      "Minibatch loss at step 24000: 2.725488\n",
      "Minibatch accuracy: 96.1%\n",
      "Validation accuracy: 86.3%\n",
      "Minibatch loss at step 25000: 15.804506\n",
      "Minibatch accuracy: 95.3%\n",
      "Validation accuracy: 86.6%\n",
      "Minibatch loss at step 26000: 6.131055\n",
      "Minibatch accuracy: 95.3%\n",
      "Validation accuracy: 86.8%\n",
      "Minibatch loss at step 27000: 4.116010\n",
      "Minibatch accuracy: 93.0%\n",
      "Validation accuracy: 86.7%\n",
      "Minibatch loss at step 28000: 13.293381\n",
      "Minibatch accuracy: 91.4%\n",
      "Validation accuracy: 86.2%\n",
      "Minibatch loss at step 29000: 12.262064\n",
      "Minibatch accuracy: 96.1%\n",
      "Validation accuracy: 86.6%\n",
      "Minibatch loss at step 30000: 3.284125\n",
      "Minibatch accuracy: 96.9%\n",
      "Validation accuracy: 86.1%\n",
      "Test accuracy: 86.3%\n"
     ]
    }
   ],
   "source": [
    "num_steps = 30001\n",
    "\n",
    "with tf.Session(graph=graph_LR_SGD) as session:\n",
    "    \n",
    "    tf.global_variables_initializer().run()\n",
    "    print(\"Initialized\")\n",
    "    for step in range(num_steps):\n",
    "        \n",
    "        # Pick an offset within the training data, which has been randomized.\n",
    "        # Note: we could use better randomization across epochs.\n",
    "        \n",
    "        offset = (step * batch_size) % (train_labels.shape[0] - batch_size)\n",
    "        \n",
    "        # Generate a minibatch.\n",
    "        \n",
    "        batch_data = train_dataset[offset:(offset + batch_size), :]\n",
    "        batch_labels = train_labels[offset:(offset + batch_size), :]\n",
    "        \n",
    "        # Prepare a dictionary telling the session where to feed the minibatch.\n",
    "        # The key of the dictionary is the placeholder node of the graph to be fed,\n",
    "        # and the value is the numpy array to feed to it.\n",
    "        \n",
    "        feed_dict = {tf_train_dataset : batch_data, tf_train_labels : batch_labels}\n",
    "        \n",
    "       \n",
    "        _, l, predictions = session.run(\n",
    "          [optimizer, loss, train_prediction], feed_dict=feed_dict)\n",
    "        \n",
    "        if (step % 1000 == 0):\n",
    "            print(\"Minibatch loss at step %d: %f\" % (step, l))\n",
    "            print(\"Minibatch accuracy: %.1f%%\" % accuracy(predictions, batch_labels))\n",
    "            print(\"Validation accuracy: %.1f%%\" % accuracy(\n",
    "                valid_prediction.eval(), valid_labels))\n",
    "\n",
    "    print(\"Test accuracy: %.1f%%\" % accuracy(test_prediction.eval(), test_labels))"
   ]
  },
  {
   "cell_type": "markdown",
   "metadata": {},
   "source": [
    "## Now, lets introduce regularization via L2 penalization in the cost function\n",
    "\n",
    "\n",
    "$$ L(W)=-\\frac{1}{N}\\sum_{n=1}^{N} \\sum_{i=1}^{K}  y_i^{n} \\log\\left(p(y^{n}_i=1|x^n)\\right)+\\beta||W||_2$$\n"
   ]
  },
  {
   "cell_type": "code",
   "execution_count": 83,
   "metadata": {
    "collapsed": true
   },
   "outputs": [],
   "source": [
    "batch_size = 128\n",
    "beta=1.0 #Regularization parameter\n",
    "graph_LR_SGD_REG = tf.Graph()\n",
    "\n",
    "with graph_LR_SGD_REG.as_default():\n",
    "\n",
    "    # Input data. For the training data, we use a placeholder that will be fed\n",
    "    # at run time with a training minibatch.\n",
    "    tf_train_dataset = tf.placeholder(tf.float32,\n",
    "                                    shape=(batch_size, image_size * image_size))\n",
    "    tf_train_labels = tf.placeholder(tf.float32, shape=(batch_size, num_labels))\n",
    "    tf_valid_dataset = tf.constant(valid_dataset)\n",
    "    tf_test_dataset = tf.constant(test_dataset)\n",
    "    \n",
    "    ## We feed the beta parameter as a placeholder\n",
    "    tf_beta=tf.placeholder(tf.float32)\n",
    "  \n",
    "    # Variables.\n",
    "    weights = tf.Variable(\n",
    "        tf.truncated_normal([image_size * image_size, num_labels]))\n",
    "    biases = tf.Variable(tf.zeros([num_labels]))\n",
    "  \n",
    "    # Training computation.\n",
    "    logits = tf.matmul(tf_train_dataset, weights) + biases\n",
    "    loss = (tf.reduce_mean(tf.nn.softmax_cross_entropy_with_logits(labels=tf_train_labels,logits=logits))\n",
    "            +tf_beta*tf.reduce_mean(tf.nn.l2_loss(weights)))\n",
    "  \n",
    "    # Optimizer.\n",
    "    optimizer = tf.train.AdamOptimizer(learning_rate=5e-03).minimize(loss)\n",
    "  \n",
    "    # Predictions for the training, validation, and test data.\n",
    "    train_prediction = tf.nn.softmax(logits)\n",
    "    valid_prediction = tf.nn.softmax(\n",
    "    tf.matmul(tf_valid_dataset, weights) + biases)\n",
    "    test_prediction = tf.nn.softmax(tf.matmul(tf_test_dataset, weights) + biases)"
   ]
  },
  {
   "cell_type": "markdown",
   "metadata": {},
   "source": [
    "Since we will chosse $\\beta$  by CV, we define a function to train de model, with $\\beta$ value as input parameter"
   ]
  },
  {
   "cell_type": "code",
   "execution_count": 84,
   "metadata": {
    "collapsed": true
   },
   "outputs": [],
   "source": [
    "def train_LR_SGD_REG(mygraph,beta,num_steps):\n",
    "    \n",
    "    with tf.Session(graph=mygraph) as session:\n",
    "        tf.global_variables_initializer().run()\n",
    "        print(\"Reg. parameter =%r\" %(beta))\n",
    "        for step in range(num_steps):\n",
    "\n",
    "            offset = (step * batch_size) % (train_labels.shape[0] - batch_size)\n",
    "            # Generate a minibatch.\n",
    "            batch_data = train_dataset[offset:(offset + batch_size), :]\n",
    "            batch_labels = train_labels[offset:(offset + batch_size), :]\n",
    "            \n",
    "            feed_dict = {tf_train_dataset : batch_data, tf_train_labels : batch_labels, tf_beta: beta}\n",
    "            _, l, predictions = session.run(\n",
    "                [optimizer, loss, train_prediction], feed_dict=feed_dict)\n",
    "        valid_accuracy,test_accuracy=accuracy(valid_prediction.eval(), valid_labels),accuracy(test_prediction.eval(), test_labels)\n",
    "    \n",
    "    return valid_accuracy,test_accuracy"
   ]
  },
  {
   "cell_type": "code",
   "execution_count": 85,
   "metadata": {},
   "outputs": [
    {
     "name": "stdout",
     "output_type": "stream",
     "text": [
      "Reg. parameter =0.001\n",
      "Reg. parameter =0.0031622776601683794\n",
      "Reg. parameter =0.01\n",
      "Reg. parameter =0.031622776601683791\n",
      "Reg. parameter =0.10000000000000001\n"
     ]
    }
   ],
   "source": [
    "num_steps = 30001\n",
    "beta=np.logspace(-3, -1, 5) #Regularization parameter\n",
    "val_performace=np.zeros(beta.shape)\n",
    "test_performace=np.zeros(beta.shape) \n",
    "for i in range(beta.shape[0]):\n",
    "    val_performace[i], test_performace[i]=train_LR_SGD_REG(graph_LR_SGD_REG,beta[i],num_steps)"
   ]
  },
  {
   "cell_type": "code",
   "execution_count": 88,
   "metadata": {},
   "outputs": [
    {
     "data": {
      "image/png": "[encoded data removed]",
      "text/plain": [
       "<matplotlib.figure.Figure at 0x10761e0f0>"
      ]
     },
     "metadata": {},
     "output_type": "display_data"
    }
   ],
   "source": [
    "plt.semilogx(beta,val_performace,'b-*', label='validation accuracty')\n",
    "plt.semilogx(beta,test_performace,'r-o', label='test accuracty')\n",
    "plt.xlabel('Regularization parameter')\n",
    "plt.ylabel('Validation Accuracy')\n",
    "plt.legend(loc=2)\n",
    "plt.grid()"
   ]
  },
  {
   "cell_type": "code",
   "execution_count": 87,
   "metadata": {},
   "outputs": [
    {
     "name": "stdout",
     "output_type": "stream",
     "text": [
      "Test accuracy: 87.103896103896105\n",
      "0.00316227766017\n"
     ]
    }
   ],
   "source": [
    "print (\"Test accuracy: %r\" %(np.max(test_performace)))\n",
    "\n",
    "betaCV=beta[np.argmax(val_performace)]\n",
    "\n",
    "print (betaCV)"
   ]
  },
  {
   "cell_type": "markdown",
   "metadata": {},
   "source": [
    "## Using TF predefined layers\n",
    "\n",
    "So far, we have defined the NN step by step. First defining the variables, and then the operations with them. In general, it will be faster to use some of the predefined layers provided by the TF package. See the following link for a complete documentation on the [Module: tf.layers](https://www.tensorflow.org/api_docs/python/tf/layers). In particular, check out the module [tf.layers.dense](https://www.tensorflow.org/api_docs/python/tf/layers/dense)\n",
    "\n",
    "The following link computation graph does exactly the same tasks than the NN we implemented above:"
   ]
  },
  {
   "cell_type": "code",
   "execution_count": 103,
   "metadata": {
    "collapsed": true
   },
   "outputs": [],
   "source": [
    "batch_size = 128\n",
    "\n",
    "graph_LR_SGD_with_layers = tf.Graph()\n",
    "\n",
    "with graph_LR_SGD_with_layers.as_default():\n",
    "\n",
    "    # Input data. \n",
    "    tf_train_dataset = tf.placeholder(tf.float32,\n",
    "                                    shape=(batch_size, image_size * image_size))\n",
    "    tf_train_labels = tf.placeholder(tf.float32, shape=(batch_size, num_labels))\n",
    "    tf_valid_dataset = tf.constant(valid_dataset)\n",
    "    tf_test_dataset = tf.constant(test_dataset)\n",
    "    \n",
    "    # We feed the beta parameter as a placeholder\n",
    "    tf_beta=tf.placeholder(tf.float32)\n",
    "    \n",
    "    # Regularizer\n",
    "    regularizer = tf.contrib.layers.l2_regularizer(scale=tf_beta)\n",
    "    # Weight initializer\n",
    "    def_init = tf.random_normal_initializer(stddev=0.05)\n",
    "    \n",
    "    # We set activation to None, since the non-learity is integrated in the loss function\n",
    "    \n",
    "    logits = tf.layers.dense(inputs=tf_train_dataset,units=num_labels,name='Layer_1',\n",
    "                             reuse=None,activation=None,kernel_regularizer=regularizer)\n",
    "  \n",
    "    # Loss\n",
    "    loss = tf.reduce_mean(tf.nn.softmax_cross_entropy_with_logits(labels=tf_train_labels,logits=logits))\n",
    "    l2_loss = tf.losses.get_regularization_loss()\n",
    "    loss += l2_loss\n",
    "            \n",
    "  \n",
    "    # Optimizer.\n",
    "    optimizer = tf.train.AdamOptimizer(learning_rate=5e-03).minimize(loss)\n",
    "  \n",
    "    # Predictions for the training, validation, and test data.\n",
    "    train_prediction = tf.nn.softmax(logits)\n",
    "    \n",
    "    valid_prediction = tf.layers.dense(inputs=tf_valid_dataset,units=num_labels,reuse=True,\n",
    "                             activation=tf.nn.softmax,kernel_regularizer=regularizer,name='Layer_1')\n",
    "    \n",
    "    test_prediction = tf.layers.dense(inputs=tf_test_dataset,units=num_labels,reuse=True,\n",
    "                             activation=tf.nn.softmax,kernel_regularizer=regularizer,name='Layer_1')"
   ]
  },
  {
   "cell_type": "code",
   "execution_count": 104,
   "metadata": {},
   "outputs": [
    {
     "name": "stdout",
     "output_type": "stream",
     "text": [
      "Reg. parameter =0.001\n",
      "Reg. parameter =0.0031622776601683794\n",
      "Reg. parameter =0.01\n",
      "Reg. parameter =0.031622776601683791\n",
      "Reg. parameter =0.10000000000000001\n"
     ]
    }
   ],
   "source": [
    "num_steps = 30000\n",
    "beta=np.logspace(-3, -1, 5) #Regularization parameter\n",
    "val_performace=np.zeros(beta.shape)\n",
    "test_performace=np.zeros(beta.shape) \n",
    "for i in range(beta.shape[0]):\n",
    "    val_performace[i], test_performace[i]=train_LR_SGD_REG(graph_LR_SGD_with_layers,beta[i],num_steps)"
   ]
  },
  {
   "cell_type": "code",
   "execution_count": 105,
   "metadata": {},
   "outputs": [
    {
     "data": {
      "image/png": "[encoded data removed]",
      "text/plain": [
       "<matplotlib.figure.Figure at 0x1a1f8d8320>"
      ]
     },
     "metadata": {},
     "output_type": "display_data"
    }
   ],
   "source": [
    "plt.semilogx(beta,val_performace,'b-*', label='validation accuracty')\n",
    "plt.semilogx(beta,test_performace,'r-o', label='test accuracty')\n",
    "plt.xlabel('Regularization parameter')\n",
    "plt.ylabel('Validation Accuracy')\n",
    "plt.legend(loc=2)\n",
    "plt.grid()"
   ]
  },
  {
   "cell_type": "code",
   "execution_count": 106,
   "metadata": {},
   "outputs": [
    {
     "name": "stdout",
     "output_type": "stream",
     "text": [
      "Test accuracy: 87.324675324675326\n",
      "0.00316227766017\n"
     ]
    }
   ],
   "source": [
    "print (\"Test accuracy: %r\" %(np.max(test_performace)))\n",
    "\n",
    "betaCV=beta[np.argmax(val_performace)]\n",
    "\n",
    "print (betaCV)"
   ]
  },
  {
   "cell_type": "markdown",
   "metadata": {},
   "source": [
    "## A 2 layer NN with dropout regularization\n",
    "\n",
    "[Dropout](http://jmlr.org/papers/v15/srivastava14a.html) is a simple and powerful regularization technique for neural networks and deep learning models.\n",
    "\n",
    "Take a look to the following video for a quick explanation:"
   ]
  },
  {
   "cell_type": "code",
   "execution_count": 1,
   "metadata": {},
   "outputs": [
    {
     "data": {
      "image/jpeg": "[encoded data removed]",
      "text/html": [
       "\n",
       "        <iframe\n",
       "            width=\"400\"\n",
       "            height=\"300\"\n",
       "            src=\"https://www.youtube.com/embed/NhZVe50QwPM\"\n",
       "            frameborder=\"0\"\n",
       "            allowfullscreen\n",
       "        ></iframe>\n",
       "        "
      ],
      "text/plain": [
       "<IPython.lib.display.YouTubeVideo at 0x10eda5a58>"
      ]
     },
     "execution_count": 1,
     "metadata": {},
     "output_type": "execute_result"
    }
   ],
   "source": [
    "from IPython.display import YouTubeVideo\n",
    "\n",
    "YouTubeVideo('NhZVe50QwPM')   "
   ]
  },
  {
   "cell_type": "code",
   "execution_count": 158,
   "metadata": {
    "collapsed": true
   },
   "outputs": [],
   "source": [
    "batch_size = 64\n",
    "\n",
    "hidden_units = 500\n",
    "\n",
    "hidden_prob = 0.6\n",
    "\n",
    "graph_LR_SGD_with_2_layers = tf.Graph()\n",
    "\n",
    "with graph_LR_SGD_with_2_layers.as_default():\n",
    "\n",
    "    # Input data. \n",
    "    tf_train_dataset = tf.placeholder(tf.float32,\n",
    "                                    shape=(batch_size, image_size * image_size))\n",
    "    tf_train_labels = tf.placeholder(tf.float32, shape=(batch_size, num_labels))\n",
    "    tf_valid_dataset = tf.constant(valid_dataset)\n",
    "    tf_test_dataset = tf.constant(test_dataset)\n",
    "    \n",
    "    # We feed the beta parameter as a placeholder\n",
    "    tf_beta=tf.placeholder(tf.float32)\n",
    "   \n",
    "    # Regularizer\n",
    "    regularizer = tf.contrib.layers.l2_regularizer(scale=tf_beta)\n",
    "    # Weight initializer\n",
    "    def_init = tf.random_normal_initializer(stddev=0.05)\n",
    "    \n",
    "    # We set activation to hiperbolic tangent\n",
    "    \n",
    "    hidden_1 = tf.layers.dense(inputs=tf_train_dataset,units=hidden_units,name='Layer_1',\n",
    "                             reuse=None,activation=tf.nn.tanh,kernel_regularizer=regularizer)\n",
    "    \n",
    "    # Dropout with probability hiddepn_prob\n",
    "    \n",
    "    hidden_1_drop =tf.nn.dropout(hidden_1,hidden_prob)\n",
    "    \n",
    "    # We set activation to None, since the non-learity is integrated in the loss function\n",
    "    \n",
    "    logits = tf.layers.dense(inputs=hidden_1_drop,units=num_labels,name='Layer_2',\n",
    "                             reuse=None,activation=None,kernel_regularizer=regularizer)\n",
    "    \n",
    "    # Loss\n",
    "    loss = tf.reduce_mean(tf.nn.softmax_cross_entropy_with_logits(labels=tf_train_labels,logits=logits))\n",
    "    l2_loss = tf.losses.get_regularization_loss()\n",
    "    loss += l2_loss\n",
    "            \n",
    "  \n",
    "    # Optimizer.\n",
    "    optimizer = tf.train.AdamOptimizer(learning_rate=5e-03).minimize(loss)\n",
    "  \n",
    "    # Predictions for the training, validation, and test data.\n",
    "    train_prediction = tf.nn.softmax(logits)\n",
    "\n",
    "    hidden_1_val = tf.layers.dense(inputs=tf_valid_dataset,units=hidden_units,name='Layer_1',\n",
    "                             reuse=True,activation=tf.nn.tanh,kernel_regularizer=regularizer)\n",
    "    \n",
    "    hidden_1_drop_val =tf.nn.dropout(hidden_1_val,1.0)\n",
    "    \n",
    "    valid_prediction = tf.layers.dense(inputs=hidden_1_drop_val,units=num_labels,name='Layer_2',\n",
    "                             reuse=True,activation=tf.nn.softmax,kernel_regularizer=regularizer)\n",
    "    \n",
    "    \n",
    "    hidden_1_test = tf.layers.dense(inputs=tf_test_dataset,units=hidden_units,name='Layer_1',\n",
    "                             reuse=True,activation=tf.nn.tanh,kernel_regularizer=regularizer)\n",
    "    hidden_1_drop_test =tf.nn.dropout(hidden_1_test,1.0)\n",
    "    \n",
    "    test_prediction = tf.layers.dense(inputs=hidden_1_drop_test,units=num_labels,name='Layer_2',\n",
    "                             reuse=True,activation=tf.nn.softmax,kernel_regularizer=regularizer)"
   ]
  },
  {
   "cell_type": "markdown",
   "metadata": {},
   "source": [
    "### Lets check the hability of dropout to regularize by canceling the L2-norm regularization\n",
    "\n",
    "Compute test and validation performance for hidden_prob = 1.0"
   ]
  },
  {
   "cell_type": "code",
   "execution_count": 149,
   "metadata": {},
   "outputs": [
    {
     "name": "stdout",
     "output_type": "stream",
     "text": [
      "Reg. parameter =0.0\n",
      "84.3251276087 84.5281385281\n"
     ]
    }
   ],
   "source": [
    "num_steps = 30000\n",
    "\n",
    "val_performace, test_performace=train_LR_SGD_REG(graph_LR_SGD_with_2_layers,0.0,num_steps)\n",
    "\n",
    "print(val_performace, test_performace)"
   ]
  },
  {
   "cell_type": "markdown",
   "metadata": {},
   "source": [
    "And now for hidden_prob = 0.6"
   ]
  },
  {
   "cell_type": "code",
   "execution_count": 159,
   "metadata": {},
   "outputs": [
    {
     "name": "stdout",
     "output_type": "stream",
     "text": [
      "Reg. parameter =0.0\n",
      "87.5104994508 88.1341991342\n"
     ]
    }
   ],
   "source": [
    "val_performace, test_performace=train_LR_SGD_REG(graph_LR_SGD_with_2_layers,0.0,num_steps)\n",
    "\n",
    "print(val_performace, test_performace)"
   ]
  },
  {
   "cell_type": "code",
   "execution_count": null,
   "metadata": {
    "collapsed": true
   },
   "outputs": [],
   "source": []
  }
 ],
 "metadata": {
  "anaconda-cloud": {},
  "kernelspec": {
   "display_name": "Python 3",
   "language": "python",
   "name": "python3"
  },
  "language_info": {
   "codemirror_mode": {
    "name": "ipython",
    "version": 3
   },
   "file_extension": ".py",
   "mimetype": "text/x-python",
   "name": "python",
   "nbconvert_exporter": "python",
   "pygments_lexer": "ipython3",
   "version": "3.6.5"
  }
 },
 "nbformat": 4,
 "nbformat_minor": 1
}
