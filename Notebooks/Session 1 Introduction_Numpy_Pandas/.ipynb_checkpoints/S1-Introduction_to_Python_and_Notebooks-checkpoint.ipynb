{
 "cells": [
  {
   "cell_type": "markdown",
   "metadata": {},
   "source": [
    "# Session 1: An introduction to Python and Jupyter Notebooks\n",
    "\n",
    "------------------------------------------------------\n",
    "*Introduction to Data Science & Machine Learning*\n",
    "\n",
    "*Pablo M. Olmos olmos@tsc.uc3m.es*\n",
    "\n",
    "------------------------------------------------------"
   ]
  },
  {
   "cell_type": "markdown",
   "metadata": {},
   "source": [
    "# Python 101\n",
    "\n",
    "In this notebook we will review basic things you need to know if you want to work with Python as you do with Matlab. We will skip tons of things, we'll learn many more things on the fly.\n",
    "\n",
    "First of all, in Python notebooks you have text boxes \"Markdonws\" where you can put text, images, and even latex equations (**double click** here to see the actual [markdown code](http://jupyter-notebook.readthedocs.io/en/stable/examples/Notebook/Working%20With%20Markdown%20Cells.html)).\n",
    "\n",
    "\\begin{align}\n",
    "E=mc^2\n",
    "\\end{align}\n",
    "\n",
    "You can execute each code box by typing \"Shift+Enter\"\n"
   ]
  },
  {
   "cell_type": "markdown",
   "metadata": {},
   "source": [
    "## Let's first take a look on Python data types, and how to print stuff on the screen\n",
    "\n",
    "This is only a quick summary. For a full description, take a look to the [Python built-in types](Built-in Types). \n",
    "\n",
    "### Standard integer and float variables"
   ]
  },
  {
   "cell_type": "code",
   "execution_count": 1,
   "metadata": {
    "collapsed": false
   },
   "outputs": [
    {
     "name": "stdout",
     "output_type": "stream",
     "text": [
      "\"a\" is an <class 'int'> variable, \"b\" is a <class 'float'> variable\n"
     ]
    }
   ],
   "source": [
    "## Standard Python data formats\n",
    "\n",
    "a=5 #This is an integer variable\n",
    "\n",
    "b=8.434 #This is a float variable\n",
    "\n",
    "print ('\"a\" is an %r variable, \"b\" is a %r variable' %(type(a),type(b)))"
   ]
  },
  {
   "cell_type": "markdown",
   "metadata": {},
   "source": [
    "### Creating string variables\n",
    "\n",
    "* Strings in Python can be simple or double quotes\n",
    "* Concatenating strings"
   ]
  },
  {
   "cell_type": "code",
   "execution_count": 2,
   "metadata": {
    "collapsed": false
   },
   "outputs": [
    {
     "name": "stdout",
     "output_type": "stream",
     "text": [
      "Hello world\n"
     ]
    }
   ],
   "source": [
    "s=\"Hello \" + \"world\"\n",
    "print(s)"
   ]
  },
  {
   "cell_type": "code",
   "execution_count": 3,
   "metadata": {
    "collapsed": false
   },
   "outputs": [
    {
     "name": "stdout",
     "output_type": "stream",
     "text": [
      "Hello world\n"
     ]
    }
   ],
   "source": [
    "s='Hello ' + 'world'\n",
    "print(s)"
   ]
  },
  {
   "cell_type": "code",
   "execution_count": 4,
   "metadata": {
    "collapsed": false
   },
   "outputs": [
    {
     "data": {
      "text/plain": [
       "4"
      ]
     },
     "execution_count": 4,
     "metadata": {},
     "output_type": "execute_result"
    }
   ],
   "source": [
    "s='spam'\n",
    "len(s)"
   ]
  },
  {
   "cell_type": "code",
   "execution_count": 5,
   "metadata": {
    "collapsed": false
   },
   "outputs": [
    {
     "name": "stdout",
     "output_type": "stream",
     "text": [
      "s m\n"
     ]
    }
   ],
   "source": [
    "print(s[0],s[-1])"
   ]
  },
  {
   "cell_type": "markdown",
   "metadata": {},
   "source": [
    "\n",
    "\n",
    "### Lists \n",
    "\n",
    "[Lists](https://docs.python.org/3.6/library/stdtypes.html?highlight=lists#lists) are what they seem - a list of values. Each one of them is numbered, starting from zero. Elements in a list can contain any data type. This is how you can create and index a list:"
   ]
  },
  {
   "cell_type": "code",
   "execution_count": 6,
   "metadata": {
    "collapsed": false
   },
   "outputs": [
    {
     "name": "stdout",
     "output_type": "stream",
     "text": [
      " The first element is 3\n",
      " The fourth element is ='string'\n",
      " The fith element is actually another list [2, 4, 6] \n",
      "\n"
     ]
    }
   ],
   "source": [
    "my_list=[3, 5, 6, 'string', [2,4,6]]\n",
    "\n",
    "# Adding a new element (another list containing both a and b defined above):\n",
    "\n",
    "print (\" The first element is %r\" %(my_list[0]))\n",
    "        \n",
    "print (\" The fourth element is =%r\" %(my_list[3]))\n",
    "\n",
    "print (\" The fith element is actually another list %r \\n\" %(my_list[4]))\n"
   ]
  },
  {
   "cell_type": "markdown",
   "metadata": {},
   "source": [
    "Lists object provide many different methods to manage them, see [here](https://docs.python.org/3.6/tutorial/datastructures.html#) for a full documentation:"
   ]
  },
  {
   "cell_type": "code",
   "execution_count": 7,
   "metadata": {
    "collapsed": false
   },
   "outputs": [
    {
     "name": "stdout",
     "output_type": "stream",
     "text": [
      "6\n"
     ]
    }
   ],
   "source": [
    "my_list.append([a,b])\n",
    "\n",
    "print(my_list.pop(2))"
   ]
  },
  {
   "cell_type": "markdown",
   "metadata": {},
   "source": [
    "## Dictionaries\n",
    "\n",
    "Unlike sequences, which are indexed by a range of numbers, [dictionaries](https://docs.python.org/2.7/tutorial/datastructures.html#dictionaries) are indexed by *keys*, which can be any immutable type; strings and numbers can always be keys. \n",
    "\n",
    "It is best to think of a dictionary as an unordered set of key: value pairs, with the requirement that the keys are unique (within one dictionary). A pair of braces creates an empty dictionary: `{}`."
   ]
  },
  {
   "cell_type": "code",
   "execution_count": 8,
   "metadata": {
    "collapsed": false
   },
   "outputs": [
    {
     "name": "stdout",
     "output_type": "stream",
     "text": [
      "The first key is 'key 1', and the second key is 'key 2'\n",
      "\n",
      "The value associated with 'key 1' is [3, 5, 'string', [2, 4, 6], [5, 8.434]]\n",
      "\n"
     ]
    }
   ],
   "source": [
    "my_dictionary={'key 1': 6, 'key 2': my_list}\n",
    "\n",
    "l = list(my_dictionary.keys()) # List of keys\n",
    "\n",
    "print (\"The first key is %r, and the second key is %r\\n\" %(l[0],l[1]))\n",
    "\n",
    "print (\"The value associated with %r is %r\\n\" %(l[0],my_dictionary['key 2'])) \n"
   ]
  },
  {
   "cell_type": "code",
   "execution_count": 9,
   "metadata": {
    "collapsed": true
   },
   "outputs": [],
   "source": [
    "# Another example, a phone book\n",
    "\n",
    "d = {'Antonio':8806336, \\\n",
    "'Eva':6784346, 'Alex':7658344, \\\n",
    "'Pedro':1122345}"
   ]
  },
  {
   "cell_type": "code",
   "execution_count": 10,
   "metadata": {
    "collapsed": false
   },
   "outputs": [
    {
     "data": {
      "text/plain": [
       "{'Alex': 7658344,\n",
       " 'Alicia': 2365872,\n",
       " 'Antonio': 8806336,\n",
       " 'Eva': 6784346,\n",
       " 'Pedro': 1122345}"
      ]
     },
     "execution_count": 10,
     "metadata": {},
     "output_type": "execute_result"
    }
   ],
   "source": [
    "# Adding new elements\n",
    "d['Alicia']=2365872\n",
    "d"
   ]
  },
  {
   "cell_type": "code",
   "execution_count": 11,
   "metadata": {
    "collapsed": false
   },
   "outputs": [
    {
     "data": {
      "text/plain": [
       "{'Alex': 7658344, 'Alicia': 2365872, 'Antonio': 8806336, 'Pedro': 1122345}"
      ]
     },
     "execution_count": 11,
     "metadata": {},
     "output_type": "execute_result"
    }
   ],
   "source": [
    "# Deleting elements\n",
    "del d['Eva']\n",
    "d"
   ]
  },
  {
   "cell_type": "markdown",
   "metadata": {},
   "source": [
    "## Loops and function definitions\n",
    "\n",
    "Be careful with indentation!!!\n",
    "\n",
    "The following code generates a function that takes three inputs (a,b,c). For any integer i in the set [a,b], determines if it is divisible by c."
   ]
  },
  {
   "cell_type": "code",
   "execution_count": 12,
   "metadata": {
    "collapsed": true
   },
   "outputs": [],
   "source": [
    "def my_function(a,b,c):\n",
    "    for i in range(a,b):\n",
    "        \n",
    "        if(i % c==0):\n",
    "            print (\"a=%r is divisible by c=%r, and belongs to the set [%r,%r] \\n\" %(i,c,a,b))\n",
    "    \n",
    "    print (\"This is not part of the foor loop\\n\")\n",
    "    "
   ]
  },
  {
   "cell_type": "code",
   "execution_count": 13,
   "metadata": {
    "collapsed": false
   },
   "outputs": [
    {
     "name": "stdout",
     "output_type": "stream",
     "text": [
      "a=12 is divisible by c=3, and belongs to the set [10,22] \n",
      "\n",
      "a=15 is divisible by c=3, and belongs to the set [10,22] \n",
      "\n",
      "a=18 is divisible by c=3, and belongs to the set [10,22] \n",
      "\n",
      "a=21 is divisible by c=3, and belongs to the set [10,22] \n",
      "\n",
      "This is not part of the foor loop\n",
      "\n"
     ]
    }
   ],
   "source": [
    "## Now we run the function defined above\n",
    "my_function(10,22,3)"
   ]
  },
  {
   "cell_type": "markdown",
   "metadata": {},
   "source": [
    "Lists and dictionaries are very easy to loop through, inspect what the following code does:"
   ]
  },
  {
   "cell_type": "code",
   "execution_count": 14,
   "metadata": {
    "collapsed": false
   },
   "outputs": [
    {
     "name": "stdout",
     "output_type": "stream",
     "text": [
      "3 \n",
      "\n",
      "5 \n",
      "\n",
      "string \n",
      "\n",
      "[2, 4, 6] \n",
      "\n",
      "[5, 8.434] \n",
      "\n",
      "The 0-th entry in the list is 3\n",
      "\n",
      "The 1-th entry in the list is 5\n",
      "\n",
      "The 2-th entry in the list is 'string'\n",
      "\n",
      "The 3-th entry in the list is [2, 4, 6]\n",
      "\n",
      "The 4-th entry in the list is [5, 8.434]\n",
      "\n"
     ]
    }
   ],
   "source": [
    "contador = 0\n",
    "for item in my_list:\n",
    "    contador += 1\n",
    "    print(item, '\\n')\n",
    "    \n",
    "for i,item in enumerate(my_list):\n",
    "    print('The %d-th entry in the list is %r\\n' %(i,item))"
   ]
  },
  {
   "cell_type": "code",
   "execution_count": 15,
   "metadata": {
    "collapsed": false
   },
   "outputs": [
    {
     "data": {
      "text/plain": [
       "4"
      ]
     },
     "execution_count": 15,
     "metadata": {},
     "output_type": "execute_result"
    }
   ],
   "source": [
    "my_list[3][1]"
   ]
  },
  {
   "cell_type": "markdown",
   "metadata": {},
   "source": [
    "To loop over two or more sequences at the same time, the entries can be paired with the `zip()` function."
   ]
  },
  {
   "cell_type": "code",
   "execution_count": 16,
   "metadata": {
    "collapsed": false
   },
   "outputs": [
    {
     "name": "stdout",
     "output_type": "stream",
     "text": [
      "The price of the item 'lamp' in the store is 20 €.\n",
      "\n",
      "The price of the item 'table' in the store is 30 €.\n",
      "\n",
      "The price of the item 'Fully-equipped kitchen' in the store is 8000 €.\n",
      "\n",
      "The price of the item 'Fancy Mirror' in the store is 100 €.\n",
      "\n"
     ]
    }
   ],
   "source": [
    "values = [20.5,30,8000,100]\n",
    "\n",
    "items = ['lamp', 'table','Fully-equipped kitchen','Fancy Mirror']\n",
    "\n",
    "for v, i in zip(values, items):\n",
    "    print('The price of the item %r in the store is %d €.\\n' %(i, v))"
   ]
  },
  {
   "cell_type": "markdown",
   "metadata": {},
   "source": [
    "In Python 3.X, looping through a dictionary is as follows:"
   ]
  },
  {
   "cell_type": "code",
   "execution_count": 17,
   "metadata": {
    "collapsed": false
   },
   "outputs": [
    {
     "name": "stdout",
     "output_type": "stream",
     "text": [
      "The phone number of Antonio is 8806336\n",
      "\n",
      "The phone number of Alex is 7658344\n",
      "\n",
      "The phone number of Pedro is 1122345\n",
      "\n",
      "The phone number of Alicia is 2365872\n",
      "\n"
     ]
    }
   ],
   "source": [
    "for key, value in d.items():\n",
    "    print('The phone number of %s is %d\\n' %(key,value))"
   ]
  },
  {
   "cell_type": "markdown",
   "metadata": {},
   "source": [
    "## Conditional Loops"
   ]
  },
  {
   "cell_type": "code",
   "execution_count": 18,
   "metadata": {
    "collapsed": false
   },
   "outputs": [
    {
     "name": "stdout",
     "output_type": "stream",
     "text": [
      "The count is: 0\n",
      "The count is: 1\n",
      "The count is: 2\n",
      "The count is: 3\n",
      "The count is: 4\n",
      "The count is: 5\n",
      "The count is: 6\n",
      "The count is: 7\n",
      "The count is: 8\n",
      "Good bye!\n"
     ]
    }
   ],
   "source": [
    "count = 0\n",
    "while (count < 9):\n",
    "    print('The count is:' , count)\n",
    "    count = count + 1\n",
    "\n",
    "print(\"Good bye!\")"
   ]
  },
  {
   "cell_type": "code",
   "execution_count": 19,
   "metadata": {
    "collapsed": false
   },
   "outputs": [
    {
     "name": "stdout",
     "output_type": "stream",
     "text": [
      "Current Letter : P\n",
      "Current Letter : y\n",
      "Current Letter : t\n",
      "Current Letter : h\n",
      "Current Letter : n\n"
     ]
    }
   ],
   "source": [
    "for letter in 'Python': \n",
    "    if(letter != 'o'):\n",
    "        print('Current Letter :', letter)"
   ]
  }
 ],
 "metadata": {
  "anaconda-cloud": {},
  "kernelspec": {
   "display_name": "Python 3",
   "language": "python",
   "name": "python3"
  },
  "language_info": {
   "codemirror_mode": {
    "name": "ipython",
    "version": 3
   },
   "file_extension": ".py",
   "mimetype": "text/x-python",
   "name": "python",
   "nbconvert_exporter": "python",
   "pygments_lexer": "ipython3",
   "version": "3.6.0"
  }
 },
 "nbformat": 4,
 "nbformat_minor": 1
}
