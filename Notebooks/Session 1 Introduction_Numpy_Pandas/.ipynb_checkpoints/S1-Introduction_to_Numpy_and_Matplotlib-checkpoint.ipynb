{
 "cells": [
  {
   "cell_type": "markdown",
   "metadata": {},
   "source": [
    "# Session 1: Getting started with Numpy\n",
    "\n",
    "------------------------------------------------------\n",
    "*Introduction to Data Science & Machine Learning*\n",
    "\n",
    "*Pablo M. Olmos olmos@tsc.uc3m.es*\n",
    "\n",
    "------------------------------------------------------"
   ]
  },
  {
   "cell_type": "markdown",
   "metadata": {},
   "source": [
    "[**Numerical Python**](http://www.numpy.org/) is the fundamental package for scientific computing with Python. It contains among other things:\n",
    "\n",
    "- a powerful N-dimensional array object\n",
    "- sophisticated (broadcasting) functions tools for integrating C/C++ and Fortran code\n",
    "- useful linear algebra, Fourier transform, and random number capabilities\n",
    "\n",
    "Besides its obvious scientific uses, NumPy can also be used as an efficient multi-dimensional container of generic data. Arbitrary data-types can be defined. This allows NumPy to seamlessly and speedily integrate with a wide variety of databases.\n",
    "\n",
    "Lets load the library and start with some examples."
   ]
  },
  {
   "cell_type": "code",
   "execution_count": 1,
   "metadata": {
    "collapsed": true
   },
   "outputs": [],
   "source": [
    "import numpy as np  \n",
    "np.set_printoptions(formatter={'float': lambda x: \"{0:0.3f}\".format(x)}) #To set the number of printed decimals to 3"
   ]
  },
  {
   "cell_type": "markdown",
   "metadata": {},
   "source": [
    "## Creating Arrays\n",
    "\n",
    "### adimensional arrays (vectors)"
   ]
  },
  {
   "cell_type": "code",
   "execution_count": 6,
   "metadata": {
    "collapsed": false
   },
   "outputs": [
    {
     "name": "stdout",
     "output_type": "stream",
     "text": [
      "<class 'list'>\n",
      "The type of v1:  <U21\n",
      "The type of v2:  float64\n",
      "The type of v1:  float32\n",
      "['2' '4' '6' 'asdfadsfasdf']\n"
     ]
    }
   ],
   "source": [
    "lista = [2,4,6,'asdfadsfasdf']\n",
    "\n",
    "print(type(lista))\n",
    "\n",
    "v1=np.array(lista) #The default type is int32 or int64 since we did not use any decimal point\n",
    "\n",
    "print(\"The type of v1: \", v1.dtype)\n",
    "\n",
    "v2=np.array([2.0,4.0,6.0])\n",
    "\n",
    "print(\"The type of v2: \", v2.dtype)\n",
    "\n",
    "v3=np.array([2,4,6],dtype=np.float32)\n",
    "\n",
    "print(\"The type of v1: \", v3.dtype)\n",
    "\n",
    "print(v1)"
   ]
  },
  {
   "cell_type": "markdown",
   "metadata": {},
   "source": [
    "The array we just created is a **vector** or **a-dimensional** array, it is characterized by a single dimension: (Note the empty second entry when we call the method `.shape()`)"
   ]
  },
  {
   "cell_type": "code",
   "execution_count": 80,
   "metadata": {
    "collapsed": false
   },
   "outputs": [
    {
     "name": "stdout",
     "output_type": "stream",
     "text": [
      "(3,)\n",
      "6\n"
     ]
    }
   ],
   "source": [
    "print(v1.shape)\n",
    "\n",
    "print(v1[2])"
   ]
  },
  {
   "cell_type": "markdown",
   "metadata": {},
   "source": [
    "## Arrays (matrices or tensors)"
   ]
  },
  {
   "cell_type": "code",
   "execution_count": 7,
   "metadata": {
    "collapsed": false
   },
   "outputs": [
    {
     "name": "stdout",
     "output_type": "stream",
     "text": [
      "m1=array([[-0.663, -0.831, -0.628, -0.110, -1.331],\n",
      "       [0.832, 0.542, 0.135, -0.995, 0.600],\n",
      "       [-0.425, 0.890, -2.254, 0.563, -1.163]]) \n",
      "\n",
      " is a matrix, where each elemet is iid sampled from a standard normal distribution. Its size is (3, 5)\n"
     ]
    }
   ],
   "source": [
    "m1=np.random.randn(3,5)\n",
    "\n",
    "print (\"m1=%r \\n\\n is a matrix, where each elemet is iid sampled from a standard normal distribution. Its size is %r\" %(m1,m1.shape))"
   ]
  },
  {
   "cell_type": "code",
   "execution_count": 82,
   "metadata": {
    "collapsed": false
   },
   "outputs": [
    {
     "data": {
      "text/plain": [
       "(3, 5)"
      ]
     },
     "execution_count": 82,
     "metadata": {},
     "output_type": "execute_result"
    }
   ],
   "source": [
    "m1.shape"
   ]
  },
  {
   "cell_type": "code",
   "execution_count": 83,
   "metadata": {
    "collapsed": false
   },
   "outputs": [
    {
     "name": "stdout",
     "output_type": "stream",
     "text": [
      "[[[111 112]\n",
      "  [121 122]]\n",
      "\n",
      " [[211 212]\n",
      "  [221 222]]\n",
      "\n",
      " [[311 312]\n",
      "  [321 322]]]\n",
      "Dimension of B:  3\n",
      "(3, 2, 2)\n"
     ]
    }
   ],
   "source": [
    "B = np.array([ [[111, 112], [121, 122]],\n",
    "               [[211, 212], [221, 222]],\n",
    "               [[311, 312], [321, 322]] ])\n",
    "\n",
    "print(B)\n",
    "print(\"Dimension of B: \", np.ndim(B))\n",
    "print(np.shape(B))"
   ]
  },
  {
   "cell_type": "markdown",
   "metadata": {},
   "source": [
    "## Reshaping, indexing and slicing\n",
    "\n",
    "### Reshape operation\n",
    "\n",
    "With [`np.reshape()`](https://docs.scipy.org/doc/numpy/reference/generated/numpy.reshape.html) we can reorder the elements of an array and obtain another array with the **same number of elements**"
   ]
  },
  {
   "cell_type": "code",
   "execution_count": 9,
   "metadata": {
    "collapsed": false
   },
   "outputs": [
    {
     "name": "stdout",
     "output_type": "stream",
     "text": [
      "[[0.597 0.874 0.972 0.759 0.314]\n",
      " [0.765 0.009 0.840 0.693 0.450]\n",
      " [0.024 0.394 0.424 0.557 0.637]]\n",
      "[[0.597 0.874 0.972]\n",
      " [0.759 0.314 0.765]\n",
      " [0.009 0.840 0.693]\n",
      " [0.450 0.024 0.394]\n",
      " [0.424 0.557 0.637]]\n"
     ]
    }
   ],
   "source": [
    "#Reshape operation\n",
    "m1=np.random.rand(3,5)\n",
    "\n",
    "print(m1)\n",
    "\n",
    "m2 = np.reshape(m1,[5,-1])\n",
    "\n",
    "print(m2)"
   ]
  },
  {
   "cell_type": "markdown",
   "metadata": {},
   "source": [
    "Sometimes it is necesary to **reshape vectors (adimensional array) into two-dimensional arrays (matrices)** to perform certain operations or call certain functions."
   ]
  },
  {
   "cell_type": "code",
   "execution_count": 85,
   "metadata": {
    "collapsed": false
   },
   "outputs": [
    {
     "name": "stdout",
     "output_type": "stream",
     "text": [
      "(3,)\n",
      "(3, 1)\n"
     ]
    }
   ],
   "source": [
    "v1=np.array([2,4,6]) \n",
    "\n",
    "print(v1.shape)\n",
    "\n",
    "print(v1.reshape([-1,1]).shape)\n"
   ]
  },
  {
   "cell_type": "markdown",
   "metadata": {},
   "source": [
    "Investigate what the -1 does in the reshape operation above\n",
    "\n",
    "### Indexing\n",
    "\n",
    "Remember that the first element is indexed by 0 ..."
   ]
  },
  {
   "cell_type": "code",
   "execution_count": 86,
   "metadata": {
    "collapsed": false
   },
   "outputs": [
    {
     "name": "stdout",
     "output_type": "stream",
     "text": [
      "1\n",
      "21\n"
     ]
    }
   ],
   "source": [
    "F = np.array([1, 1, 2, 3, 5, 8, 13, 21])\n",
    "# print the first element of F, i.e. the element with the index 0\n",
    "print(F[0])\n",
    "# print the last element of F\n",
    "print(F[-1])"
   ]
  },
  {
   "cell_type": "code",
   "execution_count": 87,
   "metadata": {
    "collapsed": false
   },
   "outputs": [
    {
     "name": "stdout",
     "output_type": "stream",
     "text": [
      "[[[111 112]\n",
      "  [121 122]]\n",
      "\n",
      " [[211 212]\n",
      "  [221 222]]\n",
      "\n",
      " [[311 312]\n",
      "  [321 322]]]\n",
      "121\n"
     ]
    }
   ],
   "source": [
    "B = np.array([ [[111, 112], [121, 122]],\n",
    "               [[211, 212], [221, 222]],\n",
    "               [[311, 312], [321, 322]] ])\n",
    "print(B)\n",
    "print(B[0,1,0])"
   ]
  },
  {
   "cell_type": "markdown",
   "metadata": {},
   "source": [
    "### Slicing"
   ]
  },
  {
   "cell_type": "code",
   "execution_count": 88,
   "metadata": {
    "collapsed": false
   },
   "outputs": [
    {
     "name": "stdout",
     "output_type": "stream",
     "text": [
      "[0 1 2 3]\n",
      "[0 1 2 3]\n",
      "[6 7 8 9]\n",
      "[0 1 2 3 4 5 6 7 8 9]\n"
     ]
    }
   ],
   "source": [
    "S = np.array([0, 1, 2, 3, 4, 5, 6, 7, 8, 9])\n",
    "print(S[0:4])\n",
    "print(S[:4])\n",
    "print(S[6:])\n",
    "print(S[:])"
   ]
  },
  {
   "cell_type": "code",
   "execution_count": 89,
   "metadata": {
    "collapsed": false
   },
   "outputs": [
    {
     "name": "stdout",
     "output_type": "stream",
     "text": [
      "[[11 12 13 14 15]\n",
      " [21 22 23 24 25]\n",
      " [31 32 33 34 35]\n",
      " [41 42 43 44 45]\n",
      " [51 52 53 54 55]]\n",
      "[[13 14 15]\n",
      " [23 24 25]\n",
      " [33 34 35]]\n",
      "[[41 42 43 44 45]\n",
      " [51 52 53 54 55]]\n",
      "[[15]\n",
      " [25]\n",
      " [35]\n",
      " [45]\n",
      " [55]]\n"
     ]
    }
   ],
   "source": [
    "A = np.array([\n",
    "[11,12,13,14,15],\n",
    "[21,22,23,24,25],\n",
    "[31,32,33,34,35],\n",
    "[41,42,43,44,45],\n",
    "[51,52,53,54,55]])\n",
    "\n",
    "print(A)\n",
    "\n",
    "print(A[:3,2:])\n",
    "print(A[3:,:])\n",
    "print(A[:,4:])"
   ]
  },
  {
   "cell_type": "markdown",
   "metadata": {},
   "source": [
    "## Some operations with arrays\n",
    "\n",
    "### Element-wise operations"
   ]
  },
  {
   "cell_type": "code",
   "execution_count": 90,
   "metadata": {
    "collapsed": false,
    "scrolled": true
   },
   "outputs": [
    {
     "name": "stdout",
     "output_type": "stream",
     "text": [
      "[[6 8 9 5 7]\n",
      " [3 3 7 3 7]\n",
      " [4 5 2 7 5]]\n",
      "[[36 64 81 25 49]\n",
      " [ 9  9 49  9 49]\n",
      " [16 25  4 49 25]]\n",
      "[[36 64 81 25 49]\n",
      " [ 9  9 49  9 49]\n",
      " [16 25  4 49 25]]\n",
      "[[12 16 18 10 14]\n",
      " [ 6  6 14  6 14]\n",
      " [ 8 10  4 14 10]]\n",
      "[[1.000 1.000 1.000 1.000 1.000]\n",
      " [1.000 1.000 1.000 1.000 1.000]\n",
      " [1.000 1.000 1.000 1.000 1.000]]\n",
      "[[1.792 2.079 2.197 1.609 1.946]\n",
      " [1.099 1.099 1.946 1.099 1.946]\n",
      " [1.386 1.609 0.693 1.946 1.609]]\n",
      "[[403.429 2980.958 8103.084 148.413 1096.633]\n",
      " [20.086 20.086 1096.633 20.086 1096.633]\n",
      " [54.598 148.413 7.389 1096.633 148.413]]\n"
     ]
    }
   ],
   "source": [
    "#Elementwise operations over vector and matrices ...\n",
    "\n",
    "M=np.random.randint(2,10,m1.shape)\n",
    "\n",
    "print (M)\n",
    "print (M**2) #square each element of m3\n",
    "\n",
    "print(M*M)\n",
    "print(M+M)\n",
    "print(M/M)\n",
    "\n",
    "print(np.log(M))\n",
    "\n",
    "print(np.exp(M))"
   ]
  },
  {
   "cell_type": "markdown",
   "metadata": {},
   "source": [
    "Numpy also offers some useful elementwise operations between matrices of different size:"
   ]
  },
  {
   "cell_type": "code",
   "execution_count": 91,
   "metadata": {
    "collapsed": false
   },
   "outputs": [
    {
     "name": "stdout",
     "output_type": "stream",
     "text": [
      "[-1.999 0.803 -1.123 1.576 -0.041 -1.653 0.297 -1.388]\n",
      "\n",
      "\n",
      "[-0.999 1.803 -0.123 2.576 0.959 -0.653 1.297 -0.388]\n",
      "\n",
      "\n",
      "[-1.999 0.803 -1.123 1.576 -0.041 -1.653 0.297 -1.388]\n",
      "\n",
      "\n"
     ]
    }
   ],
   "source": [
    "# Elementwise some of a [1,D]-dimensional vector to each row of a [K,D]-dimensional array\n",
    "\n",
    "V = np.ones([1,8])\n",
    "\n",
    "M = np.random.randn(5,8)\n",
    "\n",
    "print(M[0,:])\n",
    "print('\\n')\n",
    "\n",
    "# Summing V elementwise to each row of M\n",
    "print((M+V)[0,:])\n",
    "print('\\n')\n",
    "\n",
    "# Multiplying V elementwise to each row of M\n",
    "print((M*V)[0,:])\n",
    "print('\\n')\n"
   ]
  },
  {
   "cell_type": "markdown",
   "metadata": {},
   "source": [
    "## Matrix multiplication, inversion and pseudo-inverse"
   ]
  },
  {
   "cell_type": "code",
   "execution_count": 92,
   "metadata": {
    "collapsed": false
   },
   "outputs": [
    {
     "name": "stdout",
     "output_type": "stream",
     "text": [
      "[[0.000 0.000 0.000 0.000 0.000]\n",
      " [0.000 0.000 0.000 0.000 0.000]\n",
      " [0.000 0.000 0.000 0.000 0.000]\n",
      " [0.000 0.000 0.000 0.000 0.000]\n",
      " [0.000 0.000 0.000 0.000 0.000]]\n"
     ]
    }
   ],
   "source": [
    "M2=np.dot(M,M.transpose()) #We have to transpose to be able to multiply the matrices. \n",
    "#In python 3.X, np.dot can  be replaced by @\n",
    "\n",
    "print(M2-(M@M.transpose()))"
   ]
  },
  {
   "cell_type": "code",
   "execution_count": 93,
   "metadata": {
    "collapsed": false
   },
   "outputs": [
    {
     "name": "stdout",
     "output_type": "stream",
     "text": [
      "The determinant of M2 is 3115.1220360173934\n",
      "[[1.000 0.000 0.000 0.000 -0.000]\n",
      " [0.000 1.000 -0.000 0.000 0.000]\n",
      " [0.000 0.000 1.000 0.000 0.000]\n",
      " [-0.000 -0.000 0.000 1.000 -0.000]\n",
      " [-0.000 0.000 -0.000 0.000 1.000]]\n"
     ]
    }
   ],
   "source": [
    "print('The determinant of M2 is %r' %(np.linalg.det(M2)))\n",
    "\n",
    "M2I = np.linalg.pinv(M2)\n",
    "\n",
    "print(M2@M2I)"
   ]
  },
  {
   "cell_type": "markdown",
   "metadata": {},
   "source": [
    "In mathematics, and in particular linear algebra, **a pseudoinverse** $A^+$ of a matrix $A$ is a generalization of the inverse matrix. The most widely known type of matrix pseudoinverse is the [Moore–Penrose inverse](http://mathworld.wolfram.com/Moore-PenroseMatrixInverse.html). \n",
    "\n",
    "When $A$ has linearly independent rows, i.e. $AA^*$ is invertible where $A^*$ is the Hermitian transpose, then the Pseudo-inverse $A^+$ can be computed as follows:\n",
    "\n",
    "$$ A^+ = A^* (AA^*)^{-1} $$\n",
    "\n",
    "and it verifies that $AA^+ =I$.\n"
   ]
  },
  {
   "cell_type": "code",
   "execution_count": 94,
   "metadata": {
    "collapsed": false
   },
   "outputs": [
    {
     "name": "stdout",
     "output_type": "stream",
     "text": [
      "[[1.000 -0.000 -0.000 -0.000 -0.000]\n",
      " [0.000 1.000 -0.000 0.000 -0.000]\n",
      " [-0.000 0.000 1.000 0.000 -0.000]\n",
      " [-0.000 0.000 0.000 1.000 -0.000]\n",
      " [-0.000 0.000 -0.000 -0.000 1.000]]\n",
      "5.0\n",
      "4.4408920985e-15\n"
     ]
    }
   ],
   "source": [
    "M2PSI = np.linalg.pinv(M)\n",
    "\n",
    "print(M @ M2PSI)\n",
    "\n",
    "print(np.trace(M @ M2PSI))\n",
    "\n",
    "print(np.trace(M @ M2PSI)-np.sum(M @ M2PSI)) # Sum of out diagonal elements"
   ]
  },
  {
   "cell_type": "markdown",
   "metadata": {},
   "source": [
    "## Some useful functions to create arrays"
   ]
  },
  {
   "cell_type": "code",
   "execution_count": 96,
   "metadata": {
    "collapsed": false
   },
   "outputs": [
    {
     "name": "stdout",
     "output_type": "stream",
     "text": [
      "[-3.000 -2.579 -2.158 -1.737 -1.316 -0.895 -0.474 -0.053 0.368 0.789 1.211\n",
      " 1.632 2.053 2.474 2.895 3.316 3.737 4.158 4.579 5.000]\n",
      "[1.000 12.915 166.810 2154.435 27825.594 359381.366 4641588.834\n",
      " 59948425.032 774263682.681 10000000000.000]\n",
      "[-3.000 -2.500 -2.000 -1.500 -1.000 -0.500 0.000 0.500 1.000 1.500 2.000\n",
      " 2.500 3.000 3.500 4.000 4.500]\n"
     ]
    }
   ],
   "source": [
    "v = np.linspace(-3,5,20) # 20 elements equally spaced in the -3,5 range\n",
    "\n",
    "print(v)\n",
    "\n",
    "v2 = np.logspace(0,10,10) # 10 elements equally spaced in the 10^0,10^10 range\n",
    "\n",
    "print(v2)\n",
    "\n",
    "v3 = np.arange(-3,5,0.5) \n",
    "\n",
    "print(v3)\n",
    "\n"
   ]
  },
  {
   "cell_type": "markdown",
   "metadata": {},
   "source": [
    "## Saving data using the pickle package\n",
    "\n",
    "The [pickle module](https://docs.python.org/2/library/pickle.html) implements a fundamental, but powerful algorithm for serializing and de-serializing a Python object structure. Essentially, it converts all objects you want to save into a text file.\n",
    "\n",
    "\n",
    "To save data into a pickle file, we will create a dictionary will all fields we want to save.\n"
   ]
  },
  {
   "cell_type": "code",
   "execution_count": 107,
   "metadata": {
    "collapsed": false
   },
   "outputs": [
    {
     "name": "stdout",
     "output_type": "stream",
     "text": [
      "[2 4 6]\n",
      "[2 4 6]\n"
     ]
    }
   ],
   "source": [
    "import pickle\n",
    "\n",
    "save_data = {'v1': v1, 'v2': v2, 'v3':v3} #v1,v2,v3 are defined above\n",
    "\n",
    "with open('my_pick_file.pickle', 'wb') as handle:\n",
    "    pickle.dump(save_data, handle, protocol=pickle.HIGHEST_PROTOCOL)\n",
    "\n",
    "with open('my_pick_file.pickle', 'rb') as handle:\n",
    "    load_data = pickle.load(handle)\n",
    "\n",
    "print(save_data['v1'])\n",
    "print(load_data['v1'])"
   ]
  },
  {
   "cell_type": "markdown",
   "metadata": {},
   "source": [
    "## Matplotlib: creating plots \n",
    "\n",
    "More information is available in http://matplotlib.org/users/pyplot_tutorial.html\n"
   ]
  },
  {
   "cell_type": "code",
   "execution_count": 99,
   "metadata": {
    "collapsed": true
   },
   "outputs": [],
   "source": [
    "import matplotlib.pyplot as plt\n",
    "#The following is required to print the plots inside the notebooks\n",
    "%matplotlib inline \n",
    "\n",
    "#Lets plot some stuff\n",
    "c=0.01\n",
    "\n",
    "x=np.arange(0,10,5e-2)\n",
    "\n",
    "y=np.cos(x)+np.random.rand(x.shape[0],)\n",
    "\n",
    "z=np.sign(y)"
   ]
  },
  {
   "cell_type": "code",
   "execution_count": 109,
   "metadata": {
    "collapsed": false
   },
   "outputs": [
    {
     "data": {
      "image/png": "[encoded data removed]",
      "text/plain": [
       "<matplotlib.figure.Figure at 0x10af18780>"
      ]
     },
     "metadata": {},
     "output_type": "display_data"
    }
   ],
   "source": [
    "plt.plot(x,y,label='y')\n",
    "plt.xlabel('x')\n",
    "plt.ylabel('y')\n",
    "plt.legend()\n",
    "\n",
    "plt.gcf #Get current figure\n",
    "plt.plot(x,z,'ro',label='sign(y)')\n",
    "plt.legend()\n",
    "\n",
    "\n",
    "plt.savefig('my_figure.png') #To print into a png file"
   ]
  },
  {
   "cell_type": "code",
   "execution_count": 103,
   "metadata": {
    "collapsed": false
   },
   "outputs": [
    {
     "name": "stdout",
     "output_type": "stream",
     "text": [
      "[0, 3, 6, 9, 12, 15, 18, 21]\n"
     ]
    },
    {
     "data": {
      "image/png": "[encoded data removed]",
      "text/plain": [
       "<matplotlib.figure.Figure at 0x10a862a90>"
      ]
     },
     "metadata": {},
     "output_type": "display_data"
    }
   ],
   "source": [
    "# our X values:\n",
    "days = list(range(0, 22, 3))\n",
    "print(days)\n",
    "# our Y values:\n",
    "celsius_values = [25.6, 24.1, 26.7, 28.3, 27.5, 30.5, 32.8, 33.1]\n",
    "plt.stem(days, celsius_values,\"-or\")\n",
    "plt.xlabel('Day')\n",
    "plt.ylabel('Degrees Celsius')\n",
    "plt.show()"
   ]
  },
  {
   "cell_type": "code",
   "execution_count": null,
   "metadata": {
    "collapsed": true
   },
   "outputs": [],
   "source": []
  }
 ],
 "metadata": {
  "anaconda-cloud": {},
  "kernelspec": {
   "display_name": "Python 3",
   "language": "python",
   "name": "python3"
  },
  "language_info": {
   "codemirror_mode": {
    "name": "ipython",
    "version": 3
   },
   "file_extension": ".py",
   "mimetype": "text/x-python",
   "name": "python",
   "nbconvert_exporter": "python",
   "pygments_lexer": "ipython3",
   "version": "3.6.0"
  }
 },
 "nbformat": 4,
 "nbformat_minor": 1
}
